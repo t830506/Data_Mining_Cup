{
 "cells": [
  {
   "cell_type": "code",
   "execution_count": 1,
   "metadata": {
    "collapsed": false
   },
   "outputs": [
    {
     "name": "stderr",
     "output_type": "stream",
     "text": [
      "/anaconda/lib/python3.6/site-packages/sklearn/cross_validation.py:44: DeprecationWarning: This module was deprecated in version 0.18 in favor of the model_selection module into which all the refactored classes and functions are moved. Also note that the interface of the new CV iterators are different from that of this module. This module will be removed in 0.20.\n",
      "  \"This module will be removed in 0.20.\", DeprecationWarning)\n",
      "Using TensorFlow backend.\n"
     ]
    },
    {
     "data": {
      "text/html": [
       "<script>jQuery(function() {if (jQuery(\"body.notebook_app\").length == 0) { jQuery(\".input_area\").toggle(); jQuery(\".prompt\").toggle();}});</script>"
      ]
     },
     "metadata": {},
     "output_type": "display_data"
    }
   ],
   "source": [
    "import pylab\n",
    "import numpy as np\n",
    "import pandas as pd\n",
    "import matplotlib\n",
    "import matplotlib.pyplot as plt\n",
    "from IPython.display import display\n",
    "from sklearn.ensemble import RandomForestRegressor\n",
    "from sklearn.preprocessing import MinMaxScaler\n",
    "from sklearn.model_selection import train_test_split\n",
    "from sklearn.metrics import accuracy_score\n",
    "from sklearn.cross_validation import cross_val_score\n",
    "from sklearn.metrics import mean_squared_error\n",
    "from sklearn.tree import DecisionTreeClassifier\n",
    "from keras.utils import np_utils\n",
    "from sklearn.metrics import confusion_matrix\n",
    "from sklearn.metrics import accuracy_score\n",
    "\n",
    "import IPython.core.display as di\n",
    "di.display_html('<script>jQuery(function() {if (jQuery(\"body.notebook_app\").length == 0) { jQuery(\".input_area\").toggle(); jQuery(\".prompt\").toggle();}});</script>', raw=True)"
   ]
  },
  {
   "cell_type": "markdown",
   "metadata": {},
   "source": [
    "## items imformation"
   ]
  },
  {
   "cell_type": "code",
   "execution_count": 2,
   "metadata": {
    "collapsed": false,
    "scrolled": false
   },
   "outputs": [
    {
     "name": "stdout",
     "output_type": "stream",
     "text": [
      "(22035, 11)\n"
     ]
    }
   ],
   "source": [
    "df_items0 = pd.read_csv(\"DATA/DMC_2017_task/items.csv\", sep = \"|\")\n",
    "print(df_items0.shape)\n",
    "\n",
    "del df_items0[\"campaignIndex\"]\n",
    "df_items0.pharmForm = df_items0.pharmForm.str.upper()"
   ]
  },
  {
   "cell_type": "code",
   "execution_count": 3,
   "metadata": {
    "collapsed": false
   },
   "outputs": [
    {
     "data": {
      "text/html": [
       "<div>\n",
       "<table border=\"1\" class=\"dataframe\">\n",
       "  <thead>\n",
       "    <tr style=\"text-align: right;\">\n",
       "      <th></th>\n",
       "      <th>pid</th>\n",
       "      <th>manufacturer</th>\n",
       "      <th>group</th>\n",
       "      <th>unit</th>\n",
       "      <th>pharmForm</th>\n",
       "      <th>genericProduct</th>\n",
       "      <th>salesIndex</th>\n",
       "      <th>category</th>\n",
       "      <th>rrp</th>\n",
       "      <th>Content</th>\n",
       "    </tr>\n",
       "  </thead>\n",
       "  <tbody>\n",
       "    <tr>\n",
       "      <th>0</th>\n",
       "      <td>1</td>\n",
       "      <td>1</td>\n",
       "      <td>529</td>\n",
       "      <td>7</td>\n",
       "      <td>135</td>\n",
       "      <td>0</td>\n",
       "      <td>40</td>\n",
       "      <td>NaN</td>\n",
       "      <td>10.89</td>\n",
       "      <td>80.0</td>\n",
       "    </tr>\n",
       "    <tr>\n",
       "      <th>1</th>\n",
       "      <td>2</td>\n",
       "      <td>1</td>\n",
       "      <td>529</td>\n",
       "      <td>7</td>\n",
       "      <td>135</td>\n",
       "      <td>0</td>\n",
       "      <td>40</td>\n",
       "      <td>NaN</td>\n",
       "      <td>10.89</td>\n",
       "      <td>80.0</td>\n",
       "    </tr>\n",
       "    <tr>\n",
       "      <th>2</th>\n",
       "      <td>3</td>\n",
       "      <td>1</td>\n",
       "      <td>529</td>\n",
       "      <td>1</td>\n",
       "      <td>45</td>\n",
       "      <td>0</td>\n",
       "      <td>40</td>\n",
       "      <td>NaN</td>\n",
       "      <td>16.45</td>\n",
       "      <td>10.0</td>\n",
       "    </tr>\n",
       "    <tr>\n",
       "      <th>3</th>\n",
       "      <td>4</td>\n",
       "      <td>1</td>\n",
       "      <td>529</td>\n",
       "      <td>7</td>\n",
       "      <td>135</td>\n",
       "      <td>0</td>\n",
       "      <td>40</td>\n",
       "      <td>NaN</td>\n",
       "      <td>10.89</td>\n",
       "      <td>80.0</td>\n",
       "    </tr>\n",
       "    <tr>\n",
       "      <th>4</th>\n",
       "      <td>5</td>\n",
       "      <td>2</td>\n",
       "      <td>74</td>\n",
       "      <td>7</td>\n",
       "      <td>112</td>\n",
       "      <td>0</td>\n",
       "      <td>40</td>\n",
       "      <td>1.0</td>\n",
       "      <td>22.53</td>\n",
       "      <td>8.0</td>\n",
       "    </tr>\n",
       "  </tbody>\n",
       "</table>\n",
       "</div>"
      ],
      "text/plain": [
       "   pid  manufacturer  group  unit  pharmForm  genericProduct  salesIndex  \\\n",
       "0    1             1    529     7        135               0          40   \n",
       "1    2             1    529     7        135               0          40   \n",
       "2    3             1    529     1         45               0          40   \n",
       "3    4             1    529     7        135               0          40   \n",
       "4    5             2     74     7        112               0          40   \n",
       "\n",
       "   category    rrp  Content  \n",
       "0       NaN  10.89     80.0  \n",
       "1       NaN  10.89     80.0  \n",
       "2       NaN  16.45     10.0  \n",
       "3       NaN  10.89     80.0  \n",
       "4       1.0  22.53      8.0  "
      ]
     },
     "execution_count": 3,
     "metadata": {},
     "output_type": "execute_result"
    }
   ],
   "source": [
    "content = pd.DataFrame(df_items0.content.str.split('X',2).tolist(), columns = ['x','y','z'])\n",
    "content = content.fillna('1')\n",
    "content.x = pd.to_numeric(content.x, errors='coerce')\n",
    "content.y = pd.to_numeric(content.y, errors='coerce')\n",
    "content.z = pd.to_numeric(content.z, errors='coerce')\n",
    "content['Content'] = content.x * content.y * content.z\n",
    "df_items1 = pd.concat([df_items0, content], axis=1, join_axes=[df_items0.index])\n",
    "del df_items1[\"x\"]\n",
    "del df_items1[\"y\"]\n",
    "del df_items1[\"z\"]\n",
    "del df_items1[\"content\"]\n",
    "\n",
    "df_items1.group = df_items1.group.astype(\"category\").cat.codes\n",
    "df_items1.unit = df_items1.unit.astype(\"category\").cat.codes\n",
    "df_items1.pharmForm = df_items1.pharmForm.astype(\"category\").cat.codes\n",
    "#df_items = pd.get_dummies(df_items)\n",
    "\n",
    "df_items1.head()"
   ]
  },
  {
   "cell_type": "markdown",
   "metadata": {},
   "source": [
    "content: 幾乘幾, pharmForm: 藥品型態, genericProduct: 是否為基因產品, salesIndex: 配送規則代碼, category: Main shop category, rrp: reference price"
   ]
  },
  {
   "cell_type": "code",
   "execution_count": 4,
   "metadata": {
    "collapsed": false
   },
   "outputs": [
    {
     "data": {
      "image/png": "[encoded data removed]",
      "text/plain": [
       "<matplotlib.figure.Figure at 0x11c867550>"
      ]
     },
     "metadata": {},
     "output_type": "display_data"
    }
   ],
   "source": [
    "df_items1.corr()\n",
    "\n",
    "plt.figure(num=None, figsize=(8, 8))\n",
    "plt.imshow(df_items1.corr(), cmap=plt.cm.Blues, interpolation='nearest')\n",
    "plt.colorbar()\n",
    "tick_marks = [i for i in range(len(df_items1.columns))]\n",
    "plt.xticks(tick_marks, df_items1.columns, rotation='vertical')\n",
    "plt.yticks(tick_marks, df_items1.columns)\n",
    "plt.title('Variance Covariance Matrix', fontsize = 12)\n",
    "\n",
    "plt.show()"
   ]
  },
  {
   "cell_type": "markdown",
   "metadata": {},
   "source": [
    "## feature extraction"
   ]
  },
  {
   "cell_type": "code",
   "execution_count": 5,
   "metadata": {
    "collapsed": true
   },
   "outputs": [],
   "source": [
    "def onehot1(df):\n",
    "    onehot = np.array(pd.get_dummies(df))\n",
    "    original_dim = onehot.shape[1]\n",
    "    print('original dimension : %d' % onehot.shape[1])\n",
    "    return onehot, original_dim\n",
    "\n",
    "def onehot2(df):\n",
    "    df_le = pd.DataFrame(np_utils.to_categorical(df,(max(df)+1)))\n",
    "    original_dim = df_le.shape[1]\n",
    "    print('original dimension : %d' % df_le.shape[1])\n",
    "    return df_le, original_dim\n",
    "\n",
    "def auto(df, dim):\n",
    "    from keras.layers import Input, Dense\n",
    "    from keras.models import Model\n",
    "    from keras.callbacks import TensorBoard\n",
    "    encoding_dim = dim\n",
    "\n",
    "    input_img = Input(shape=(df.shape[1],))\n",
    "    encoded = Dense(1000, activation='relu')(input_img)\n",
    "    encoded = Dense(500, activation='relu')(encoded)\n",
    "    encoded = Dense(250, activation='relu')(encoded)\n",
    "    encoded = Dense(encoding_dim, activation='relu')(encoded)\n",
    "\n",
    "    decoded = Dense(128, activation='relu')(encoded)\n",
    "    decoded = Dense(250, activation='relu')(decoded)\n",
    "    decoded = Dense(500, activation='relu')(decoded)\n",
    "    decoded = Dense(1000, activation='relu')(decoded)\n",
    "    decoded = Dense(df.shape[1], activation='sigmoid')(decoded)\n",
    "\n",
    "    autoencoder = Model(input=input_img, output=decoded)\n",
    "    autoencoder.compile(optimizer='adadelta', loss='binary_crossentropy')\n",
    "    history = autoencoder.fit(df, df,\n",
    "                              nb_epoch = nb_epoch,\n",
    "                              batch_size = 256,\n",
    "                              shuffle = True,\n",
    "                              validation_split=0.2)\n",
    "    from keras import backend as K\n",
    "    target_layer = K.function(autoencoder.inputs, [autoencoder.layers[4].output])\n",
    "    ## Extract output from the target hidden layer.\n",
    "    target_layer_out = target_layer([df])\n",
    "    df_auto = pd.DataFrame(np.array(target_layer_out[0]))\n",
    "    print('encoding dimension : %d' % (df_auto.shape[1]))\n",
    "    return history, df_auto\n",
    "\n",
    "def Plot(train_value, test_value, value_is_loss_or_acc):\n",
    "    f, ax = plt.subplots()\n",
    "    ax.plot([None] + train_value, 'o-')\n",
    "    ax.plot([None] + test_value, 'x-')\n",
    "    ax.legend(['Train ' + value_is_loss_or_acc, 'Validation ' + value_is_loss_or_acc], loc = 0) \n",
    "    ax.set_title('Training/Validation ' + value_is_loss_or_acc + ' per Epoch')\n",
    "    ax.set_xlabel('Epoch')\n",
    "    ax.set_ylabel(value_is_loss_or_acc)  \n",
    "    plt.show()\n",
    "\n",
    "def F1(x):\n",
    "    df_onehot, original_dim = onehot1(x)\n",
    "    df_his, df_auto = auto(df_onehot, int(original_dim/10))\n",
    "    Plot(df_his.history['loss'], df_his.history['val_loss'], 'Loss')\n",
    "    return df_auto\n",
    "\n",
    "def F2(x):\n",
    "    df_onehot, original_dim = onehot2(x)\n",
    "    df_his, df_auto = auto(np.array(df_onehot), int(original_dim/10))\n",
    "    Plot(df_his.history['loss'], df_his.history['val_loss'], 'Loss')\n",
    "    return df_auto"
   ]
  },
  {
   "cell_type": "markdown",
   "metadata": {},
   "source": [
    "### onehotencoder"
   ]
  },
  {
   "cell_type": "code",
   "execution_count": 6,
   "metadata": {
    "collapsed": false
   },
   "outputs": [
    {
     "name": "stdout",
     "output_type": "stream",
     "text": [
      "original dimension : 533\n",
      "original dimension : 183\n",
      "original dimension : 8\n",
      "original dimension : 1068\n",
      "original dimension : 54\n"
     ]
    },
    {
     "data": {
      "text/html": [
       "<div>\n",
       "<table border=\"1\" class=\"dataframe\">\n",
       "  <thead>\n",
       "    <tr style=\"text-align: right;\">\n",
       "      <th></th>\n",
       "      <th>pid</th>\n",
       "      <th>genericProduct</th>\n",
       "      <th>category</th>\n",
       "      <th>rrp</th>\n",
       "      <th>Content</th>\n",
       "      <th>0</th>\n",
       "      <th>1</th>\n",
       "      <th>2</th>\n",
       "      <th>3</th>\n",
       "      <th>4</th>\n",
       "      <th>...</th>\n",
       "      <th>44</th>\n",
       "      <th>45</th>\n",
       "      <th>46</th>\n",
       "      <th>47</th>\n",
       "      <th>48</th>\n",
       "      <th>49</th>\n",
       "      <th>50</th>\n",
       "      <th>51</th>\n",
       "      <th>52</th>\n",
       "      <th>53</th>\n",
       "    </tr>\n",
       "  </thead>\n",
       "  <tbody>\n",
       "    <tr>\n",
       "      <th>0</th>\n",
       "      <td>1</td>\n",
       "      <td>0</td>\n",
       "      <td>NaN</td>\n",
       "      <td>10.89</td>\n",
       "      <td>80.0</td>\n",
       "      <td>0.0</td>\n",
       "      <td>0.0</td>\n",
       "      <td>0.0</td>\n",
       "      <td>0.0</td>\n",
       "      <td>0.0</td>\n",
       "      <td>...</td>\n",
       "      <td>0.0</td>\n",
       "      <td>0.0</td>\n",
       "      <td>0.0</td>\n",
       "      <td>0.0</td>\n",
       "      <td>0.0</td>\n",
       "      <td>0.0</td>\n",
       "      <td>0.0</td>\n",
       "      <td>0.0</td>\n",
       "      <td>0.0</td>\n",
       "      <td>0.0</td>\n",
       "    </tr>\n",
       "    <tr>\n",
       "      <th>1</th>\n",
       "      <td>2</td>\n",
       "      <td>0</td>\n",
       "      <td>NaN</td>\n",
       "      <td>10.89</td>\n",
       "      <td>80.0</td>\n",
       "      <td>0.0</td>\n",
       "      <td>0.0</td>\n",
       "      <td>0.0</td>\n",
       "      <td>0.0</td>\n",
       "      <td>0.0</td>\n",
       "      <td>...</td>\n",
       "      <td>0.0</td>\n",
       "      <td>0.0</td>\n",
       "      <td>0.0</td>\n",
       "      <td>0.0</td>\n",
       "      <td>0.0</td>\n",
       "      <td>0.0</td>\n",
       "      <td>0.0</td>\n",
       "      <td>0.0</td>\n",
       "      <td>0.0</td>\n",
       "      <td>0.0</td>\n",
       "    </tr>\n",
       "    <tr>\n",
       "      <th>2</th>\n",
       "      <td>3</td>\n",
       "      <td>0</td>\n",
       "      <td>NaN</td>\n",
       "      <td>16.45</td>\n",
       "      <td>10.0</td>\n",
       "      <td>0.0</td>\n",
       "      <td>0.0</td>\n",
       "      <td>0.0</td>\n",
       "      <td>0.0</td>\n",
       "      <td>0.0</td>\n",
       "      <td>...</td>\n",
       "      <td>0.0</td>\n",
       "      <td>0.0</td>\n",
       "      <td>0.0</td>\n",
       "      <td>0.0</td>\n",
       "      <td>0.0</td>\n",
       "      <td>0.0</td>\n",
       "      <td>0.0</td>\n",
       "      <td>0.0</td>\n",
       "      <td>0.0</td>\n",
       "      <td>0.0</td>\n",
       "    </tr>\n",
       "    <tr>\n",
       "      <th>3</th>\n",
       "      <td>4</td>\n",
       "      <td>0</td>\n",
       "      <td>NaN</td>\n",
       "      <td>10.89</td>\n",
       "      <td>80.0</td>\n",
       "      <td>0.0</td>\n",
       "      <td>0.0</td>\n",
       "      <td>0.0</td>\n",
       "      <td>0.0</td>\n",
       "      <td>0.0</td>\n",
       "      <td>...</td>\n",
       "      <td>0.0</td>\n",
       "      <td>0.0</td>\n",
       "      <td>0.0</td>\n",
       "      <td>0.0</td>\n",
       "      <td>0.0</td>\n",
       "      <td>0.0</td>\n",
       "      <td>0.0</td>\n",
       "      <td>0.0</td>\n",
       "      <td>0.0</td>\n",
       "      <td>0.0</td>\n",
       "    </tr>\n",
       "    <tr>\n",
       "      <th>4</th>\n",
       "      <td>5</td>\n",
       "      <td>0</td>\n",
       "      <td>1.0</td>\n",
       "      <td>22.53</td>\n",
       "      <td>8.0</td>\n",
       "      <td>0.0</td>\n",
       "      <td>0.0</td>\n",
       "      <td>0.0</td>\n",
       "      <td>0.0</td>\n",
       "      <td>0.0</td>\n",
       "      <td>...</td>\n",
       "      <td>0.0</td>\n",
       "      <td>0.0</td>\n",
       "      <td>0.0</td>\n",
       "      <td>0.0</td>\n",
       "      <td>0.0</td>\n",
       "      <td>0.0</td>\n",
       "      <td>0.0</td>\n",
       "      <td>0.0</td>\n",
       "      <td>0.0</td>\n",
       "      <td>0.0</td>\n",
       "    </tr>\n",
       "  </tbody>\n",
       "</table>\n",
       "<p>5 rows × 1851 columns</p>\n",
       "</div>"
      ],
      "text/plain": [
       "   pid  genericProduct  category    rrp  Content    0    1    2    3    4  \\\n",
       "0    1               0       NaN  10.89     80.0  0.0  0.0  0.0  0.0  0.0   \n",
       "1    2               0       NaN  10.89     80.0  0.0  0.0  0.0  0.0  0.0   \n",
       "2    3               0       NaN  16.45     10.0  0.0  0.0  0.0  0.0  0.0   \n",
       "3    4               0       NaN  10.89     80.0  0.0  0.0  0.0  0.0  0.0   \n",
       "4    5               0       1.0  22.53      8.0  0.0  0.0  0.0  0.0  0.0   \n",
       "\n",
       "  ...    44   45   46   47   48   49   50   51   52   53  \n",
       "0 ...   0.0  0.0  0.0  0.0  0.0  0.0  0.0  0.0  0.0  0.0  \n",
       "1 ...   0.0  0.0  0.0  0.0  0.0  0.0  0.0  0.0  0.0  0.0  \n",
       "2 ...   0.0  0.0  0.0  0.0  0.0  0.0  0.0  0.0  0.0  0.0  \n",
       "3 ...   0.0  0.0  0.0  0.0  0.0  0.0  0.0  0.0  0.0  0.0  \n",
       "4 ...   0.0  0.0  0.0  0.0  0.0  0.0  0.0  0.0  0.0  0.0  \n",
       "\n",
       "[5 rows x 1851 columns]"
      ]
     },
     "execution_count": 6,
     "metadata": {},
     "output_type": "execute_result"
    }
   ],
   "source": [
    "g1, g1_dim = onehot2(df_items1.group)\n",
    "p1, p1_dim = onehot2(df_items1.pharmForm)\n",
    "u1, u1_dim = onehot2(df_items1.unit)\n",
    "m1, m1_dim = onehot2(df_items1.manufacturer)\n",
    "s1, s1_dim = onehot2(df_items1.salesIndex)\n",
    "\n",
    "df_items_oh0 = pd.concat([df_items1, g1, p1, u1, m1, s1], axis=1, join_axes=[df_items1.index])\n",
    "df_items_oh = df_items_oh0.drop([\"group\", \"pharmForm\", \"unit\", \"manufacturer\", \"salesIndex\"], axis=1)\n",
    "df_items_oh.head()"
   ]
  },
  {
   "cell_type": "markdown",
   "metadata": {},
   "source": [
    "### autoencoder"
   ]
  },
  {
   "cell_type": "markdown",
   "metadata": {
    "collapsed": false,
    "scrolled": true
   },
   "source": [
    "nb_epoch = 2  \n",
    "g = F2(df_items1.group)  \n",
    "p = F2(df_items1.pharmForm)  \n",
    "u, u_dim = onehot2(df_items1.unit)  \n",
    "m = F2(df_items1.manufacturer)  \n",
    "s = F2(df_items1.salesIndex)  "
   ]
  },
  {
   "cell_type": "markdown",
   "metadata": {
    "collapsed": false
   },
   "source": [
    "df_items0 = pd.concat([df_items1, g, p, pd.DataFrame(u), m, s], axis=1, join_axes=[df_items1.index])  \n",
    "df_items = df_items0.drop([\"group\", \"pharmForm\", \"unit\", \"manufacturer\", \"salesIndex\"], axis=1)  \n",
    "df_items.head()  "
   ]
  },
  {
   "cell_type": "code",
   "execution_count": 7,
   "metadata": {
    "collapsed": true
   },
   "outputs": [],
   "source": [
    "def missing(df):\n",
    "    print('Size of testing dataset : %d' % (df.shape[0]))\n",
    "    df1 = df.dropna()\n",
    "    print('Size of testing dataset DropNA : %d' % (df1.shape[0]))\n",
    "    display(df.isnull().sum())"
   ]
  },
  {
   "cell_type": "code",
   "execution_count": 8,
   "metadata": {
    "collapsed": false,
    "scrolled": true
   },
   "outputs": [
    {
     "name": "stdout",
     "output_type": "stream",
     "text": [
      "Size of testing dataset : 22035\n",
      "Size of testing dataset DropNA : 17406\n"
     ]
    },
    {
     "data": {
      "text/plain": [
       "pid                  0\n",
       "genericProduct       0\n",
       "category          4627\n",
       "rrp                  0\n",
       "Content              2\n",
       "0                    0\n",
       "1                    0\n",
       "2                    0\n",
       "3                    0\n",
       "4                    0\n",
       "5                    0\n",
       "6                    0\n",
       "7                    0\n",
       "8                    0\n",
       "9                    0\n",
       "10                   0\n",
       "11                   0\n",
       "12                   0\n",
       "13                   0\n",
       "14                   0\n",
       "15                   0\n",
       "16                   0\n",
       "17                   0\n",
       "18                   0\n",
       "19                   0\n",
       "20                   0\n",
       "21                   0\n",
       "22                   0\n",
       "23                   0\n",
       "24                   0\n",
       "                  ... \n",
       "24                   0\n",
       "25                   0\n",
       "26                   0\n",
       "27                   0\n",
       "28                   0\n",
       "29                   0\n",
       "30                   0\n",
       "31                   0\n",
       "32                   0\n",
       "33                   0\n",
       "34                   0\n",
       "35                   0\n",
       "36                   0\n",
       "37                   0\n",
       "38                   0\n",
       "39                   0\n",
       "40                   0\n",
       "41                   0\n",
       "42                   0\n",
       "43                   0\n",
       "44                   0\n",
       "45                   0\n",
       "46                   0\n",
       "47                   0\n",
       "48                   0\n",
       "49                   0\n",
       "50                   0\n",
       "51                   0\n",
       "52                   0\n",
       "53                   0\n",
       "dtype: int64"
      ]
     },
     "metadata": {},
     "output_type": "display_data"
    }
   ],
   "source": [
    "missing(df_items_oh)"
   ]
  },
  {
   "cell_type": "markdown",
   "metadata": {},
   "source": [
    "## testing set"
   ]
  },
  {
   "cell_type": "code",
   "execution_count": 9,
   "metadata": {
    "collapsed": false
   },
   "outputs": [
    {
     "name": "stdout",
     "output_type": "stream",
     "text": [
      "(1210767, 7)\n"
     ]
    },
    {
     "data": {
      "text/html": [
       "<div>\n",
       "<table border=\"1\" class=\"dataframe\">\n",
       "  <thead>\n",
       "    <tr style=\"text-align: right;\">\n",
       "      <th></th>\n",
       "      <th>lineID</th>\n",
       "      <th>day</th>\n",
       "      <th>pid</th>\n",
       "      <th>adFlag</th>\n",
       "      <th>availability</th>\n",
       "      <th>competitorPrice</th>\n",
       "      <th>price</th>\n",
       "    </tr>\n",
       "  </thead>\n",
       "  <tbody>\n",
       "    <tr>\n",
       "      <th>0</th>\n",
       "      <td>1</td>\n",
       "      <td>93</td>\n",
       "      <td>4772</td>\n",
       "      <td>0</td>\n",
       "      <td>1</td>\n",
       "      <td>11.54</td>\n",
       "      <td>12.04</td>\n",
       "    </tr>\n",
       "    <tr>\n",
       "      <th>1</th>\n",
       "      <td>2</td>\n",
       "      <td>93</td>\n",
       "      <td>11548</td>\n",
       "      <td>0</td>\n",
       "      <td>2</td>\n",
       "      <td>6.84</td>\n",
       "      <td>8.60</td>\n",
       "    </tr>\n",
       "    <tr>\n",
       "      <th>2</th>\n",
       "      <td>3</td>\n",
       "      <td>93</td>\n",
       "      <td>1958</td>\n",
       "      <td>0</td>\n",
       "      <td>1</td>\n",
       "      <td>9.67</td>\n",
       "      <td>10.39</td>\n",
       "    </tr>\n",
       "    <tr>\n",
       "      <th>3</th>\n",
       "      <td>4</td>\n",
       "      <td>93</td>\n",
       "      <td>15071</td>\n",
       "      <td>0</td>\n",
       "      <td>2</td>\n",
       "      <td>17.37</td>\n",
       "      <td>16.45</td>\n",
       "    </tr>\n",
       "    <tr>\n",
       "      <th>4</th>\n",
       "      <td>5</td>\n",
       "      <td>93</td>\n",
       "      <td>2117</td>\n",
       "      <td>0</td>\n",
       "      <td>1</td>\n",
       "      <td>4.94</td>\n",
       "      <td>5.45</td>\n",
       "    </tr>\n",
       "  </tbody>\n",
       "</table>\n",
       "</div>"
      ],
      "text/plain": [
       "   lineID  day    pid  adFlag  availability  competitorPrice  price\n",
       "0       1   93   4772       0             1            11.54  12.04\n",
       "1       2   93  11548       0             2             6.84   8.60\n",
       "2       3   93   1958       0             1             9.67  10.39\n",
       "3       4   93  15071       0             2            17.37  16.45\n",
       "4       5   93   2117       0             1             4.94   5.45"
      ]
     },
     "execution_count": 9,
     "metadata": {},
     "output_type": "execute_result"
    }
   ],
   "source": [
    "df_class = pd.read_csv(\"DATA/DMC_2017_task/class.csv\", sep = \"|\")\n",
    "print(df_class.shape)\n",
    "\n",
    "df_class.head()"
   ]
  },
  {
   "cell_type": "markdown",
   "metadata": {},
   "source": [
    "## training set "
   ]
  },
  {
   "cell_type": "code",
   "execution_count": 10,
   "metadata": {
    "collapsed": false,
    "scrolled": false
   },
   "outputs": [
    {
     "name": "stdout",
     "output_type": "stream",
     "text": [
      "(2756003, 11)\n"
     ]
    },
    {
     "name": "stderr",
     "output_type": "stream",
     "text": [
      "/anaconda/lib/python3.6/site-packages/ipykernel/__main__.py:10: SettingWithCopyWarning: \n",
      "A value is trying to be set on a copy of a slice from a DataFrame.\n",
      "Try using .loc[row_indexer,col_indexer] = value instead\n",
      "\n",
      "See the caveats in the documentation: http://pandas.pydata.org/pandas-docs/stable/indexing.html#indexing-view-versus-copy\n",
      "/anaconda/lib/python3.6/site-packages/ipykernel/__main__.py:11: SettingWithCopyWarning: \n",
      "A value is trying to be set on a copy of a slice from a DataFrame.\n",
      "Try using .loc[row_indexer,col_indexer] = value instead\n",
      "\n",
      "See the caveats in the documentation: http://pandas.pydata.org/pandas-docs/stable/indexing.html#indexing-view-versus-copy\n",
      "/anaconda/lib/python3.6/site-packages/ipykernel/__main__.py:12: SettingWithCopyWarning: \n",
      "A value is trying to be set on a copy of a slice from a DataFrame.\n",
      "Try using .loc[row_indexer,col_indexer] = value instead\n",
      "\n",
      "See the caveats in the documentation: http://pandas.pydata.org/pandas-docs/stable/indexing.html#indexing-view-versus-copy\n"
     ]
    },
    {
     "name": "stdout",
     "output_type": "stream",
     "text": [
      "original dimension : 2\n",
      "original dimension : 5\n"
     ]
    },
    {
     "data": {
      "text/html": [
       "<div>\n",
       "<table border=\"1\" class=\"dataframe\">\n",
       "  <thead>\n",
       "    <tr style=\"text-align: right;\">\n",
       "      <th></th>\n",
       "      <th>lineID</th>\n",
       "      <th>day</th>\n",
       "      <th>pid</th>\n",
       "      <th>competitorPrice</th>\n",
       "      <th>click</th>\n",
       "      <th>basket</th>\n",
       "      <th>order</th>\n",
       "      <th>price</th>\n",
       "      <th>revenue</th>\n",
       "      <th>number</th>\n",
       "      <th>dif</th>\n",
       "      <th>class_label</th>\n",
       "      <th>0</th>\n",
       "      <th>1</th>\n",
       "      <th>0</th>\n",
       "      <th>1</th>\n",
       "      <th>2</th>\n",
       "      <th>3</th>\n",
       "      <th>4</th>\n",
       "    </tr>\n",
       "  </thead>\n",
       "  <tbody>\n",
       "    <tr>\n",
       "      <th>0</th>\n",
       "      <td>1</td>\n",
       "      <td>1</td>\n",
       "      <td>6570</td>\n",
       "      <td>14.60</td>\n",
       "      <td>1</td>\n",
       "      <td>0</td>\n",
       "      <td>0</td>\n",
       "      <td>16.89</td>\n",
       "      <td>0.0</td>\n",
       "      <td>0.0</td>\n",
       "      <td>2.29</td>\n",
       "      <td>0</td>\n",
       "      <td>1.0</td>\n",
       "      <td>0.0</td>\n",
       "      <td>0.0</td>\n",
       "      <td>0.0</td>\n",
       "      <td>1.0</td>\n",
       "      <td>0.0</td>\n",
       "      <td>0.0</td>\n",
       "    </tr>\n",
       "    <tr>\n",
       "      <th>7</th>\n",
       "      <td>8</td>\n",
       "      <td>1</td>\n",
       "      <td>16963</td>\n",
       "      <td>8.78</td>\n",
       "      <td>1</td>\n",
       "      <td>0</td>\n",
       "      <td>0</td>\n",
       "      <td>8.75</td>\n",
       "      <td>0.0</td>\n",
       "      <td>0.0</td>\n",
       "      <td>-0.03</td>\n",
       "      <td>0</td>\n",
       "      <td>1.0</td>\n",
       "      <td>0.0</td>\n",
       "      <td>0.0</td>\n",
       "      <td>1.0</td>\n",
       "      <td>0.0</td>\n",
       "      <td>0.0</td>\n",
       "      <td>0.0</td>\n",
       "    </tr>\n",
       "    <tr>\n",
       "      <th>8</th>\n",
       "      <td>9</td>\n",
       "      <td>1</td>\n",
       "      <td>14560</td>\n",
       "      <td>10.84</td>\n",
       "      <td>1</td>\n",
       "      <td>0</td>\n",
       "      <td>0</td>\n",
       "      <td>12.04</td>\n",
       "      <td>0.0</td>\n",
       "      <td>0.0</td>\n",
       "      <td>1.20</td>\n",
       "      <td>0</td>\n",
       "      <td>1.0</td>\n",
       "      <td>0.0</td>\n",
       "      <td>0.0</td>\n",
       "      <td>1.0</td>\n",
       "      <td>0.0</td>\n",
       "      <td>0.0</td>\n",
       "      <td>0.0</td>\n",
       "    </tr>\n",
       "    <tr>\n",
       "      <th>9</th>\n",
       "      <td>10</td>\n",
       "      <td>1</td>\n",
       "      <td>4853</td>\n",
       "      <td>9.12</td>\n",
       "      <td>1</td>\n",
       "      <td>0</td>\n",
       "      <td>0</td>\n",
       "      <td>8.75</td>\n",
       "      <td>0.0</td>\n",
       "      <td>0.0</td>\n",
       "      <td>-0.37</td>\n",
       "      <td>0</td>\n",
       "      <td>0.0</td>\n",
       "      <td>1.0</td>\n",
       "      <td>0.0</td>\n",
       "      <td>1.0</td>\n",
       "      <td>0.0</td>\n",
       "      <td>0.0</td>\n",
       "      <td>0.0</td>\n",
       "    </tr>\n",
       "    <tr>\n",
       "      <th>11</th>\n",
       "      <td>12</td>\n",
       "      <td>1</td>\n",
       "      <td>4055</td>\n",
       "      <td>10.99</td>\n",
       "      <td>1</td>\n",
       "      <td>0</td>\n",
       "      <td>0</td>\n",
       "      <td>10.95</td>\n",
       "      <td>0.0</td>\n",
       "      <td>0.0</td>\n",
       "      <td>-0.04</td>\n",
       "      <td>0</td>\n",
       "      <td>0.0</td>\n",
       "      <td>1.0</td>\n",
       "      <td>0.0</td>\n",
       "      <td>1.0</td>\n",
       "      <td>0.0</td>\n",
       "      <td>0.0</td>\n",
       "      <td>0.0</td>\n",
       "    </tr>\n",
       "  </tbody>\n",
       "</table>\n",
       "</div>"
      ],
      "text/plain": [
       "    lineID  day    pid  competitorPrice  click  basket  order  price  revenue  \\\n",
       "0        1    1   6570            14.60      1       0      0  16.89      0.0   \n",
       "7        8    1  16963             8.78      1       0      0   8.75      0.0   \n",
       "8        9    1  14560            10.84      1       0      0  12.04      0.0   \n",
       "9       10    1   4853             9.12      1       0      0   8.75      0.0   \n",
       "11      12    1   4055            10.99      1       0      0  10.95      0.0   \n",
       "\n",
       "    number   dif  class_label    0    1    0    1    2    3    4  \n",
       "0      0.0  2.29            0  1.0  0.0  0.0  0.0  1.0  0.0  0.0  \n",
       "7      0.0 -0.03            0  1.0  0.0  0.0  1.0  0.0  0.0  0.0  \n",
       "8      0.0  1.20            0  1.0  0.0  0.0  1.0  0.0  0.0  0.0  \n",
       "9      0.0 -0.37            0  0.0  1.0  0.0  1.0  0.0  0.0  0.0  \n",
       "11     0.0 -0.04            0  0.0  1.0  0.0  1.0  0.0  0.0  0.0  "
      ]
     },
     "execution_count": 10,
     "metadata": {},
     "output_type": "execute_result"
    }
   ],
   "source": [
    "df_train0 = pd.read_csv(\"DATA/DMC_2017_task/train.csv\", sep = \"|\")\n",
    "print(df_train0.shape)\n",
    "df_train0[\"number\"] = df_train0[\"revenue\"]/df_train0[\"price\"]\n",
    "df_train0[\"dif\"] = df_train0[\"price\"] - df_train0[\"competitorPrice\"]\n",
    "\n",
    "################################################# given label\n",
    "click = df_train0[(df_train0.click == 1)]\n",
    "basket = df_train0[(df_train0.basket == 1)]\n",
    "order = df_train0[(df_train0.order == 1)]\n",
    "click[\"class_label\"] = 0\n",
    "basket[\"class_label\"] = 0\n",
    "order[\"class_label\"] = 1\n",
    "df_train1 = pd.concat([click, basket, order])\n",
    "\n",
    "################################################# feature onehot\n",
    "ad, ad_dim = onehot2(df_train0.adFlag)\n",
    "av, av_dim = onehot2(df_train0.availability)\n",
    "df_train0 = pd.concat([df_train1, pd.DataFrame(ad), pd.DataFrame(av)], axis=1, join_axes=[df_train1.index])\n",
    "df_train = df_train0.drop([\"adFlag\", \"availability\"], axis=1)\n",
    "\n",
    "df_train.head()"
   ]
  },
  {
   "cell_type": "markdown",
   "metadata": {},
   "source": [
    "lineID: key for unique identification of user action, adFlag: 是否廣告宣傳, availability: 有貨 缺貨 可預訂 可訂製 停產"
   ]
  },
  {
   "cell_type": "code",
   "execution_count": 11,
   "metadata": {
    "collapsed": false
   },
   "outputs": [
    {
     "name": "stdout",
     "output_type": "stream",
     "text": [
      "Size of testing dataset : 2756003\n",
      "Size of testing dataset DropNA : 2655316\n"
     ]
    },
    {
     "data": {
      "text/plain": [
       "lineID                  0\n",
       "day                     0\n",
       "pid                     0\n",
       "competitorPrice    100687\n",
       "click                   0\n",
       "basket                  0\n",
       "order                   0\n",
       "price                   0\n",
       "revenue                 0\n",
       "number                  0\n",
       "dif                100687\n",
       "class_label             0\n",
       "0                       0\n",
       "1                       0\n",
       "0                       0\n",
       "1                       0\n",
       "2                       0\n",
       "3                       0\n",
       "4                       0\n",
       "dtype: int64"
      ]
     },
     "metadata": {},
     "output_type": "display_data"
    }
   ],
   "source": [
    "missing(df_train)"
   ]
  },
  {
   "cell_type": "code",
   "execution_count": 12,
   "metadata": {
    "collapsed": false
   },
   "outputs": [
    {
     "name": "stdout",
     "output_type": "stream",
     "text": [
      "(705090, 19)\n",
      "(2756003, 19)\n"
     ]
    }
   ],
   "source": [
    "print(df_train[df_train.order == 1].shape)\n",
    "print(df_train.shape)"
   ]
  },
  {
   "cell_type": "markdown",
   "metadata": {
    "collapsed": false,
    "scrolled": true
   },
   "source": [
    "print ('Number = 0 : %.0f' % df_train[df_train.number == 0].shape[0])  \n",
    "print ('Number = 1 : %.0f' % df_train[df_train.number == 1].shape[0])  \n",
    "print ('Number = 2 : %.0f' % df_train[df_train.number == 2].shape[0])  \n",
    "print ('Number = 3 : %.0f' % df_train[df_train.number == 3].shape[0])  \n",
    "print ('Number = 4 : %.0f' % df_train[df_train.number == 4].shape[0])  \n",
    "print ('Number = 5 : %.0f' % df_train[df_train.number == 5].shape[0])  \n",
    "print ('Number > 5 : %.0f' % df_train[df_train.number > 5].shape[0])"
   ]
  },
  {
   "cell_type": "markdown",
   "metadata": {},
   "source": [
    "## order ???"
   ]
  },
  {
   "cell_type": "markdown",
   "metadata": {
    "collapsed": false
   },
   "source": [
    "print(\"===total===\")  \n",
    "print(df_train[(df_train.dif > 0)].shape[0])  \n",
    "print(df_train[(df_train.dif == 0)].shape[0])  \n",
    "print(df_train[(df_train.dif < 0)].shape[0])  \n",
    "\n",
    "a = df_train[(df_train.dif > 0) & (df_train.order == 1)]  \n",
    "b = df_train[(df_train.dif == 0) & (df_train.order == 1)]  \n",
    "c = df_train[(df_train.dif < 0) & (df_train.order == 1)]  \n",
    "\n",
    "print (\"===order===\")  \n",
    "print(a.shape[0])  \n",
    "print(b.shape[0])  \n",
    "print(c.shape[0])  "
   ]
  },
  {
   "cell_type": "markdown",
   "metadata": {
    "collapsed": false
   },
   "source": [
    "print(\"===classification label===\")  \n",
    "print('Number of click : %.0f' % df_train[df_train.click == 1].shape[0])  \n",
    "print('Number of basket : %.0f' % df_train[df_train.basket == 1].shape[0])  \n",
    "print('Number of order : %.0f' % df_train[df_train.order == 1].shape[0])  "
   ]
  },
  {
   "cell_type": "markdown",
   "metadata": {
    "collapsed": false,
    "scrolled": false
   },
   "source": [
    "df_train.boxplot('pid','order')  \n",
    "pylab.ylabel('pid')  \n",
    "\n",
    "# 調整後  \n",
    "df_train[(df_train.competitorPrice < 35)].boxplot('competitorPrice','order')  \n",
    "pylab.ylabel('competitorPrice')  \n",
    "df_train[(df_train.price < 35)].boxplot('price','order')  \n",
    "pylab.ylabel('price')  \n",
    "\n",
    "# 調整後  \n",
    "df_train[(abs(df_train.dif) < 5)].boxplot('dif','order')  \n",
    "pylab.ylabel('dif')  \n",
    "\n",
    "plt.show()"
   ]
  },
  {
   "cell_type": "markdown",
   "metadata": {},
   "source": [
    "> competitorPrice VS price <br/>\n",
    "dif = price - competitorPrice <br/>\n",
    "P(order|cp, p) <br/>\n",
    "0.25, 0.27, 0.26 <br/>\n",
    "比市場高價的情況很多，大家還是買了。why?"
   ]
  },
  {
   "cell_type": "markdown",
   "metadata": {
    "collapsed": false,
    "scrolled": true
   },
   "source": [
    "print('Red = order')  \n",
    "print('Green = non_order')  \n",
    "df_train[df_train.order == 1].pid.plot.hist(alpha = 1, color='r', bins = 100)  \n",
    "df_train[df_train.order == 0].pid.plot.hist(alpha = 0.5, color='g', bins = 100)  \n",
    "\n",
    "plt.title('pid', fontsize = 12)  \n",
    "plt.show()\n"
   ]
  },
  {
   "cell_type": "markdown",
   "metadata": {
    "collapsed": false
   },
   "source": [
    "print(df_train['order'].value_counts())  \n",
    "print(df_train['adFlag'].value_counts())  \n",
    "print(df_train['availability'].value_counts())  "
   ]
  },
  {
   "cell_type": "markdown",
   "metadata": {
    "collapsed": false,
    "scrolled": true
   },
   "source": [
    "table = pd.crosstab(index = df_train[\"availability\"], columns = df_train[\"order\"], margins=True)  \n",
    "\n",
    "table.columns = [\"non_order\",\"order\", \"tol\"]  \n",
    "#table.index = [\"non_ad\", \"ad\", \"tol_order\"]  \n",
    "table.index = [\"availability1\",\"availability2\", \"availability3\", \"availability4\", \"tol_order\"]  \n",
    "\n",
    "print(\"The order table\")  \n",
    "table  "
   ]
  },
  {
   "cell_type": "markdown",
   "metadata": {
    "collapsed": false
   },
   "source": [
    "table_pro = table/table.ix[\"tol_order\", \"tol\"]  \n",
    "table_row = table.div(table[\"tol\"], axis=0)  \n",
    "del table_row[\"tol\"]  \n",
    "table_row[\"ri\"] = table_pro.tol  \n",
    "\n",
    "print(\"The row profiles\")  \n",
    "table_row  "
   ]
  },
  {
   "cell_type": "markdown",
   "metadata": {},
   "source": [
    "> adflag: 0 ->1, 0.2303 -> 0.3265 <br/>\n",
    "availability: 0 -> 3, 0.267715 -> 0.000290"
   ]
  },
  {
   "cell_type": "markdown",
   "metadata": {},
   "source": [
    "## combine train and items"
   ]
  },
  {
   "cell_type": "code",
   "execution_count": null,
   "metadata": {
    "collapsed": false
   },
   "outputs": [],
   "source": [
    "result0 = pd.merge(df_train, df_items_oh, how='inner', on=['pid']) #df_items\n",
    "result0 = result0.sort_values(['lineID'], ascending=True)\n",
    "\n",
    "##################################################### hold on last month\n",
    "hold_result = result0[result0.day > 65]\n",
    "hold_result = hold_result.dropna()\n",
    "hold_result = hold_result.reset_index(drop = True)\n",
    "\n",
    "result = result0[result0.day <= 65]\n",
    "result = result.dropna()\n",
    "result = result.reset_index(drop = True)\n",
    "\n",
    "print('Number of hold_result: %d' % hold_result.shape[0])\n",
    "print('Number of result training: %d' % result.shape[0])\n",
    "result.head()"
   ]
  },
  {
   "cell_type": "markdown",
   "metadata": {},
   "source": [
    "> Task1: classification (click, basket, order), label = 2 or 3 (method: nn?)  \n",
    "Task2: regression (number), randomforest regression (1 or 500 or 195 or 5)  \n",
    "Task3: feature extraction: dummy ,then PCA(dummy features) or category"
   ]
  },
  {
   "cell_type": "markdown",
   "metadata": {},
   "source": [
    "## training time (base line: 73.23%)"
   ]
  },
  {
   "cell_type": "code",
   "execution_count": null,
   "metadata": {
    "collapsed": false
   },
   "outputs": [],
   "source": [
    "################################################ 資料分群做回歸。\n",
    "df0 = result\n",
    "################################################\n",
    "print(df0['order'].value_counts())\n",
    "df0.revenue.plot.hist(title = 'order', bins = 1000)\n",
    "plt.show()\n",
    "\n",
    "df = df0.drop([\"lineID\", \"number\", \"click\", \"basket\", \"order\", \"revenue\"], axis=1) # class_label,revenue\n",
    "################################################ standardized to (0,1)\n",
    "column_conti = [\"day\",\"pid\",\"competitorPrice\",\"price\",\"dif\",\"category\",\"rrp\",'Content']\n",
    "df_num = df[column_conti]\n",
    "sc = MinMaxScaler(feature_range=(0, 1), copy=True)\n",
    "Z = pd.DataFrame(sc.fit_transform(df_num))\n",
    "Z.columns = column_conti\n",
    "################################################ reset row index\n",
    "df_cat = df.drop(column_conti, axis=1)\n",
    "df_cat = df_cat.reset_index(drop=True, inplace=False, col_level=0, col_fill='')\n",
    "\n",
    "df_st = df_cat.join(Z, on=None, how='inner', lsuffix='', rsuffix='', sort=False)"
   ]
  },
  {
   "cell_type": "code",
   "execution_count": 1,
   "metadata": {
    "collapsed": true
   },
   "outputs": [],
   "source": [
    "def split(df):\n",
    "    X = np.array(df.drop([\"class_label\"], axis=1))\n",
    "    y = np.array(df[[\"class_label\"]])\n",
    "    \n",
    "    X_train, X_test, y_train, y_test = train_test_split(X, y, test_size=0.2, random_state=0)\n",
    "    print('Number of training: %d' % X_train.shape[0])\n",
    "    print('Number of testing: %d' % X_test.shape[0])\n",
    "    a = pd.DataFrame(y_test)\n",
    "    a.columns = [\"a\"]\n",
    "    print(a['a'].value_counts())\n",
    "    return X_train, X_test, y_train, y_test"
   ]
  },
  {
   "cell_type": "code",
   "execution_count": 78,
   "metadata": {
    "collapsed": true
   },
   "outputs": [],
   "source": [
    "def processing(model):\n",
    "    model.fit(X_train, y_train)\n",
    "    print(\"training down\")\n",
    "    y_pred = model.predict(X_test).reshape(y_test.shape[0], 1)\n",
    "    print('Misclassified samples: %d' % (y_test != y_pred).sum())\n",
    "    print('Accuracy : %.2f' % ((y_test == y_pred).sum() / y_test.shape[0]))\n",
    "    print('Accuracy (sklearn): %.2f' % accuracy_score(y_test, y_pred))\n",
    "    print(\"==confusion matrix==\")\n",
    "    print(confusion_matrix(y_test, y_pred, labels=[0,1], sample_weight=None))"
   ]
  },
  {
   "cell_type": "code",
   "execution_count": 81,
   "metadata": {
    "collapsed": true
   },
   "outputs": [],
   "source": [
    "def cross_val(model, cv):\n",
    "    scores_dt0 = cross_val_score(model, X_train, y_train, cv = cv, n_jobs = 4)  \n",
    "    scores_dt = np.sum(scores_dt0) / cv\n",
    "    \n",
    "    print(\"===cross_val===\")  \n",
    "    print(scores_dt)  "
   ]
  },
  {
   "cell_type": "code",
   "execution_count": null,
   "metadata": {
    "collapsed": false,
    "scrolled": true
   },
   "outputs": [],
   "source": [
    "X_train, X_test, y_train, y_test = split(df_st)"
   ]
  },
  {
   "cell_type": "markdown",
   "metadata": {},
   "source": [
    "## RandomForestRegressor"
   ]
  },
  {
   "cell_type": "code",
   "execution_count": 79,
   "metadata": {
    "collapsed": true
   },
   "outputs": [],
   "source": [
    "rfr = RandomForestRegressor(n_estimators = 100, \n",
    "                            max_features = 'log2', \n",
    "                            criterion = 'mse', \n",
    "                            max_depth = None, \n",
    "                            min_samples_split = 20, \n",
    "                            min_samples_leaf = 10, \n",
    "                            min_weight_fraction_leaf = 0.0, \n",
    "                            max_leaf_nodes = None, \n",
    "                            min_impurity_split = 1e-07, \n",
    "                            bootstrap = True, \n",
    "                            oob_score = True, \n",
    "                            n_jobs = 1, \n",
    "                            random_state = 0, \n",
    "                            verbose = 0, \n",
    "                            warm_start = False)"
   ]
  },
  {
   "cell_type": "code",
   "execution_count": 82,
   "metadata": {
    "collapsed": false
   },
   "outputs": [
    {
     "name": "stderr",
     "output_type": "stream",
     "text": [
      "/anaconda/lib/python3.6/site-packages/sklearn/cross_validation.py:1665: DataConversionWarning: A column-vector y was passed when a 1d array was expected. Please change the shape of y to (n_samples,), for example using ravel().\n",
      "  estimator.fit(X_train, y_train, **fit_params)\n",
      "/anaconda/lib/python3.6/site-packages/sklearn/cross_validation.py:1665: DataConversionWarning: A column-vector y was passed when a 1d array was expected. Please change the shape of y to (n_samples,), for example using ravel().\n",
      "  estimator.fit(X_train, y_train, **fit_params)\n",
      "/anaconda/lib/python3.6/site-packages/sklearn/cross_validation.py:1665: DataConversionWarning: A column-vector y was passed when a 1d array was expected. Please change the shape of y to (n_samples,), for example using ravel().\n",
      "  estimator.fit(X_train, y_train, **fit_params)\n",
      "/anaconda/lib/python3.6/site-packages/sklearn/cross_validation.py:1665: DataConversionWarning: A column-vector y was passed when a 1d array was expected. Please change the shape of y to (n_samples,), for example using ravel().\n",
      "  estimator.fit(X_train, y_train, **fit_params)\n",
      "/anaconda/lib/python3.6/site-packages/sklearn/cross_validation.py:1665: DataConversionWarning: A column-vector y was passed when a 1d array was expected. Please change the shape of y to (n_samples,), for example using ravel().\n",
      "  estimator.fit(X_train, y_train, **fit_params)\n"
     ]
    },
    {
     "name": "stdout",
     "output_type": "stream",
     "text": [
      "===cross_val===\n",
      "0.126086434177\n"
     ]
    }
   ],
   "source": [
    "cross_val(rfr, 5)"
   ]
  },
  {
   "cell_type": "code",
   "execution_count": 80,
   "metadata": {
    "collapsed": false,
    "scrolled": false
   },
   "outputs": [
    {
     "name": "stderr",
     "output_type": "stream",
     "text": [
      "/anaconda/lib/python3.6/site-packages/ipykernel/__main__.py:1: DataConversionWarning: A column-vector y was passed when a 1d array was expected. Please change the shape of y to (n_samples,), for example using ravel().\n",
      "  if __name__ == '__main__':\n"
     ]
    },
    {
     "name": "stdout",
     "output_type": "stream",
     "text": [
      "0.127364266713\n",
      "===Euclidean Distance===\n",
      "524203.991152\n"
     ]
    },
    {
     "data": {
      "image/png": "[encoded data removed]",
      "text/plain": [
       "<matplotlib.figure.Figure at 0x122a1ec50>"
      ]
     },
     "metadata": {},
     "output_type": "display_data"
    }
   ],
   "source": [
    "rfr.fit(X_train, y_train)\n",
    "pred = rfr.predict(X_test).reshape(y_test.shape[0], 1)  \n",
    "print(rfr.oob_score_)\n",
    "\n",
    "score = np.dot((pred - y_test).T, (pred - y_test))  \n",
    "print(\"===Euclidean Distance===\")  \n",
    "print(score[0, 0])  \n",
    "\n",
    "a = pd.DataFrame(np.concatenate((np.array(y_test), pred), axis=1))  \n",
    "a.columns = [\"test\", \"pred\"]  \n",
    "\n",
    "a.plot.scatter(x = 'test', y = 'pred', s = 10, alpha = 0.2)  \n",
    "plt.show()  "
   ]
  },
  {
   "cell_type": "markdown",
   "metadata": {},
   "source": [
    "> order = 1  \n",
    "14368734.289, 0.557460340944    \n",
    "11113583.7032, new"
   ]
  },
  {
   "cell_type": "code",
   "execution_count": 58,
   "metadata": {
    "collapsed": false
   },
   "outputs": [],
   "source": [
    "tree = DecisionTreeClassifier(criterion='entropy', \n",
    "                              max_depth=3, \n",
    "                              random_state=0\n",
    "                              ,class_weight = {1: (len(click) + len(basket))/len(order), 0: 1.0})"
   ]
  },
  {
   "cell_type": "code",
   "execution_count": 65,
   "metadata": {
    "collapsed": false
   },
   "outputs": [
    {
     "name": "stdout",
     "output_type": "stream",
     "text": [
      "===Decision Tree===\n",
      "training down\n",
      "Misclassified samples: 1944\n",
      "Accuracy : 0.43\n",
      "Accuracy (sklearn): 0.43\n",
      "=confusion matrix=\n",
      "[[ 210 1934]\n",
      " [  10 1240]]\n"
     ]
    }
   ],
   "source": [
    "print(\"===Decision Tree===\")\n",
    "processing(tree)"
   ]
  },
  {
   "cell_type": "markdown",
   "metadata": {},
   "source": [
    "## ensemble"
   ]
  },
  {
   "cell_type": "code",
   "execution_count": 67,
   "metadata": {
    "collapsed": true
   },
   "outputs": [],
   "source": [
    "from sklearn.ensemble import BaggingClassifier  \n",
    "bc = BaggingClassifier(base_estimator = tree,  \n",
    "                       n_estimators = 10,  \n",
    "                       max_samples = 1.0,  \n",
    "                       max_features = 1.0,  \n",
    "                       bootstrap = True,  \n",
    "                       bootstrap_features = False,  \n",
    "                       oob_score = False,  \n",
    "                       warm_start = False,  \n",
    "                       n_jobs = 1,  \n",
    "                       random_state = None,  \n",
    "                       verbose = 0)    "
   ]
  },
  {
   "cell_type": "code",
   "execution_count": 68,
   "metadata": {
    "collapsed": false
   },
   "outputs": [
    {
     "name": "stdout",
     "output_type": "stream",
     "text": [
      "===Bagging===\n"
     ]
    },
    {
     "name": "stderr",
     "output_type": "stream",
     "text": [
      "/anaconda/lib/python3.6/site-packages/sklearn/utils/validation.py:526: DataConversionWarning: A column-vector y was passed when a 1d array was expected. Please change the shape of y to (n_samples, ), for example using ravel().\n",
      "  y = column_or_1d(y, warn=True)\n"
     ]
    },
    {
     "name": "stdout",
     "output_type": "stream",
     "text": [
      "training down\n",
      "Misclassified samples: 1934\n",
      "Accuracy : 0.43\n",
      "Accuracy (sklearn): 0.43\n",
      "==confusion matrix==\n",
      "[[ 222 1922]\n",
      " [  12 1238]]\n"
     ]
    }
   ],
   "source": [
    "print(\"===Bagging===\")\n",
    "processing(bc)"
   ]
  },
  {
   "cell_type": "code",
   "execution_count": 69,
   "metadata": {
    "collapsed": false
   },
   "outputs": [],
   "source": [
    "from sklearn.ensemble import AdaBoostClassifier\n",
    "abc = AdaBoostClassifier(base_estimator = tree,\n",
    "                         n_estimators=50,\n",
    "                         learning_rate=1.0,\n",
    "                         algorithm='SAMME.R',\n",
    "                         random_state=None)"
   ]
  },
  {
   "cell_type": "code",
   "execution_count": 70,
   "metadata": {
    "collapsed": false
   },
   "outputs": [
    {
     "name": "stdout",
     "output_type": "stream",
     "text": [
      "===AdaBoost===\n"
     ]
    },
    {
     "name": "stderr",
     "output_type": "stream",
     "text": [
      "/anaconda/lib/python3.6/site-packages/sklearn/utils/validation.py:526: DataConversionWarning: A column-vector y was passed when a 1d array was expected. Please change the shape of y to (n_samples, ), for example using ravel().\n",
      "  y = column_or_1d(y, warn=True)\n"
     ]
    },
    {
     "name": "stdout",
     "output_type": "stream",
     "text": [
      "training down\n",
      "Misclassified samples: 1656\n",
      "Accuracy : 0.51\n",
      "Accuracy (sklearn): 0.51\n",
      "==confusion matrix==\n",
      "[[ 712 1432]\n",
      " [ 224 1026]]\n"
     ]
    }
   ],
   "source": [
    "print(\"===AdaBoost===\")\n",
    "processing(abc)"
   ]
  },
  {
   "cell_type": "code",
   "execution_count": null,
   "metadata": {
    "collapsed": true
   },
   "outputs": [],
   "source": []
  }
 ],
 "metadata": {
  "kernelspec": {
   "display_name": "Python 2",
   "language": "python",
   "name": "python2"
  },
  "language_info": {
   "codemirror_mode": {
    "name": "ipython",
    "version": 2
   },
   "file_extension": ".py",
   "mimetype": "text/x-python",
   "name": "python",
   "nbconvert_exporter": "python",
   "pygments_lexer": "ipython2",
   "version": "2.7.13"
  }
 },
 "nbformat": 4,
 "nbformat_minor": 2
}
