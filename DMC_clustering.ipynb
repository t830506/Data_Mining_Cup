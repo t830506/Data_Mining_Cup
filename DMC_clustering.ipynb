{
 "cells": [
  {
   "cell_type": "code",
   "execution_count": 140,
   "metadata": {
    "collapsed": false
   },
   "outputs": [
    {
     "data": {
      "text/html": [
       "<script>jQuery(function() {if (jQuery(\"body.notebook_app\").length == 0) { jQuery(\".input_area\").toggle(); jQuery(\".prompt\").toggle();}});</script>"
      ]
     },
     "metadata": {},
     "output_type": "display_data"
    }
   ],
   "source": [
    "import numpy as np\n",
    "import pandas as pd\n",
    "import matplotlib.pyplot as plt\n",
    "from matplotlib import cm\n",
    "from IPython.display import display\n",
    "from sklearn.preprocessing import MinMaxScaler\n",
    "from sklearn.preprocessing import StandardScaler\n",
    "\n",
    "from keras.utils import np_utils\n",
    "\n",
    "pd.options.mode.chained_assignment = None\n",
    "import IPython.core.display as di\n",
    "di.display_html('<script>jQuery(function() {if (jQuery(\"body.notebook_app\").length == 0) { jQuery(\".input_area\").toggle(); jQuery(\".prompt\").toggle();}});</script>', raw=True)"
   ]
  },
  {
   "cell_type": "code",
   "execution_count": 92,
   "metadata": {
    "collapsed": true
   },
   "outputs": [],
   "source": [
    "def missing(df):\n",
    "    print('Size of testing dataset : %d' % (df.shape[0]))\n",
    "    df1 = df.dropna()\n",
    "    print('Size of testing dataset DropNA : %d' % (df1.shape[0]))"
   ]
  },
  {
   "cell_type": "markdown",
   "metadata": {},
   "source": [
    "## training dataset"
   ]
  },
  {
   "cell_type": "code",
   "execution_count": 2,
   "metadata": {
    "collapsed": true
   },
   "outputs": [],
   "source": [
    "def pre_train(df):\n",
    "    df[\"number\"] = df[\"revenue\"] / df[\"price\"]\n",
    "    \n",
    "    ################################################# given label\n",
    "    click = df[(df.click == 1)]\n",
    "    basket = df[(df.basket == 1)]\n",
    "    order = df[(df.order == 1)]\n",
    "    click[\"class_label\"] = 0\n",
    "    basket[\"class_label\"] = 0\n",
    "    order[\"class_label\"] = 1\n",
    "    df1 = pd.concat([click, basket, order])\n",
    "    return df1"
   ]
  },
  {
   "cell_type": "code",
   "execution_count": 55,
   "metadata": {
    "collapsed": false,
    "scrolled": false
   },
   "outputs": [
    {
     "name": "stdout",
     "output_type": "stream",
     "text": [
      "(2756003, 11)\n",
      "(2756003, 13)\n"
     ]
    },
    {
     "data": {
      "text/html": [
       "<div>\n",
       "<table border=\"1\" class=\"dataframe\">\n",
       "  <thead>\n",
       "    <tr style=\"text-align: right;\">\n",
       "      <th></th>\n",
       "      <th>lineID</th>\n",
       "      <th>day</th>\n",
       "      <th>pid</th>\n",
       "      <th>adFlag</th>\n",
       "      <th>availability</th>\n",
       "      <th>competitorPrice</th>\n",
       "      <th>click</th>\n",
       "      <th>basket</th>\n",
       "      <th>order</th>\n",
       "      <th>price</th>\n",
       "      <th>revenue</th>\n",
       "      <th>number</th>\n",
       "      <th>class_label</th>\n",
       "    </tr>\n",
       "  </thead>\n",
       "  <tbody>\n",
       "    <tr>\n",
       "      <th>0</th>\n",
       "      <td>1</td>\n",
       "      <td>1</td>\n",
       "      <td>6570</td>\n",
       "      <td>0</td>\n",
       "      <td>2</td>\n",
       "      <td>14.60</td>\n",
       "      <td>1</td>\n",
       "      <td>0</td>\n",
       "      <td>0</td>\n",
       "      <td>16.89</td>\n",
       "      <td>0.00</td>\n",
       "      <td>0.0</td>\n",
       "      <td>0</td>\n",
       "    </tr>\n",
       "    <tr>\n",
       "      <th>1</th>\n",
       "      <td>2</td>\n",
       "      <td>1</td>\n",
       "      <td>14922</td>\n",
       "      <td>1</td>\n",
       "      <td>1</td>\n",
       "      <td>8.57</td>\n",
       "      <td>0</td>\n",
       "      <td>1</td>\n",
       "      <td>0</td>\n",
       "      <td>8.75</td>\n",
       "      <td>0.00</td>\n",
       "      <td>0.0</td>\n",
       "      <td>0</td>\n",
       "    </tr>\n",
       "    <tr>\n",
       "      <th>2</th>\n",
       "      <td>3</td>\n",
       "      <td>1</td>\n",
       "      <td>16382</td>\n",
       "      <td>0</td>\n",
       "      <td>1</td>\n",
       "      <td>14.77</td>\n",
       "      <td>0</td>\n",
       "      <td>1</td>\n",
       "      <td>0</td>\n",
       "      <td>16.06</td>\n",
       "      <td>0.00</td>\n",
       "      <td>0.0</td>\n",
       "      <td>0</td>\n",
       "    </tr>\n",
       "    <tr>\n",
       "      <th>3</th>\n",
       "      <td>4</td>\n",
       "      <td>1</td>\n",
       "      <td>1145</td>\n",
       "      <td>1</td>\n",
       "      <td>1</td>\n",
       "      <td>6.59</td>\n",
       "      <td>0</td>\n",
       "      <td>0</td>\n",
       "      <td>1</td>\n",
       "      <td>6.55</td>\n",
       "      <td>6.55</td>\n",
       "      <td>1.0</td>\n",
       "      <td>1</td>\n",
       "    </tr>\n",
       "    <tr>\n",
       "      <th>4</th>\n",
       "      <td>5</td>\n",
       "      <td>1</td>\n",
       "      <td>3394</td>\n",
       "      <td>0</td>\n",
       "      <td>1</td>\n",
       "      <td>4.39</td>\n",
       "      <td>0</td>\n",
       "      <td>0</td>\n",
       "      <td>1</td>\n",
       "      <td>4.14</td>\n",
       "      <td>4.14</td>\n",
       "      <td>1.0</td>\n",
       "      <td>1</td>\n",
       "    </tr>\n",
       "  </tbody>\n",
       "</table>\n",
       "</div>"
      ],
      "text/plain": [
       "   lineID  day    pid  adFlag  availability  competitorPrice  click  basket  \\\n",
       "0       1    1   6570       0             2            14.60      1       0   \n",
       "1       2    1  14922       1             1             8.57      0       1   \n",
       "2       3    1  16382       0             1            14.77      0       1   \n",
       "3       4    1   1145       1             1             6.59      0       0   \n",
       "4       5    1   3394       0             1             4.39      0       0   \n",
       "\n",
       "   order  price  revenue  number  class_label  \n",
       "0      0  16.89     0.00     0.0            0  \n",
       "1      0   8.75     0.00     0.0            0  \n",
       "2      0  16.06     0.00     0.0            0  \n",
       "3      1   6.55     6.55     1.0            1  \n",
       "4      1   4.14     4.14     1.0            1  "
      ]
     },
     "execution_count": 55,
     "metadata": {},
     "output_type": "execute_result"
    }
   ],
   "source": [
    "df_train0 = pd.read_csv(\"train.csv\", sep = \"|\")\n",
    "print(df_train0.shape)\n",
    "\n",
    "### Transfer to classification and regression question\n",
    "df_train = pre_train(df_train0)\n",
    "df_train = df_train.sort_values(['lineID'], ascending = True)\n",
    "print(df_train.shape)\n",
    "df_train.head()"
   ]
  },
  {
   "cell_type": "markdown",
   "metadata": {},
   "source": [
    "### 計算商品出現頻率，找出重要與不重要的商品"
   ]
  },
  {
   "cell_type": "code",
   "execution_count": 42,
   "metadata": {
    "collapsed": false,
    "scrolled": false
   },
   "outputs": [
    {
     "name": "stderr",
     "output_type": "stream",
     "text": [
      "/Users/Shawn/anaconda/lib/python3.6/site-packages/ipykernel/__main__.py:5: FutureWarning: sort(columns=....) is deprecated, use sort_values(by=.....)\n"
     ]
    },
    {
     "name": "stdout",
     "output_type": "stream",
     "text": [
      "         pid  lineID\n",
      "2642    2655   53785\n",
      "2478    2491   14666\n",
      "16563  16641   12369\n",
      "16068  16144   11134\n",
      "7365    7403   10002\n"
     ]
    },
    {
     "data": {
      "image/png": "[encoded data removed]",
      "text/plain": [
       "<matplotlib.figure.Figure at 0x1221d36a0>"
      ]
     },
     "metadata": {},
     "output_type": "display_data"
    }
   ],
   "source": [
    "import seaborn as sns\n",
    "color = sns.color_palette()\n",
    "\n",
    "cnt_srs0 = df_train.groupby([\"pid\"])[\"lineID\"].aggregate(\"count\").reset_index()\n",
    "cnt_srs = cnt_srs0.sort(columns = \"lineID\", axis = 0, ascending = False)\n",
    "print(cnt_srs.head())\n",
    "cnt_srs = cnt_srs.lineID.value_counts()\n",
    "#print(cnt_srs)\n",
    "\n",
    "plt.figure(figsize=(12,8))\n",
    "sns.barplot(cnt_srs.index, cnt_srs.values, alpha=0.8, color=color[2])\n",
    "plt.ylabel('Number of Occurrences', fontsize=12)\n",
    "plt.xlabel('count of pid', fontsize=12)\n",
    "plt.xticks(rotation='vertical')\n",
    "plt.show()"
   ]
  },
  {
   "cell_type": "code",
   "execution_count": 56,
   "metadata": {
    "collapsed": false
   },
   "outputs": [
    {
     "name": "stderr",
     "output_type": "stream",
     "text": [
      "/Users/Shawn/anaconda/lib/python3.6/site-packages/ipykernel/__main__.py:6: FutureWarning: sort(columns=....) is deprecated, use sort_values(by=.....)\n"
     ]
    },
    {
     "data": {
      "text/html": [
       "<div>\n",
       "<table border=\"1\" class=\"dataframe\">\n",
       "  <thead>\n",
       "    <tr style=\"text-align: right;\">\n",
       "      <th></th>\n",
       "      <th>lineID</th>\n",
       "      <th>day</th>\n",
       "      <th>pid</th>\n",
       "      <th>adFlag</th>\n",
       "      <th>availability</th>\n",
       "      <th>competitorPrice</th>\n",
       "      <th>click</th>\n",
       "      <th>basket</th>\n",
       "      <th>order</th>\n",
       "      <th>price</th>\n",
       "      <th>revenue</th>\n",
       "      <th>number</th>\n",
       "      <th>class_label</th>\n",
       "      <th>fre</th>\n",
       "    </tr>\n",
       "  </thead>\n",
       "  <tbody>\n",
       "    <tr>\n",
       "      <th>0</th>\n",
       "      <td>1</td>\n",
       "      <td>1</td>\n",
       "      <td>6570</td>\n",
       "      <td>0</td>\n",
       "      <td>2</td>\n",
       "      <td>14.60</td>\n",
       "      <td>1</td>\n",
       "      <td>0</td>\n",
       "      <td>0</td>\n",
       "      <td>16.89</td>\n",
       "      <td>0.00</td>\n",
       "      <td>0.0</td>\n",
       "      <td>0</td>\n",
       "      <td>64</td>\n",
       "    </tr>\n",
       "    <tr>\n",
       "      <th>1</th>\n",
       "      <td>2</td>\n",
       "      <td>1</td>\n",
       "      <td>14922</td>\n",
       "      <td>1</td>\n",
       "      <td>1</td>\n",
       "      <td>8.57</td>\n",
       "      <td>0</td>\n",
       "      <td>1</td>\n",
       "      <td>0</td>\n",
       "      <td>8.75</td>\n",
       "      <td>0.00</td>\n",
       "      <td>0.0</td>\n",
       "      <td>0</td>\n",
       "      <td>2333</td>\n",
       "    </tr>\n",
       "    <tr>\n",
       "      <th>2</th>\n",
       "      <td>3</td>\n",
       "      <td>1</td>\n",
       "      <td>16382</td>\n",
       "      <td>0</td>\n",
       "      <td>1</td>\n",
       "      <td>14.77</td>\n",
       "      <td>0</td>\n",
       "      <td>1</td>\n",
       "      <td>0</td>\n",
       "      <td>16.06</td>\n",
       "      <td>0.00</td>\n",
       "      <td>0.0</td>\n",
       "      <td>0</td>\n",
       "      <td>27</td>\n",
       "    </tr>\n",
       "    <tr>\n",
       "      <th>3</th>\n",
       "      <td>4</td>\n",
       "      <td>1</td>\n",
       "      <td>1145</td>\n",
       "      <td>1</td>\n",
       "      <td>1</td>\n",
       "      <td>6.59</td>\n",
       "      <td>0</td>\n",
       "      <td>0</td>\n",
       "      <td>1</td>\n",
       "      <td>6.55</td>\n",
       "      <td>6.55</td>\n",
       "      <td>1.0</td>\n",
       "      <td>1</td>\n",
       "      <td>6833</td>\n",
       "    </tr>\n",
       "    <tr>\n",
       "      <th>4</th>\n",
       "      <td>5</td>\n",
       "      <td>1</td>\n",
       "      <td>3394</td>\n",
       "      <td>0</td>\n",
       "      <td>1</td>\n",
       "      <td>4.39</td>\n",
       "      <td>0</td>\n",
       "      <td>0</td>\n",
       "      <td>1</td>\n",
       "      <td>4.14</td>\n",
       "      <td>4.14</td>\n",
       "      <td>1.0</td>\n",
       "      <td>1</td>\n",
       "      <td>444</td>\n",
       "    </tr>\n",
       "  </tbody>\n",
       "</table>\n",
       "</div>"
      ],
      "text/plain": [
       "   lineID  day    pid  adFlag  availability  competitorPrice  click  basket  \\\n",
       "0       1    1   6570       0             2            14.60      1       0   \n",
       "1       2    1  14922       1             1             8.57      0       1   \n",
       "2       3    1  16382       0             1            14.77      0       1   \n",
       "3       4    1   1145       1             1             6.59      0       0   \n",
       "4       5    1   3394       0             1             4.39      0       0   \n",
       "\n",
       "   order  price  revenue  number  class_label   fre  \n",
       "0      0  16.89     0.00     0.0            0    64  \n",
       "1      0   8.75     0.00     0.0            0  2333  \n",
       "2      0  16.06     0.00     0.0            0    27  \n",
       "3      1   6.55     6.55     1.0            1  6833  \n",
       "4      1   4.14     4.14     1.0            1   444  "
      ]
     },
     "execution_count": 56,
     "metadata": {},
     "output_type": "execute_result"
    }
   ],
   "source": [
    "cnt_srs0.columns = [\"pid\", \"fre\"]\n",
    "df_train = df_train.merge(cnt_srs0, how='inner', on=\"pid\", left_on=None, right_on=None,\n",
    "                          left_index=False, right_index=False, sort=False,\n",
    "                          suffixes=('_x', '_y'), copy=True, indicator=False)\n",
    "\n",
    "df_train = df_train.sort(columns = \"lineID\", axis = 0, ascending = True)\n",
    "df_train = df_train.reset_index(drop = True, inplace = False, col_level = 0, col_fill = '')\n",
    "df_train.head()"
   ]
  },
  {
   "cell_type": "code",
   "execution_count": 72,
   "metadata": {
    "collapsed": false
   },
   "outputs": [
    {
     "name": "stdout",
     "output_type": "stream",
     "text": [
      "Number of pid under threshold : 10822\n",
      "Percent of dataset whose pid under threshold : 0.05171946474659135\n"
     ]
    }
   ],
   "source": [
    "threshold_frequence = 32\n",
    "print(\"Number of pid under threshold :\", cnt_srs0[(cnt_srs0.fre < threshold_frequence)].shape[0])\n",
    "print(\"Percent of dataset whose pid under threshold :\", (df_train[(df_train.fre < threshold_frequence)].shape[0]) / (df_train.shape[0]))"
   ]
  },
  {
   "cell_type": "code",
   "execution_count": 136,
   "metadata": {
    "collapsed": true
   },
   "outputs": [],
   "source": [
    "df_train = df_train[df_train.fre >= threshold_frequence]"
   ]
  },
  {
   "cell_type": "markdown",
   "metadata": {},
   "source": [
    "# Item Clustering"
   ]
  },
  {
   "cell_type": "code",
   "execution_count": 117,
   "metadata": {
    "collapsed": false
   },
   "outputs": [
    {
     "name": "stdout",
     "output_type": "stream",
     "text": [
      "(22035, 11)\n"
     ]
    },
    {
     "data": {
      "text/plain": [
       "pid                  0\n",
       "manufacturer         0\n",
       "group                0\n",
       "content              0\n",
       "unit                 0\n",
       "pharmForm         2327\n",
       "genericProduct       0\n",
       "salesIndex           0\n",
       "category          4627\n",
       "rrp                  0\n",
       "dtype: int64"
      ]
     },
     "metadata": {},
     "output_type": "display_data"
    }
   ],
   "source": [
    "df_items00 = pd.read_csv(\"items.csv\", sep = \"|\")\n",
    "print(df_items00.shape)\n",
    "\n",
    "del df_items00[\"campaignIndex\"]\n",
    "df_items00.pharmForm = df_items00.pharmForm.str.upper()\n",
    "display(df_items00.isnull().sum())"
   ]
  },
  {
   "cell_type": "code",
   "execution_count": 118,
   "metadata": {
    "collapsed": false
   },
   "outputs": [
    {
     "data": {
      "text/html": [
       "<div>\n",
       "<table border=\"1\" class=\"dataframe\">\n",
       "  <thead>\n",
       "    <tr style=\"text-align: right;\">\n",
       "      <th></th>\n",
       "      <th>pid</th>\n",
       "      <th>manufacturer</th>\n",
       "      <th>group</th>\n",
       "      <th>unit</th>\n",
       "      <th>pharmForm</th>\n",
       "      <th>genericProduct</th>\n",
       "      <th>salesIndex</th>\n",
       "      <th>category</th>\n",
       "      <th>rrp</th>\n",
       "      <th>Content</th>\n",
       "    </tr>\n",
       "  </thead>\n",
       "  <tbody>\n",
       "    <tr>\n",
       "      <th>0</th>\n",
       "      <td>1</td>\n",
       "      <td>1</td>\n",
       "      <td>529</td>\n",
       "      <td>7</td>\n",
       "      <td>135</td>\n",
       "      <td>0</td>\n",
       "      <td>40</td>\n",
       "      <td>NaN</td>\n",
       "      <td>10.89</td>\n",
       "      <td>80.0</td>\n",
       "    </tr>\n",
       "    <tr>\n",
       "      <th>1</th>\n",
       "      <td>2</td>\n",
       "      <td>1</td>\n",
       "      <td>529</td>\n",
       "      <td>7</td>\n",
       "      <td>135</td>\n",
       "      <td>0</td>\n",
       "      <td>40</td>\n",
       "      <td>NaN</td>\n",
       "      <td>10.89</td>\n",
       "      <td>80.0</td>\n",
       "    </tr>\n",
       "    <tr>\n",
       "      <th>2</th>\n",
       "      <td>3</td>\n",
       "      <td>1</td>\n",
       "      <td>529</td>\n",
       "      <td>1</td>\n",
       "      <td>45</td>\n",
       "      <td>0</td>\n",
       "      <td>40</td>\n",
       "      <td>NaN</td>\n",
       "      <td>16.45</td>\n",
       "      <td>10.0</td>\n",
       "    </tr>\n",
       "    <tr>\n",
       "      <th>3</th>\n",
       "      <td>4</td>\n",
       "      <td>1</td>\n",
       "      <td>529</td>\n",
       "      <td>7</td>\n",
       "      <td>135</td>\n",
       "      <td>0</td>\n",
       "      <td>40</td>\n",
       "      <td>NaN</td>\n",
       "      <td>10.89</td>\n",
       "      <td>80.0</td>\n",
       "    </tr>\n",
       "    <tr>\n",
       "      <th>4</th>\n",
       "      <td>5</td>\n",
       "      <td>2</td>\n",
       "      <td>74</td>\n",
       "      <td>7</td>\n",
       "      <td>112</td>\n",
       "      <td>0</td>\n",
       "      <td>40</td>\n",
       "      <td>1.0</td>\n",
       "      <td>22.53</td>\n",
       "      <td>8.0</td>\n",
       "    </tr>\n",
       "  </tbody>\n",
       "</table>\n",
       "</div>"
      ],
      "text/plain": [
       "   pid  manufacturer  group  unit  pharmForm  genericProduct  salesIndex  \\\n",
       "0    1             1    529     7        135               0          40   \n",
       "1    2             1    529     7        135               0          40   \n",
       "2    3             1    529     1         45               0          40   \n",
       "3    4             1    529     7        135               0          40   \n",
       "4    5             2     74     7        112               0          40   \n",
       "\n",
       "   category    rrp  Content  \n",
       "0       NaN  10.89     80.0  \n",
       "1       NaN  10.89     80.0  \n",
       "2       NaN  16.45     10.0  \n",
       "3       NaN  10.89     80.0  \n",
       "4       1.0  22.53      8.0  "
      ]
     },
     "execution_count": 118,
     "metadata": {},
     "output_type": "execute_result"
    }
   ],
   "source": [
    "### 前處理content的資料型態\n",
    "content = pd.DataFrame(df_items00.content.str.split('X',2).tolist(), columns = ['x','y','z'])\n",
    "content = content.fillna('1')\n",
    "content.x = pd.to_numeric(content.x, errors='coerce')\n",
    "content.y = pd.to_numeric(content.y, errors='coerce')\n",
    "content.z = pd.to_numeric(content.z, errors='coerce')\n",
    "content['Content'] = content.x * content.y * content.z\n",
    "df_items00 = pd.concat([df_items00, content], axis=1, join_axes=[df_items00.index])\n",
    "del df_items00[\"x\"]\n",
    "del df_items00[\"y\"]\n",
    "del df_items00[\"z\"]\n",
    "del df_items00[\"content\"]\n",
    "\n",
    "### 將categorical columns轉成數字型態\n",
    "df_items00.group = df_items00.group.astype(\"category\").cat.codes\n",
    "df_items00.unit = df_items00.unit.astype(\"category\").cat.codes\n",
    "df_items00.pharmForm = df_items00.pharmForm.astype(\"category\").cat.codes\n",
    "#df_items = pd.get_dummies(df_items)\n",
    "\n",
    "df_items00.head()"
   ]
  },
  {
   "cell_type": "code",
   "execution_count": 119,
   "metadata": {
    "collapsed": false
   },
   "outputs": [
    {
     "data": {
      "text/html": [
       "<div>\n",
       "<table border=\"1\" class=\"dataframe\">\n",
       "  <thead>\n",
       "    <tr style=\"text-align: right;\">\n",
       "      <th></th>\n",
       "      <th>pid</th>\n",
       "      <th>manufacturer</th>\n",
       "      <th>group</th>\n",
       "      <th>unit</th>\n",
       "      <th>pharmForm</th>\n",
       "      <th>genericProduct</th>\n",
       "      <th>salesIndex</th>\n",
       "      <th>category</th>\n",
       "      <th>rrp</th>\n",
       "      <th>Content</th>\n",
       "    </tr>\n",
       "  </thead>\n",
       "  <tbody>\n",
       "    <tr>\n",
       "      <th>0</th>\n",
       "      <td>1</td>\n",
       "      <td>1</td>\n",
       "      <td>529</td>\n",
       "      <td>7</td>\n",
       "      <td>135</td>\n",
       "      <td>0</td>\n",
       "      <td>40</td>\n",
       "      <td>113.933996</td>\n",
       "      <td>10.89</td>\n",
       "      <td>80.0</td>\n",
       "    </tr>\n",
       "    <tr>\n",
       "      <th>1</th>\n",
       "      <td>2</td>\n",
       "      <td>1</td>\n",
       "      <td>529</td>\n",
       "      <td>7</td>\n",
       "      <td>135</td>\n",
       "      <td>0</td>\n",
       "      <td>40</td>\n",
       "      <td>113.933996</td>\n",
       "      <td>10.89</td>\n",
       "      <td>80.0</td>\n",
       "    </tr>\n",
       "    <tr>\n",
       "      <th>2</th>\n",
       "      <td>3</td>\n",
       "      <td>1</td>\n",
       "      <td>529</td>\n",
       "      <td>1</td>\n",
       "      <td>45</td>\n",
       "      <td>0</td>\n",
       "      <td>40</td>\n",
       "      <td>113.933996</td>\n",
       "      <td>16.45</td>\n",
       "      <td>10.0</td>\n",
       "    </tr>\n",
       "    <tr>\n",
       "      <th>3</th>\n",
       "      <td>4</td>\n",
       "      <td>1</td>\n",
       "      <td>529</td>\n",
       "      <td>7</td>\n",
       "      <td>135</td>\n",
       "      <td>0</td>\n",
       "      <td>40</td>\n",
       "      <td>113.933996</td>\n",
       "      <td>10.89</td>\n",
       "      <td>80.0</td>\n",
       "    </tr>\n",
       "    <tr>\n",
       "      <th>4</th>\n",
       "      <td>5</td>\n",
       "      <td>2</td>\n",
       "      <td>74</td>\n",
       "      <td>7</td>\n",
       "      <td>112</td>\n",
       "      <td>0</td>\n",
       "      <td>40</td>\n",
       "      <td>1.000000</td>\n",
       "      <td>22.53</td>\n",
       "      <td>8.0</td>\n",
       "    </tr>\n",
       "  </tbody>\n",
       "</table>\n",
       "</div>"
      ],
      "text/plain": [
       "   pid  manufacturer  group  unit  pharmForm  genericProduct  salesIndex  \\\n",
       "0    1             1    529     7        135               0          40   \n",
       "1    2             1    529     7        135               0          40   \n",
       "2    3             1    529     1         45               0          40   \n",
       "3    4             1    529     7        135               0          40   \n",
       "4    5             2     74     7        112               0          40   \n",
       "\n",
       "     category    rrp  Content  \n",
       "0  113.933996  10.89     80.0  \n",
       "1  113.933996  10.89     80.0  \n",
       "2  113.933996  16.45     10.0  \n",
       "3  113.933996  10.89     80.0  \n",
       "4    1.000000  22.53      8.0  "
      ]
     },
     "execution_count": 119,
     "metadata": {},
     "output_type": "execute_result"
    }
   ],
   "source": [
    "### Filling Missing Value\n",
    "df_items00.category = df_items00.category.fillna(value = np.mean(df_items00.category))\n",
    "df_items00.Content = df_items00.Content.fillna(value = np.mean(df_items00.Content))\n",
    "df_items00.head()"
   ]
  },
  {
   "cell_type": "markdown",
   "metadata": {},
   "source": [
    "### 刪掉交易次數很少的"
   ]
  },
  {
   "cell_type": "code",
   "execution_count": 120,
   "metadata": {
    "collapsed": false
   },
   "outputs": [
    {
     "data": {
      "text/html": [
       "<div>\n",
       "<table border=\"1\" class=\"dataframe\">\n",
       "  <thead>\n",
       "    <tr style=\"text-align: right;\">\n",
       "      <th></th>\n",
       "      <th>pid</th>\n",
       "      <th>manufacturer</th>\n",
       "      <th>group</th>\n",
       "      <th>unit</th>\n",
       "      <th>pharmForm</th>\n",
       "      <th>genericProduct</th>\n",
       "      <th>salesIndex</th>\n",
       "      <th>category</th>\n",
       "      <th>rrp</th>\n",
       "      <th>Content</th>\n",
       "      <th>fre</th>\n",
       "    </tr>\n",
       "  </thead>\n",
       "  <tbody>\n",
       "    <tr>\n",
       "      <th>0</th>\n",
       "      <td>1</td>\n",
       "      <td>1</td>\n",
       "      <td>529</td>\n",
       "      <td>7</td>\n",
       "      <td>135</td>\n",
       "      <td>0</td>\n",
       "      <td>40</td>\n",
       "      <td>113.933996</td>\n",
       "      <td>10.89</td>\n",
       "      <td>80.0</td>\n",
       "      <td>8</td>\n",
       "    </tr>\n",
       "    <tr>\n",
       "      <th>1</th>\n",
       "      <td>2</td>\n",
       "      <td>1</td>\n",
       "      <td>529</td>\n",
       "      <td>7</td>\n",
       "      <td>135</td>\n",
       "      <td>0</td>\n",
       "      <td>40</td>\n",
       "      <td>113.933996</td>\n",
       "      <td>10.89</td>\n",
       "      <td>80.0</td>\n",
       "      <td>3</td>\n",
       "    </tr>\n",
       "    <tr>\n",
       "      <th>2</th>\n",
       "      <td>3</td>\n",
       "      <td>1</td>\n",
       "      <td>529</td>\n",
       "      <td>1</td>\n",
       "      <td>45</td>\n",
       "      <td>0</td>\n",
       "      <td>40</td>\n",
       "      <td>113.933996</td>\n",
       "      <td>16.45</td>\n",
       "      <td>10.0</td>\n",
       "      <td>14</td>\n",
       "    </tr>\n",
       "    <tr>\n",
       "      <th>3</th>\n",
       "      <td>4</td>\n",
       "      <td>1</td>\n",
       "      <td>529</td>\n",
       "      <td>7</td>\n",
       "      <td>135</td>\n",
       "      <td>0</td>\n",
       "      <td>40</td>\n",
       "      <td>113.933996</td>\n",
       "      <td>10.89</td>\n",
       "      <td>80.0</td>\n",
       "      <td>13</td>\n",
       "    </tr>\n",
       "    <tr>\n",
       "      <th>4</th>\n",
       "      <td>5</td>\n",
       "      <td>2</td>\n",
       "      <td>74</td>\n",
       "      <td>7</td>\n",
       "      <td>112</td>\n",
       "      <td>0</td>\n",
       "      <td>40</td>\n",
       "      <td>1.000000</td>\n",
       "      <td>22.53</td>\n",
       "      <td>8.0</td>\n",
       "      <td>29</td>\n",
       "    </tr>\n",
       "  </tbody>\n",
       "</table>\n",
       "</div>"
      ],
      "text/plain": [
       "   pid  manufacturer  group  unit  pharmForm  genericProduct  salesIndex  \\\n",
       "0    1             1    529     7        135               0          40   \n",
       "1    2             1    529     7        135               0          40   \n",
       "2    3             1    529     1         45               0          40   \n",
       "3    4             1    529     7        135               0          40   \n",
       "4    5             2     74     7        112               0          40   \n",
       "\n",
       "     category    rrp  Content  fre  \n",
       "0  113.933996  10.89     80.0    8  \n",
       "1  113.933996  10.89     80.0    3  \n",
       "2  113.933996  16.45     10.0   14  \n",
       "3  113.933996  10.89     80.0   13  \n",
       "4    1.000000  22.53      8.0   29  "
      ]
     },
     "execution_count": 120,
     "metadata": {},
     "output_type": "execute_result"
    }
   ],
   "source": [
    "df_items0 = df_items00.merge(cnt_srs0, how='inner', on=\"pid\", left_on=None, right_on=None,\n",
    "                              left_index=False, right_index=False, sort=True,\n",
    "                              suffixes=('_x', '_y'), copy=True, indicator=False)\n",
    "df_items0 = df_items0.reset_index(drop = True, inplace = False, col_level = 0, col_fill = '')\n",
    "df_items0.head()"
   ]
  },
  {
   "cell_type": "code",
   "execution_count": 121,
   "metadata": {
    "collapsed": false
   },
   "outputs": [
    {
     "data": {
      "text/html": [
       "<div>\n",
       "<table border=\"1\" class=\"dataframe\">\n",
       "  <thead>\n",
       "    <tr style=\"text-align: right;\">\n",
       "      <th></th>\n",
       "      <th>pid</th>\n",
       "      <th>manufacturer</th>\n",
       "      <th>group</th>\n",
       "      <th>unit</th>\n",
       "      <th>pharmForm</th>\n",
       "      <th>genericProduct</th>\n",
       "      <th>salesIndex</th>\n",
       "      <th>category</th>\n",
       "      <th>rrp</th>\n",
       "      <th>Content</th>\n",
       "    </tr>\n",
       "  </thead>\n",
       "  <tbody>\n",
       "    <tr>\n",
       "      <th>0</th>\n",
       "      <td>7</td>\n",
       "      <td>3</td>\n",
       "      <td>488</td>\n",
       "      <td>7</td>\n",
       "      <td>145</td>\n",
       "      <td>0</td>\n",
       "      <td>53</td>\n",
       "      <td>3.0</td>\n",
       "      <td>21.45</td>\n",
       "      <td>15.0</td>\n",
       "    </tr>\n",
       "    <tr>\n",
       "      <th>1</th>\n",
       "      <td>8</td>\n",
       "      <td>1</td>\n",
       "      <td>529</td>\n",
       "      <td>7</td>\n",
       "      <td>135</td>\n",
       "      <td>0</td>\n",
       "      <td>40</td>\n",
       "      <td>2.0</td>\n",
       "      <td>10.89</td>\n",
       "      <td>80.0</td>\n",
       "    </tr>\n",
       "    <tr>\n",
       "      <th>2</th>\n",
       "      <td>10</td>\n",
       "      <td>4</td>\n",
       "      <td>184</td>\n",
       "      <td>7</td>\n",
       "      <td>43</td>\n",
       "      <td>0</td>\n",
       "      <td>40</td>\n",
       "      <td>4.0</td>\n",
       "      <td>21.99</td>\n",
       "      <td>30.0</td>\n",
       "    </tr>\n",
       "    <tr>\n",
       "      <th>3</th>\n",
       "      <td>11</td>\n",
       "      <td>4</td>\n",
       "      <td>184</td>\n",
       "      <td>7</td>\n",
       "      <td>43</td>\n",
       "      <td>0</td>\n",
       "      <td>40</td>\n",
       "      <td>4.0</td>\n",
       "      <td>38.49</td>\n",
       "      <td>60.0</td>\n",
       "    </tr>\n",
       "    <tr>\n",
       "      <th>4</th>\n",
       "      <td>12</td>\n",
       "      <td>5</td>\n",
       "      <td>132</td>\n",
       "      <td>7</td>\n",
       "      <td>73</td>\n",
       "      <td>1</td>\n",
       "      <td>40</td>\n",
       "      <td>5.0</td>\n",
       "      <td>9.85</td>\n",
       "      <td>14.0</td>\n",
       "    </tr>\n",
       "  </tbody>\n",
       "</table>\n",
       "</div>"
      ],
      "text/plain": [
       "   pid  manufacturer  group  unit  pharmForm  genericProduct  salesIndex  \\\n",
       "0    7             3    488     7        145               0          53   \n",
       "1    8             1    529     7        135               0          40   \n",
       "2   10             4    184     7         43               0          40   \n",
       "3   11             4    184     7         43               0          40   \n",
       "4   12             5    132     7         73               1          40   \n",
       "\n",
       "   category    rrp  Content  \n",
       "0       3.0  21.45     15.0  \n",
       "1       2.0  10.89     80.0  \n",
       "2       4.0  21.99     30.0  \n",
       "3       4.0  38.49     60.0  \n",
       "4       5.0   9.85     14.0  "
      ]
     },
     "execution_count": 121,
     "metadata": {},
     "output_type": "execute_result"
    }
   ],
   "source": [
    "df_items1 = df_items0[(df_items0.fre >= threshold_frequence)]\n",
    "del df_items1[\"fre\"]\n",
    "df_items1 = df_items1.reset_index(drop = True, inplace = False, col_level = 0, col_fill = '')\n",
    "df_items1.head()"
   ]
  },
  {
   "cell_type": "markdown",
   "metadata": {},
   "source": [
    "### Dummies varible and MinMax(0, 1)"
   ]
  },
  {
   "cell_type": "code",
   "execution_count": 122,
   "metadata": {
    "collapsed": true
   },
   "outputs": [],
   "source": [
    "def onehot2(df):\n",
    "    df_le = pd.DataFrame(np_utils.to_categorical(df,(max(df)+1)))\n",
    "    original_dim = df_le.shape[1]\n",
    "    print('original dimension : %d' % df_le.shape[1])\n",
    "    return df_le, original_dim"
   ]
  },
  {
   "cell_type": "code",
   "execution_count": 123,
   "metadata": {
    "collapsed": false
   },
   "outputs": [
    {
     "name": "stdout",
     "output_type": "stream",
     "text": [
      "original dimension : 533\n",
      "original dimension : 183\n",
      "original dimension : 8\n",
      "original dimension : 1067\n",
      "original dimension : 54\n"
     ]
    },
    {
     "data": {
      "text/html": [
       "<div>\n",
       "<table border=\"1\" class=\"dataframe\">\n",
       "  <thead>\n",
       "    <tr style=\"text-align: right;\">\n",
       "      <th></th>\n",
       "      <th>pid</th>\n",
       "      <th>2</th>\n",
       "      <th>category</th>\n",
       "      <th>rrp</th>\n",
       "      <th>Content</th>\n",
       "      <th>6</th>\n",
       "      <th>7</th>\n",
       "      <th>8</th>\n",
       "      <th>9</th>\n",
       "      <th>10</th>\n",
       "      <th>...</th>\n",
       "      <th>1841</th>\n",
       "      <th>1842</th>\n",
       "      <th>1843</th>\n",
       "      <th>1844</th>\n",
       "      <th>1845</th>\n",
       "      <th>1846</th>\n",
       "      <th>1847</th>\n",
       "      <th>1848</th>\n",
       "      <th>1849</th>\n",
       "      <th>1850</th>\n",
       "    </tr>\n",
       "  </thead>\n",
       "  <tbody>\n",
       "    <tr>\n",
       "      <th>0</th>\n",
       "      <td>7</td>\n",
       "      <td>0</td>\n",
       "      <td>3.0</td>\n",
       "      <td>21.45</td>\n",
       "      <td>15.0</td>\n",
       "      <td>0.0</td>\n",
       "      <td>0.0</td>\n",
       "      <td>0.0</td>\n",
       "      <td>0.0</td>\n",
       "      <td>0.0</td>\n",
       "      <td>...</td>\n",
       "      <td>0.0</td>\n",
       "      <td>0.0</td>\n",
       "      <td>0.0</td>\n",
       "      <td>0.0</td>\n",
       "      <td>0.0</td>\n",
       "      <td>0.0</td>\n",
       "      <td>0.0</td>\n",
       "      <td>0.0</td>\n",
       "      <td>0.0</td>\n",
       "      <td>1.0</td>\n",
       "    </tr>\n",
       "    <tr>\n",
       "      <th>1</th>\n",
       "      <td>8</td>\n",
       "      <td>0</td>\n",
       "      <td>2.0</td>\n",
       "      <td>10.89</td>\n",
       "      <td>80.0</td>\n",
       "      <td>0.0</td>\n",
       "      <td>0.0</td>\n",
       "      <td>0.0</td>\n",
       "      <td>0.0</td>\n",
       "      <td>0.0</td>\n",
       "      <td>...</td>\n",
       "      <td>0.0</td>\n",
       "      <td>0.0</td>\n",
       "      <td>0.0</td>\n",
       "      <td>0.0</td>\n",
       "      <td>0.0</td>\n",
       "      <td>0.0</td>\n",
       "      <td>0.0</td>\n",
       "      <td>0.0</td>\n",
       "      <td>0.0</td>\n",
       "      <td>0.0</td>\n",
       "    </tr>\n",
       "    <tr>\n",
       "      <th>2</th>\n",
       "      <td>10</td>\n",
       "      <td>0</td>\n",
       "      <td>4.0</td>\n",
       "      <td>21.99</td>\n",
       "      <td>30.0</td>\n",
       "      <td>0.0</td>\n",
       "      <td>0.0</td>\n",
       "      <td>0.0</td>\n",
       "      <td>0.0</td>\n",
       "      <td>0.0</td>\n",
       "      <td>...</td>\n",
       "      <td>0.0</td>\n",
       "      <td>0.0</td>\n",
       "      <td>0.0</td>\n",
       "      <td>0.0</td>\n",
       "      <td>0.0</td>\n",
       "      <td>0.0</td>\n",
       "      <td>0.0</td>\n",
       "      <td>0.0</td>\n",
       "      <td>0.0</td>\n",
       "      <td>0.0</td>\n",
       "    </tr>\n",
       "    <tr>\n",
       "      <th>3</th>\n",
       "      <td>11</td>\n",
       "      <td>0</td>\n",
       "      <td>4.0</td>\n",
       "      <td>38.49</td>\n",
       "      <td>60.0</td>\n",
       "      <td>0.0</td>\n",
       "      <td>0.0</td>\n",
       "      <td>0.0</td>\n",
       "      <td>0.0</td>\n",
       "      <td>0.0</td>\n",
       "      <td>...</td>\n",
       "      <td>0.0</td>\n",
       "      <td>0.0</td>\n",
       "      <td>0.0</td>\n",
       "      <td>0.0</td>\n",
       "      <td>0.0</td>\n",
       "      <td>0.0</td>\n",
       "      <td>0.0</td>\n",
       "      <td>0.0</td>\n",
       "      <td>0.0</td>\n",
       "      <td>0.0</td>\n",
       "    </tr>\n",
       "    <tr>\n",
       "      <th>4</th>\n",
       "      <td>12</td>\n",
       "      <td>1</td>\n",
       "      <td>5.0</td>\n",
       "      <td>9.85</td>\n",
       "      <td>14.0</td>\n",
       "      <td>0.0</td>\n",
       "      <td>0.0</td>\n",
       "      <td>0.0</td>\n",
       "      <td>0.0</td>\n",
       "      <td>0.0</td>\n",
       "      <td>...</td>\n",
       "      <td>0.0</td>\n",
       "      <td>0.0</td>\n",
       "      <td>0.0</td>\n",
       "      <td>0.0</td>\n",
       "      <td>0.0</td>\n",
       "      <td>0.0</td>\n",
       "      <td>0.0</td>\n",
       "      <td>0.0</td>\n",
       "      <td>0.0</td>\n",
       "      <td>0.0</td>\n",
       "    </tr>\n",
       "  </tbody>\n",
       "</table>\n",
       "<p>5 rows × 1850 columns</p>\n",
       "</div>"
      ],
      "text/plain": [
       "   pid  2  category    rrp  Content    6    7    8    9   10  ...   1841  \\\n",
       "0    7  0       3.0  21.45     15.0  0.0  0.0  0.0  0.0  0.0  ...    0.0   \n",
       "1    8  0       2.0  10.89     80.0  0.0  0.0  0.0  0.0  0.0  ...    0.0   \n",
       "2   10  0       4.0  21.99     30.0  0.0  0.0  0.0  0.0  0.0  ...    0.0   \n",
       "3   11  0       4.0  38.49     60.0  0.0  0.0  0.0  0.0  0.0  ...    0.0   \n",
       "4   12  1       5.0   9.85     14.0  0.0  0.0  0.0  0.0  0.0  ...    0.0   \n",
       "\n",
       "   1842  1843  1844  1845  1846  1847  1848  1849  1850  \n",
       "0   0.0   0.0   0.0   0.0   0.0   0.0   0.0   0.0   1.0  \n",
       "1   0.0   0.0   0.0   0.0   0.0   0.0   0.0   0.0   0.0  \n",
       "2   0.0   0.0   0.0   0.0   0.0   0.0   0.0   0.0   0.0  \n",
       "3   0.0   0.0   0.0   0.0   0.0   0.0   0.0   0.0   0.0  \n",
       "4   0.0   0.0   0.0   0.0   0.0   0.0   0.0   0.0   0.0  \n",
       "\n",
       "[5 rows x 1850 columns]"
      ]
     },
     "execution_count": 123,
     "metadata": {},
     "output_type": "execute_result"
    }
   ],
   "source": [
    "g1, g1_dim = onehot2(df_items1.group)\n",
    "p1, p1_dim = onehot2(df_items1.pharmForm)\n",
    "u1, u1_dim = onehot2(df_items1.unit)\n",
    "m1, m1_dim = onehot2(df_items1.manufacturer)\n",
    "s1, s1_dim = onehot2(df_items1.salesIndex)\n",
    "\n",
    "df_items_oh0 = pd.concat([df_items1, g1, p1, u1, m1, s1], axis=1, join_axes=[df_items1.index])\n",
    "df_items_oh = df_items_oh0.drop([\"group\", \"pharmForm\", \"unit\", \"manufacturer\", \"salesIndex\"], axis=1)\n",
    "df_items_oh.columns = [np.arange(1, (pd.DataFrame(df_items_oh).shape[1]+1), 1)]\n",
    "df_items_oh.rename(columns={1: 'pid', 3: 'category', 4: 'rrp', 5: 'Content'}, inplace = True)\n",
    "df_items_oh.head()"
   ]
  },
  {
   "cell_type": "code",
   "execution_count": 126,
   "metadata": {
    "collapsed": false
   },
   "outputs": [
    {
     "data": {
      "text/html": [
       "<div>\n",
       "<table border=\"1\" class=\"dataframe\">\n",
       "  <thead>\n",
       "    <tr style=\"text-align: right;\">\n",
       "      <th></th>\n",
       "      <th>pid</th>\n",
       "      <th>2</th>\n",
       "      <th>6</th>\n",
       "      <th>7</th>\n",
       "      <th>8</th>\n",
       "      <th>9</th>\n",
       "      <th>10</th>\n",
       "      <th>11</th>\n",
       "      <th>12</th>\n",
       "      <th>13</th>\n",
       "      <th>...</th>\n",
       "      <th>1844</th>\n",
       "      <th>1845</th>\n",
       "      <th>1846</th>\n",
       "      <th>1847</th>\n",
       "      <th>1848</th>\n",
       "      <th>1849</th>\n",
       "      <th>1850</th>\n",
       "      <th>category</th>\n",
       "      <th>rrp</th>\n",
       "      <th>Content</th>\n",
       "    </tr>\n",
       "  </thead>\n",
       "  <tbody>\n",
       "    <tr>\n",
       "      <th>0</th>\n",
       "      <td>7</td>\n",
       "      <td>0</td>\n",
       "      <td>0.0</td>\n",
       "      <td>0.0</td>\n",
       "      <td>0.0</td>\n",
       "      <td>0.0</td>\n",
       "      <td>0.0</td>\n",
       "      <td>0.0</td>\n",
       "      <td>0.0</td>\n",
       "      <td>0.0</td>\n",
       "      <td>...</td>\n",
       "      <td>0.0</td>\n",
       "      <td>0.0</td>\n",
       "      <td>0.0</td>\n",
       "      <td>0.0</td>\n",
       "      <td>0.0</td>\n",
       "      <td>0.0</td>\n",
       "      <td>1.0</td>\n",
       "      <td>0.004902</td>\n",
       "      <td>0.080376</td>\n",
       "      <td>0.000670</td>\n",
       "    </tr>\n",
       "    <tr>\n",
       "      <th>1</th>\n",
       "      <td>8</td>\n",
       "      <td>0</td>\n",
       "      <td>0.0</td>\n",
       "      <td>0.0</td>\n",
       "      <td>0.0</td>\n",
       "      <td>0.0</td>\n",
       "      <td>0.0</td>\n",
       "      <td>0.0</td>\n",
       "      <td>0.0</td>\n",
       "      <td>0.0</td>\n",
       "      <td>...</td>\n",
       "      <td>0.0</td>\n",
       "      <td>0.0</td>\n",
       "      <td>0.0</td>\n",
       "      <td>0.0</td>\n",
       "      <td>0.0</td>\n",
       "      <td>0.0</td>\n",
       "      <td>0.0</td>\n",
       "      <td>0.002451</td>\n",
       "      <td>0.040677</td>\n",
       "      <td>0.003625</td>\n",
       "    </tr>\n",
       "    <tr>\n",
       "      <th>2</th>\n",
       "      <td>10</td>\n",
       "      <td>0</td>\n",
       "      <td>0.0</td>\n",
       "      <td>0.0</td>\n",
       "      <td>0.0</td>\n",
       "      <td>0.0</td>\n",
       "      <td>0.0</td>\n",
       "      <td>0.0</td>\n",
       "      <td>0.0</td>\n",
       "      <td>0.0</td>\n",
       "      <td>...</td>\n",
       "      <td>0.0</td>\n",
       "      <td>0.0</td>\n",
       "      <td>0.0</td>\n",
       "      <td>0.0</td>\n",
       "      <td>0.0</td>\n",
       "      <td>0.0</td>\n",
       "      <td>0.0</td>\n",
       "      <td>0.007353</td>\n",
       "      <td>0.082406</td>\n",
       "      <td>0.001352</td>\n",
       "    </tr>\n",
       "    <tr>\n",
       "      <th>3</th>\n",
       "      <td>11</td>\n",
       "      <td>0</td>\n",
       "      <td>0.0</td>\n",
       "      <td>0.0</td>\n",
       "      <td>0.0</td>\n",
       "      <td>0.0</td>\n",
       "      <td>0.0</td>\n",
       "      <td>0.0</td>\n",
       "      <td>0.0</td>\n",
       "      <td>0.0</td>\n",
       "      <td>...</td>\n",
       "      <td>0.0</td>\n",
       "      <td>0.0</td>\n",
       "      <td>0.0</td>\n",
       "      <td>0.0</td>\n",
       "      <td>0.0</td>\n",
       "      <td>0.0</td>\n",
       "      <td>0.0</td>\n",
       "      <td>0.007353</td>\n",
       "      <td>0.144436</td>\n",
       "      <td>0.002716</td>\n",
       "    </tr>\n",
       "    <tr>\n",
       "      <th>4</th>\n",
       "      <td>12</td>\n",
       "      <td>1</td>\n",
       "      <td>0.0</td>\n",
       "      <td>0.0</td>\n",
       "      <td>0.0</td>\n",
       "      <td>0.0</td>\n",
       "      <td>0.0</td>\n",
       "      <td>0.0</td>\n",
       "      <td>0.0</td>\n",
       "      <td>0.0</td>\n",
       "      <td>...</td>\n",
       "      <td>0.0</td>\n",
       "      <td>0.0</td>\n",
       "      <td>0.0</td>\n",
       "      <td>0.0</td>\n",
       "      <td>0.0</td>\n",
       "      <td>0.0</td>\n",
       "      <td>0.0</td>\n",
       "      <td>0.009804</td>\n",
       "      <td>0.036767</td>\n",
       "      <td>0.000625</td>\n",
       "    </tr>\n",
       "  </tbody>\n",
       "</table>\n",
       "<p>5 rows × 1850 columns</p>\n",
       "</div>"
      ],
      "text/plain": [
       "   pid  2    6    7    8    9   10   11   12   13    ...     1844  1845  1846  \\\n",
       "0    7  0  0.0  0.0  0.0  0.0  0.0  0.0  0.0  0.0    ...      0.0   0.0   0.0   \n",
       "1    8  0  0.0  0.0  0.0  0.0  0.0  0.0  0.0  0.0    ...      0.0   0.0   0.0   \n",
       "2   10  0  0.0  0.0  0.0  0.0  0.0  0.0  0.0  0.0    ...      0.0   0.0   0.0   \n",
       "3   11  0  0.0  0.0  0.0  0.0  0.0  0.0  0.0  0.0    ...      0.0   0.0   0.0   \n",
       "4   12  1  0.0  0.0  0.0  0.0  0.0  0.0  0.0  0.0    ...      0.0   0.0   0.0   \n",
       "\n",
       "   1847  1848  1849  1850  category       rrp   Content  \n",
       "0   0.0   0.0   0.0   1.0  0.004902  0.080376  0.000670  \n",
       "1   0.0   0.0   0.0   0.0  0.002451  0.040677  0.003625  \n",
       "2   0.0   0.0   0.0   0.0  0.007353  0.082406  0.001352  \n",
       "3   0.0   0.0   0.0   0.0  0.007353  0.144436  0.002716  \n",
       "4   0.0   0.0   0.0   0.0  0.009804  0.036767  0.000625  \n",
       "\n",
       "[5 rows x 1850 columns]"
      ]
     },
     "execution_count": 126,
     "metadata": {},
     "output_type": "execute_result"
    }
   ],
   "source": [
    "column_conti = [\"category\",\"rrp\",\"Content\"]\n",
    "df_num = df_items_oh[column_conti]\n",
    "\n",
    "sc = MinMaxScaler(feature_range = (0, 1), copy = True)\n",
    "Z = pd.DataFrame(sc.fit_transform(df_num))\n",
    "Z.columns = column_conti\n",
    "\n",
    "df_cat = df_items_oh.drop(column_conti, axis = 1)\n",
    "df_cat = df_cat.reset_index(drop = True, inplace = False, col_level = 0, col_fill = '')\n",
    "\n",
    "df_st = df_cat.join(Z, on = None, how = 'inner', lsuffix = '', rsuffix = '', sort = False)\n",
    "df_st.head()"
   ]
  },
  {
   "cell_type": "code",
   "execution_count": 127,
   "metadata": {
    "collapsed": false
   },
   "outputs": [
    {
     "name": "stdout",
     "output_type": "stream",
     "text": [
      "Size of testing dataset : 11106\n",
      "Size of testing dataset DropNA : 11106\n",
      "Size of testing dataset : 11106\n",
      "Size of testing dataset DropNA : 11106\n",
      "Size of testing dataset : 11106\n",
      "Size of testing dataset DropNA : 11106\n"
     ]
    }
   ],
   "source": [
    "missing(Z)\n",
    "missing(df_cat)\n",
    "missing(df_items_oh)"
   ]
  },
  {
   "cell_type": "markdown",
   "metadata": {},
   "source": [
    "## Kmeans and PCA"
   ]
  },
  {
   "cell_type": "code",
   "execution_count": 128,
   "metadata": {
    "collapsed": false
   },
   "outputs": [],
   "source": [
    "X = df_st.iloc[:, 1:]"
   ]
  },
  {
   "cell_type": "code",
   "execution_count": 129,
   "metadata": {
    "collapsed": true
   },
   "outputs": [],
   "source": [
    "from sklearn.decomposition import PCA\n",
    "pca = PCA(n_components = 2,\n",
    "          copy = True,\n",
    "          whiten = False,\n",
    "          svd_solver = 'auto',\n",
    "          tol = 0.0,\n",
    "          iterated_power = 'auto',\n",
    "          random_state = 100)"
   ]
  },
  {
   "cell_type": "code",
   "execution_count": 130,
   "metadata": {
    "collapsed": true
   },
   "outputs": [],
   "source": [
    "from sklearn.manifold import TSNE\n",
    "tsne = TSNE(n_components = 2,\n",
    "            perplexity = 30.0,\n",
    "            early_exaggeration = 4.0,\n",
    "            learning_rate = 1000.0,\n",
    "            n_iter = 1000,\n",
    "            n_iter_without_progress = 30,\n",
    "            min_grad_norm = 1e-07,\n",
    "            metric = 'euclidean',\n",
    "            init = 'random',\n",
    "            verbose = 0,\n",
    "            random_state = 100,\n",
    "            method = 'barnes_hut',\n",
    "            angle = 0.5)"
   ]
  },
  {
   "cell_type": "code",
   "execution_count": 131,
   "metadata": {
    "collapsed": true
   },
   "outputs": [],
   "source": [
    "def kmeans(n_clusters):\n",
    "    ### kmeans\n",
    "    from sklearn.cluster import KMeans\n",
    "    kmeans = KMeans(n_clusters = n_clusters,\n",
    "                    init = 'k-means++',\n",
    "                    n_init = 10,\n",
    "                    max_iter = 300,\n",
    "                    tol = 0.0001,\n",
    "                    precompute_distances = 'auto',\n",
    "                    verbose = 0,\n",
    "                    random_state = 100,\n",
    "                    copy_x = True,\n",
    "                    n_jobs = 1,\n",
    "                    algorithm = 'auto')\n",
    "    kmeans.fit(X)\n",
    "    label = pd.DataFrame(kmeans.labels_)\n",
    "    \n",
    "    ### pca->2\n",
    "    X_pca = pd.DataFrame(pca.fit_transform(X))\n",
    "    X1 = pd.concat([X_pca, label], axis=1, join_axes=[X_pca.index])\n",
    "    X1.columns = [\"pc1\",\"pc2\",\"label\"]\n",
    "    print(X1[\"label\"].value_counts())\n",
    "    \n",
    "    ### plot\n",
    "    cmap = cm.get_cmap('Spectral')\n",
    "    X1.plot.scatter(x = \"pc1\", y = \"pc2\", s = 10, c = \"label\", cmap = cmap)\n",
    "    plt.show()\n",
    "    return label"
   ]
  },
  {
   "cell_type": "code",
   "execution_count": 132,
   "metadata": {
    "collapsed": false
   },
   "outputs": [
    {
     "name": "stdout",
     "output_type": "stream",
     "text": [
      "2    4065\n",
      "1    3816\n",
      "0    3225\n",
      "Name: label, dtype: int64\n"
     ]
    },
    {
     "data": {
      "image/png": "[encoded data removed]",
      "text/plain": [
       "<matplotlib.figure.Figure at 0x12115b978>"
      ]
     },
     "metadata": {},
     "output_type": "display_data"
    }
   ],
   "source": [
    "label = kmeans(3)"
   ]
  },
  {
   "cell_type": "code",
   "execution_count": 133,
   "metadata": {
    "collapsed": false
   },
   "outputs": [
    {
     "data": {
      "text/html": [
       "<div>\n",
       "<table border=\"1\" class=\"dataframe\">\n",
       "  <thead>\n",
       "    <tr style=\"text-align: right;\">\n",
       "      <th></th>\n",
       "      <th>pid</th>\n",
       "      <th>manufacturer</th>\n",
       "      <th>group</th>\n",
       "      <th>unit</th>\n",
       "      <th>pharmForm</th>\n",
       "      <th>genericProduct</th>\n",
       "      <th>salesIndex</th>\n",
       "      <th>category</th>\n",
       "      <th>rrp</th>\n",
       "      <th>Content</th>\n",
       "      <th>cluster</th>\n",
       "    </tr>\n",
       "  </thead>\n",
       "  <tbody>\n",
       "    <tr>\n",
       "      <th>0</th>\n",
       "      <td>7</td>\n",
       "      <td>3</td>\n",
       "      <td>488</td>\n",
       "      <td>7</td>\n",
       "      <td>145</td>\n",
       "      <td>0</td>\n",
       "      <td>53</td>\n",
       "      <td>3.0</td>\n",
       "      <td>21.45</td>\n",
       "      <td>15.0</td>\n",
       "      <td>2</td>\n",
       "    </tr>\n",
       "    <tr>\n",
       "      <th>1</th>\n",
       "      <td>8</td>\n",
       "      <td>1</td>\n",
       "      <td>529</td>\n",
       "      <td>7</td>\n",
       "      <td>135</td>\n",
       "      <td>0</td>\n",
       "      <td>40</td>\n",
       "      <td>2.0</td>\n",
       "      <td>10.89</td>\n",
       "      <td>80.0</td>\n",
       "      <td>1</td>\n",
       "    </tr>\n",
       "    <tr>\n",
       "      <th>2</th>\n",
       "      <td>10</td>\n",
       "      <td>4</td>\n",
       "      <td>184</td>\n",
       "      <td>7</td>\n",
       "      <td>43</td>\n",
       "      <td>0</td>\n",
       "      <td>40</td>\n",
       "      <td>4.0</td>\n",
       "      <td>21.99</td>\n",
       "      <td>30.0</td>\n",
       "      <td>1</td>\n",
       "    </tr>\n",
       "    <tr>\n",
       "      <th>3</th>\n",
       "      <td>11</td>\n",
       "      <td>4</td>\n",
       "      <td>184</td>\n",
       "      <td>7</td>\n",
       "      <td>43</td>\n",
       "      <td>0</td>\n",
       "      <td>40</td>\n",
       "      <td>4.0</td>\n",
       "      <td>38.49</td>\n",
       "      <td>60.0</td>\n",
       "      <td>1</td>\n",
       "    </tr>\n",
       "    <tr>\n",
       "      <th>4</th>\n",
       "      <td>12</td>\n",
       "      <td>5</td>\n",
       "      <td>132</td>\n",
       "      <td>7</td>\n",
       "      <td>73</td>\n",
       "      <td>1</td>\n",
       "      <td>40</td>\n",
       "      <td>5.0</td>\n",
       "      <td>9.85</td>\n",
       "      <td>14.0</td>\n",
       "      <td>1</td>\n",
       "    </tr>\n",
       "  </tbody>\n",
       "</table>\n",
       "</div>"
      ],
      "text/plain": [
       "   pid  manufacturer  group  unit  pharmForm  genericProduct  salesIndex  \\\n",
       "0    7             3    488     7        145               0          53   \n",
       "1    8             1    529     7        135               0          40   \n",
       "2   10             4    184     7         43               0          40   \n",
       "3   11             4    184     7         43               0          40   \n",
       "4   12             5    132     7         73               1          40   \n",
       "\n",
       "   category    rrp  Content  cluster  \n",
       "0       3.0  21.45     15.0        2  \n",
       "1       2.0  10.89     80.0        1  \n",
       "2       4.0  21.99     30.0        1  \n",
       "3       4.0  38.49     60.0        1  \n",
       "4       5.0   9.85     14.0        1  "
      ]
     },
     "execution_count": 133,
     "metadata": {},
     "output_type": "execute_result"
    }
   ],
   "source": [
    "df_items1[\"cluster\"] = label\n",
    "df_items1.head()"
   ]
  },
  {
   "cell_type": "markdown",
   "metadata": {},
   "source": [
    "## combine training and items"
   ]
  },
  {
   "cell_type": "code",
   "execution_count": 137,
   "metadata": {
    "collapsed": false
   },
   "outputs": [
    {
     "name": "stdout",
     "output_type": "stream",
     "text": [
      "Number of hold_result: 821329\n",
      "Number of result training: 1707466\n"
     ]
    },
    {
     "data": {
      "text/html": [
       "<div>\n",
       "<table border=\"1\" class=\"dataframe\">\n",
       "  <thead>\n",
       "    <tr style=\"text-align: right;\">\n",
       "      <th></th>\n",
       "      <th>lineID</th>\n",
       "      <th>day</th>\n",
       "      <th>pid</th>\n",
       "      <th>adFlag</th>\n",
       "      <th>availability</th>\n",
       "      <th>competitorPrice</th>\n",
       "      <th>click</th>\n",
       "      <th>basket</th>\n",
       "      <th>order</th>\n",
       "      <th>price</th>\n",
       "      <th>...</th>\n",
       "      <th>manufacturer</th>\n",
       "      <th>group</th>\n",
       "      <th>unit</th>\n",
       "      <th>pharmForm</th>\n",
       "      <th>genericProduct</th>\n",
       "      <th>salesIndex</th>\n",
       "      <th>category</th>\n",
       "      <th>rrp</th>\n",
       "      <th>Content</th>\n",
       "      <th>cluster</th>\n",
       "    </tr>\n",
       "  </thead>\n",
       "  <tbody>\n",
       "    <tr>\n",
       "      <th>0</th>\n",
       "      <td>1</td>\n",
       "      <td>1</td>\n",
       "      <td>6570</td>\n",
       "      <td>0</td>\n",
       "      <td>2</td>\n",
       "      <td>14.60</td>\n",
       "      <td>1</td>\n",
       "      <td>0</td>\n",
       "      <td>0</td>\n",
       "      <td>16.89</td>\n",
       "      <td>...</td>\n",
       "      <td>255</td>\n",
       "      <td>529</td>\n",
       "      <td>5</td>\n",
       "      <td>147</td>\n",
       "      <td>0</td>\n",
       "      <td>40</td>\n",
       "      <td>193.0</td>\n",
       "      <td>18.25</td>\n",
       "      <td>50.0</td>\n",
       "      <td>1</td>\n",
       "    </tr>\n",
       "    <tr>\n",
       "      <th>1</th>\n",
       "      <td>2</td>\n",
       "      <td>1</td>\n",
       "      <td>14922</td>\n",
       "      <td>1</td>\n",
       "      <td>1</td>\n",
       "      <td>8.57</td>\n",
       "      <td>0</td>\n",
       "      <td>1</td>\n",
       "      <td>0</td>\n",
       "      <td>8.75</td>\n",
       "      <td>...</td>\n",
       "      <td>18</td>\n",
       "      <td>373</td>\n",
       "      <td>7</td>\n",
       "      <td>135</td>\n",
       "      <td>1</td>\n",
       "      <td>40</td>\n",
       "      <td>66.0</td>\n",
       "      <td>18.81</td>\n",
       "      <td>50.0</td>\n",
       "      <td>1</td>\n",
       "    </tr>\n",
       "    <tr>\n",
       "      <th>2</th>\n",
       "      <td>4</td>\n",
       "      <td>1</td>\n",
       "      <td>1145</td>\n",
       "      <td>1</td>\n",
       "      <td>1</td>\n",
       "      <td>6.59</td>\n",
       "      <td>0</td>\n",
       "      <td>0</td>\n",
       "      <td>1</td>\n",
       "      <td>6.55</td>\n",
       "      <td>...</td>\n",
       "      <td>52</td>\n",
       "      <td>308</td>\n",
       "      <td>1</td>\n",
       "      <td>44</td>\n",
       "      <td>0</td>\n",
       "      <td>40</td>\n",
       "      <td>25.0</td>\n",
       "      <td>9.31</td>\n",
       "      <td>60.0</td>\n",
       "      <td>1</td>\n",
       "    </tr>\n",
       "    <tr>\n",
       "      <th>3</th>\n",
       "      <td>5</td>\n",
       "      <td>1</td>\n",
       "      <td>3394</td>\n",
       "      <td>0</td>\n",
       "      <td>1</td>\n",
       "      <td>4.39</td>\n",
       "      <td>0</td>\n",
       "      <td>0</td>\n",
       "      <td>1</td>\n",
       "      <td>4.14</td>\n",
       "      <td>...</td>\n",
       "      <td>90</td>\n",
       "      <td>458</td>\n",
       "      <td>7</td>\n",
       "      <td>75</td>\n",
       "      <td>0</td>\n",
       "      <td>53</td>\n",
       "      <td>14.0</td>\n",
       "      <td>8.13</td>\n",
       "      <td>50.0</td>\n",
       "      <td>2</td>\n",
       "    </tr>\n",
       "    <tr>\n",
       "      <th>4</th>\n",
       "      <td>6</td>\n",
       "      <td>1</td>\n",
       "      <td>3661</td>\n",
       "      <td>0</td>\n",
       "      <td>1</td>\n",
       "      <td>13.66</td>\n",
       "      <td>0</td>\n",
       "      <td>0</td>\n",
       "      <td>1</td>\n",
       "      <td>10.03</td>\n",
       "      <td>...</td>\n",
       "      <td>90</td>\n",
       "      <td>249</td>\n",
       "      <td>5</td>\n",
       "      <td>83</td>\n",
       "      <td>0</td>\n",
       "      <td>52</td>\n",
       "      <td>127.0</td>\n",
       "      <td>21.60</td>\n",
       "      <td>1000.0</td>\n",
       "      <td>0</td>\n",
       "    </tr>\n",
       "  </tbody>\n",
       "</table>\n",
       "<p>5 rows × 24 columns</p>\n",
       "</div>"
      ],
      "text/plain": [
       "   lineID  day    pid  adFlag  availability  competitorPrice  click  basket  \\\n",
       "0       1    1   6570       0             2            14.60      1       0   \n",
       "1       2    1  14922       1             1             8.57      0       1   \n",
       "2       4    1   1145       1             1             6.59      0       0   \n",
       "3       5    1   3394       0             1             4.39      0       0   \n",
       "4       6    1   3661       0             1            13.66      0       0   \n",
       "\n",
       "   order  price   ...     manufacturer  group  unit  pharmForm  \\\n",
       "0      0  16.89   ...              255    529     5        147   \n",
       "1      0   8.75   ...               18    373     7        135   \n",
       "2      1   6.55   ...               52    308     1         44   \n",
       "3      1   4.14   ...               90    458     7         75   \n",
       "4      1  10.03   ...               90    249     5         83   \n",
       "\n",
       "   genericProduct  salesIndex  category    rrp  Content  cluster  \n",
       "0               0          40     193.0  18.25     50.0        1  \n",
       "1               1          40      66.0  18.81     50.0        1  \n",
       "2               0          40      25.0   9.31     60.0        1  \n",
       "3               0          53      14.0   8.13     50.0        2  \n",
       "4               0          52     127.0  21.60   1000.0        0  \n",
       "\n",
       "[5 rows x 24 columns]"
      ]
     },
     "execution_count": 137,
     "metadata": {},
     "output_type": "execute_result"
    }
   ],
   "source": [
    "result0 = pd.merge(df_train, df_items1, how='inner', on=['pid']) #df_items\n",
    "result0 = result0.sort_values(['lineID'], ascending=True)\n",
    "\n",
    "##################################################### hold on last month\n",
    "hold_result = result0[result0.day > 65]\n",
    "hold_result = hold_result.dropna()\n",
    "hold_result = hold_result.reset_index(drop = True)\n",
    "\n",
    "result = result0[result0.day < 66]\n",
    "result = result.dropna()\n",
    "result = result.reset_index(drop = True)\n",
    "\n",
    "print('Number of hold_result: %d' % hold_result.shape[0])\n",
    "print('Number of result training: %d' % result.shape[0])\n",
    "result.head()"
   ]
  },
  {
   "cell_type": "code",
   "execution_count": 152,
   "metadata": {
    "collapsed": false
   },
   "outputs": [
    {
     "name": "stdout",
     "output_type": "stream",
     "text": [
      "921622 921622 921622\n"
     ]
    }
   ],
   "source": [
    "result_clu = result[(result.cluster == 1)]\n",
    "\n",
    "X = result_clu.drop([\"number\", \"class_label\", \"click\", \"basket\", \"order\", \"fre\", \"revenue\", \"cluster\"], axis=1)\n",
    "y = result_clu[[\"number\", \"class_label\"]]\n",
    "\n",
    "print(result_clu.shape[0], X.shape[0], y.shape[0])"
   ]
  },
  {
   "cell_type": "code",
   "execution_count": 145,
   "metadata": {
    "collapsed": true
   },
   "outputs": [],
   "source": [
    "def pre_all(df):\n",
    "    # 連續\n",
    "    df_num = df[column_conti]\n",
    "    sc = StandardScaler(copy=True, with_mean = True, with_std = True)\n",
    "    Z = pd.DataFrame(sc.fit_transform(df_num))\n",
    "    Z.columns = column_conti\n",
    "    # 類別\n",
    "    df_cat = df.drop(column_conti, axis=1)\n",
    "    df_cat = df_cat.reset_index(drop=True, inplace=False, col_level=0, col_fill='')\n",
    "    \n",
    "    df_st = df_cat.join(Z, on=None, how='inner', lsuffix='', rsuffix='', sort=False)\n",
    "    df_st1 = pd.get_dummies(df_st)\n",
    "    return df_st1"
   ]
  },
  {
   "cell_type": "code",
   "execution_count": 147,
   "metadata": {
    "collapsed": false
   },
   "outputs": [
    {
     "name": "stdout",
     "output_type": "stream",
     "text": [
      "0    648701\n",
      "1    272921\n",
      "Name: class_label, dtype: int64\n"
     ]
    }
   ],
   "source": [
    "print(y['class_label'].value_counts())\n",
    "\n",
    "column_conti = [\"lineID\", \"day\", \"pid\", \"competitorPrice\", \"price\", \"manufacturer\", \"unit\",\n",
    "                \"group\", \"pharmForm\", \"salesIndex\", \"category\", \"rrp\", 'Content']\n",
    "df_st = pre_all(X)"
   ]
  },
  {
   "cell_type": "code",
   "execution_count": 148,
   "metadata": {
    "collapsed": true
   },
   "outputs": [],
   "source": [
    "def split(X, y):\n",
    "    from sklearn.model_selection import train_test_split\n",
    "    \n",
    "    X_train, X_test, y_train, y_test = train_test_split(X, y, test_size=0.2, random_state=0)\n",
    "    print('Number of training: %d' % X_train.shape[0])\n",
    "    print('Number of testing: %d' % X_test.shape[0])\n",
    "    return X_train, X_test, y_train, y_test\n",
    "\n",
    "def cross_val(model, cv):\n",
    "    from sklearn.cross_validation import cross_val_score\n",
    "    scores_dt0 = cross_val_score(model, X_train, y_train, cv = cv, n_jobs = 4)  \n",
    "    scores_dt = np.sum(scores_dt0) / cv\n",
    "    \n",
    "    print(\"===cross_val===\")  \n",
    "    print(scores_dt)  "
   ]
  },
  {
   "cell_type": "code",
   "execution_count": 149,
   "metadata": {
    "collapsed": true
   },
   "outputs": [],
   "source": [
    "from sklearn.ensemble import RandomForestRegressor\n",
    "\n",
    "rfr = RandomForestRegressor(n_estimators = 100, \n",
    "                            max_features = 'log2', \n",
    "                            criterion = 'mse', \n",
    "                            max_depth = None, \n",
    "                            min_samples_split = 20, \n",
    "                            min_samples_leaf = 10, \n",
    "                            min_weight_fraction_leaf = 0.0, \n",
    "                            max_leaf_nodes = None, \n",
    "                            min_impurity_split = 1e-07, \n",
    "                            bootstrap = True, \n",
    "                            oob_score = True, \n",
    "                            n_jobs = 1, \n",
    "                            random_state = 0, \n",
    "                            verbose = 0, \n",
    "                            warm_start = False)"
   ]
  },
  {
   "cell_type": "code",
   "execution_count": 153,
   "metadata": {
    "collapsed": false
   },
   "outputs": [
    {
     "name": "stdout",
     "output_type": "stream",
     "text": [
      "Number of training: 737297\n",
      "Number of testing: 184325\n"
     ]
    }
   ],
   "source": [
    "X_train, X_test, y_train, y_test = split(df_st, y[\"number\"])"
   ]
  },
  {
   "cell_type": "code",
   "execution_count": 151,
   "metadata": {
    "collapsed": true
   },
   "outputs": [],
   "source": [
    "#cross_val(rfr, 10)"
   ]
  },
  {
   "cell_type": "code",
   "execution_count": null,
   "metadata": {
    "collapsed": false
   },
   "outputs": [
    {
     "name": "stdout",
     "output_type": "stream",
     "text": [
      "0.116242491645\n"
     ]
    }
   ],
   "source": [
    "rfr.fit(X_train, y_train)  \n",
    "pred = rfr.predict(X_test).reshape(y_test.shape[0], 1)  \n",
    "print(rfr.oob_score_)  \n",
    "\n",
    "### Score\n",
    "score = np.dot((pred - y_test).T, (pred - y_test))  \n",
    "print(\"===Euclidean Distance===\")  \n",
    "print(score[0, 0])  \n",
    "\n",
    "### scatter plot\n",
    "a = pd.DataFrame(np.concatenate((np.array(y_test), pred), axis=1))  \n",
    "a.columns = [\"test\", \"pred\"]  \n",
    "a.plot.scatter(x = 'test', y = 'pred', s = 10, alpha = 0.2)  \n",
    "plt.show()  "
   ]
  },
  {
   "cell_type": "markdown",
   "metadata": {},
   "source": [
    "0.112749478825, 9904614.19936"
   ]
  },
  {
   "cell_type": "code",
   "execution_count": 126,
   "metadata": {
    "collapsed": false
   },
   "outputs": [],
   "source": [
    "label_number = np.array(df0['order'].value_counts())\n",
    "weight = float(label_number[0] / label_number[1])"
   ]
  },
  {
   "cell_type": "code",
   "execution_count": 127,
   "metadata": {
    "collapsed": false
   },
   "outputs": [],
   "source": [
    "from sklearn.tree import DecisionTreeClassifier\n",
    "\n",
    "tree = DecisionTreeClassifier(criterion='entropy', \n",
    "                              max_depth=3, \n",
    "                              random_state=0\n",
    "                              ,class_weight = {1: weight, 0: 1.0})"
   ]
  },
  {
   "cell_type": "code",
   "execution_count": 153,
   "metadata": {
    "collapsed": false
   },
   "outputs": [
    {
     "name": "stdout",
     "output_type": "stream",
     "text": [
      "Number of training: 737297\n",
      "Number of testing: 184325\n"
     ]
    }
   ],
   "source": [
    "X_train, X_test, y_train, y_test = split(df_st, y[\"class_label\"])"
   ]
  },
  {
   "cell_type": "code",
   "execution_count": 128,
   "metadata": {
    "collapsed": false
   },
   "outputs": [],
   "source": [
    "def processing(model):\n",
    "    from sklearn.metrics import accuracy_score\n",
    "    from sklearn.metrics import confusion_matrix\n",
    "\n",
    "    model.fit(X_train, y_train)\n",
    "    print(\"training down\")\n",
    "    y_pred = model.predict(X_test).reshape(y_test.shape[0], 1)\n",
    "    print('Misclassified samples: %d' % (y_test != y_pred).sum())\n",
    "    print('Accuracy : %.2f' % ((y_test == y_pred).sum() / y_test.shape[0]))\n",
    "    print('Accuracy (sklearn): %.2f' % accuracy_score(y_test, y_pred))\n",
    "    print(\"==confusion matrix==\")\n",
    "    print(confusion_matrix(y_test, y_pred, labels=[0,1], sample_weight=None))"
   ]
  },
  {
   "cell_type": "code",
   "execution_count": 129,
   "metadata": {
    "collapsed": false
   },
   "outputs": [
    {
     "name": "stdout",
     "output_type": "stream",
     "text": [
      "training down\n",
      "Misclassified samples: 61606\n",
      "Accuracy : 0.00\n",
      "Accuracy (sklearn): 0.67\n",
      "==confusion matrix==\n",
      "[[100131  30457]\n",
      " [ 31149  23177]]\n"
     ]
    }
   ],
   "source": [
    "processing(tree)"
   ]
  },
  {
   "cell_type": "markdown",
   "metadata": {},
   "source": [
    "> 0.69 2,  \n",
    "0.67 1,  \n",
    "0.63 0"
   ]
  },
  {
   "cell_type": "code",
   "execution_count": null,
   "metadata": {
    "collapsed": true
   },
   "outputs": [],
   "source": []
  }
 ],
 "metadata": {
  "kernelspec": {
   "display_name": "Python 3",
   "language": "python",
   "name": "python3"
  },
  "language_info": {
   "codemirror_mode": {
    "name": "ipython",
    "version": 3
   },
   "file_extension": ".py",
   "mimetype": "text/x-python",
   "name": "python",
   "nbconvert_exporter": "python",
   "pygments_lexer": "ipython3",
   "version": "3.6.0"
  }
 },
 "nbformat": 4,
 "nbformat_minor": 2
}
