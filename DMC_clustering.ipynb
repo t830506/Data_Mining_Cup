{
 "cells": [
  {
   "cell_type": "code",
   "execution_count": 1,
   "metadata": {
    "collapsed": false
   },
   "outputs": [
    {
     "name": "stderr",
     "output_type": "stream",
     "text": [
      "Using TensorFlow backend.\n"
     ]
    },
    {
     "data": {
      "text/html": [
       "<script>jQuery(function() {if (jQuery(\"body.notebook_app\").length == 0) { jQuery(\".input_area\").toggle(); jQuery(\".prompt\").toggle();}});</script>"
      ]
     },
     "metadata": {},
     "output_type": "display_data"
    }
   ],
   "source": [
    "import numpy as np\n",
    "import pandas as pd\n",
    "import matplotlib.pyplot as plt\n",
    "from matplotlib import cm\n",
    "from IPython.display import display\n",
    "from sklearn.preprocessing import MinMaxScaler\n",
    "\n",
    "from keras.utils import np_utils\n",
    "\n",
    "import IPython.core.display as di\n",
    "di.display_html('<script>jQuery(function() {if (jQuery(\"body.notebook_app\").length == 0) { jQuery(\".input_area\").toggle(); jQuery(\".prompt\").toggle();}});</script>', raw=True)"
   ]
  },
  {
   "cell_type": "code",
   "execution_count": 2,
   "metadata": {
    "collapsed": true
   },
   "outputs": [],
   "source": [
    "def missing(df):\n",
    "    print('Size of testing dataset : %d' % (df.shape[0]))\n",
    "    df1 = df.dropna()\n",
    "    print('Size of testing dataset DropNA : %d' % (df1.shape[0]))\n",
    "\n",
    "def onehot(df):\n",
    "    m1, m1.dim = onehot2(df.manufacturer)  \n",
    "    s1, s1.dim = onehot2(df.salesIndex)  \n",
    "    \n",
    "    df1 = pd.concat([df, m1, s1], axis=1, join_axes=[df_items1.index])  \n",
    "    df2 = df1.drop([\"manufacturer\", \"salesIndex\"], axis=1)\n",
    "    print(df2.shape)\n",
    "    return df2\n",
    "\n",
    "def onehot2(df):\n",
    "    df_oh = pd.DataFrame(np_utils.to_categorical(df,(max(df)+1)))\n",
    "    original_dim = df_oh.shape[1]\n",
    "    print('original dimension : %d' % df_oh.shape[1])\n",
    "    return df_oh, original_dim"
   ]
  },
  {
   "cell_type": "markdown",
   "metadata": {},
   "source": [
    "## training dataset"
   ]
  },
  {
   "cell_type": "code",
   "execution_count": 3,
   "metadata": {
    "collapsed": true
   },
   "outputs": [],
   "source": [
    "def pre_train(df):\n",
    "    df[\"number\"] = df[\"revenue\"] / df[\"price\"]\n",
    "    df[\"dif\"] = df[\"price\"] - df[\"competitorPrice\"]\n",
    "    \n",
    "    ################################################# given label\n",
    "    click = df[(df.click == 1)]\n",
    "    basket = df[(df.basket == 1)]\n",
    "    order = df[(df.order == 1)]\n",
    "    click[\"class_label\"] = 0\n",
    "    basket[\"class_label\"] = 0\n",
    "    order[\"class_label\"] = 1\n",
    "    df1 = pd.concat([click, basket, order])\n",
    "    \n",
    "    ################################################# feature onehot\n",
    "    ad, ad_dim = onehot2(df1.adFlag)\n",
    "    av, av_dim = onehot2(df1.availability)\n",
    "    df2 = pd.concat([df1, pd.DataFrame(ad), pd.DataFrame(av)], axis=1, join_axes=[df1.index])\n",
    "    df3 = df2.drop([\"adFlag\", \"availability\"], axis=1)\n",
    "    return df3"
   ]
  },
  {
   "cell_type": "code",
   "execution_count": 5,
   "metadata": {
    "collapsed": false,
    "scrolled": false
   },
   "outputs": [
    {
     "name": "stdout",
     "output_type": "stream",
     "text": [
      "(2756003, 11)\n"
     ]
    },
    {
     "name": "stderr",
     "output_type": "stream",
     "text": [
      "/Users/Shawn/anaconda/lib/python2.7/site-packages/ipykernel/__main__.py:9: SettingWithCopyWarning: \n",
      "A value is trying to be set on a copy of a slice from a DataFrame.\n",
      "Try using .loc[row_indexer,col_indexer] = value instead\n",
      "\n",
      "See the caveats in the documentation: http://pandas.pydata.org/pandas-docs/stable/indexing.html#indexing-view-versus-copy\n",
      "/Users/Shawn/anaconda/lib/python2.7/site-packages/ipykernel/__main__.py:10: SettingWithCopyWarning: \n",
      "A value is trying to be set on a copy of a slice from a DataFrame.\n",
      "Try using .loc[row_indexer,col_indexer] = value instead\n",
      "\n",
      "See the caveats in the documentation: http://pandas.pydata.org/pandas-docs/stable/indexing.html#indexing-view-versus-copy\n",
      "/Users/Shawn/anaconda/lib/python2.7/site-packages/ipykernel/__main__.py:11: SettingWithCopyWarning: \n",
      "A value is trying to be set on a copy of a slice from a DataFrame.\n",
      "Try using .loc[row_indexer,col_indexer] = value instead\n",
      "\n",
      "See the caveats in the documentation: http://pandas.pydata.org/pandas-docs/stable/indexing.html#indexing-view-versus-copy\n"
     ]
    },
    {
     "name": "stdout",
     "output_type": "stream",
     "text": [
      "original dimension : 2\n",
      "original dimension : 5\n",
      "(2756003, 19)\n"
     ]
    }
   ],
   "source": [
    "df_train0 = pd.read_csv(\"DATA/DMC_2017_task/train.csv\", sep = \"|\")\n",
    "print(df_train0.shape)\n",
    "\n",
    "df_train = pre_train(df_train0)\n",
    "df_train.head()\n",
    "print(df_train.shape)"
   ]
  },
  {
   "cell_type": "code",
   "execution_count": 6,
   "metadata": {
    "collapsed": false,
    "scrolled": true
   },
   "outputs": [
    {
     "name": "stdout",
     "output_type": "stream",
     "text": [
      "(21928, 1)\n",
      "size of pid_ss : 4409\n",
      "size of pid_l : 1\n",
      "size of pid_0 : 107\n"
     ]
    }
   ],
   "source": [
    "pid_fre = pd.DataFrame(df_train['pid'].value_counts())\n",
    "pid_fre.columns = [\"fre\"]\n",
    "print(pid_fre.shape)\n",
    "pid_s = pid_fre[pid_fre.fre < 10]\n",
    "pid_l = pid_fre[pid_fre.fre > 15000]\n",
    "\n",
    "pid_ss = np.array(pid_s.index - 1)\n",
    "pid_ll = np.array(pid_l.index - 1)\n",
    "print('size of pid_ss : %d' % pid_ss.shape[0])\n",
    "print('size of pid_l : %d' % pid_ll.shape[0])\n",
    "print('size of pid_0 : %d' % (22035 - pid_fre.shape[0]))"
   ]
  },
  {
   "cell_type": "code",
   "execution_count": 7,
   "metadata": {
    "collapsed": false
   },
   "outputs": [
    {
     "data": {
      "text/html": [
       "<div>\n",
       "<table border=\"1\" class=\"dataframe\">\n",
       "  <thead>\n",
       "    <tr style=\"text-align: right;\">\n",
       "      <th></th>\n",
       "      <th>fre</th>\n",
       "    </tr>\n",
       "  </thead>\n",
       "  <tbody>\n",
       "    <tr>\n",
       "      <th>2655</th>\n",
       "      <td>53785</td>\n",
       "    </tr>\n",
       "  </tbody>\n",
       "</table>\n",
       "</div>"
      ],
      "text/plain": [
       "        fre\n",
       "2655  53785"
      ]
     },
     "execution_count": 7,
     "metadata": {},
     "output_type": "execute_result"
    }
   ],
   "source": [
    "pid_l.head()"
   ]
  },
  {
   "cell_type": "code",
   "execution_count": 6,
   "metadata": {
    "collapsed": false
   },
   "outputs": [
    {
     "data": {
      "image/png": "[encoded data removed]",
      "text/plain": [
       "<matplotlib.figure.Figure at 0x10ce5e590>"
      ]
     },
     "metadata": {},
     "output_type": "display_data"
    }
   ],
   "source": [
    "df_train.pid.plot.hist(title = 'pid', bins = 100)\n",
    "plt.show()"
   ]
  },
  {
   "cell_type": "markdown",
   "metadata": {},
   "source": [
    "## item"
   ]
  },
  {
   "cell_type": "code",
   "execution_count": 7,
   "metadata": {
    "collapsed": false
   },
   "outputs": [
    {
     "name": "stdout",
     "output_type": "stream",
     "text": [
      "(22035, 11)\n"
     ]
    },
    {
     "data": {
      "text/plain": [
       "pid                  0\n",
       "manufacturer         0\n",
       "group                0\n",
       "content              0\n",
       "unit                 0\n",
       "pharmForm         2327\n",
       "genericProduct       0\n",
       "salesIndex           0\n",
       "category          4627\n",
       "rrp                  0\n",
       "dtype: int64"
      ]
     },
     "metadata": {},
     "output_type": "display_data"
    }
   ],
   "source": [
    "df_items00 = pd.read_csv(\"DATA/DMC_2017_task/items.csv\", sep = \"|\")\n",
    "print(df_items00.shape)\n",
    "\n",
    "del df_items00[\"campaignIndex\"]\n",
    "df_items00.pharmForm = df_items00.pharmForm.str.upper()\n",
    "display(df_items00.isnull().sum())"
   ]
  },
  {
   "cell_type": "markdown",
   "metadata": {},
   "source": [
    "### 刪掉交易次數很少的"
   ]
  },
  {
   "cell_type": "code",
   "execution_count": 8,
   "metadata": {
    "collapsed": false
   },
   "outputs": [],
   "source": [
    "pid_0 = np.array(list(set(list(df_items00.index)) - set(list(pid_fre.index - 1))))\n",
    "\n",
    "df_items0 = df_items00.drop(df_items00.index[pid_0])\n",
    "df_items0 = df_items0.drop(df_items00.index[pid_ss])\n",
    "df_items0 = df_items0.drop(df_items0.index[pid_ll])\n",
    "df_items0 = df_items0.reset_index(drop=True, inplace=False, col_level=0, col_fill='')"
   ]
  },
  {
   "cell_type": "markdown",
   "metadata": {},
   "source": [
    "## 前處理 和 onehotencode"
   ]
  },
  {
   "cell_type": "code",
   "execution_count": 9,
   "metadata": {
    "collapsed": false
   },
   "outputs": [
    {
     "data": {
      "text/html": [
       "<div>\n",
       "<table border=\"1\" class=\"dataframe\">\n",
       "  <thead>\n",
       "    <tr style=\"text-align: right;\">\n",
       "      <th></th>\n",
       "      <th>pid</th>\n",
       "      <th>manufacturer</th>\n",
       "      <th>group</th>\n",
       "      <th>unit</th>\n",
       "      <th>pharmForm</th>\n",
       "      <th>genericProduct</th>\n",
       "      <th>salesIndex</th>\n",
       "      <th>category</th>\n",
       "      <th>rrp</th>\n",
       "      <th>Content</th>\n",
       "    </tr>\n",
       "  </thead>\n",
       "  <tbody>\n",
       "    <tr>\n",
       "      <th>0</th>\n",
       "      <td>3</td>\n",
       "      <td>1</td>\n",
       "      <td>2FOI</td>\n",
       "      <td>G</td>\n",
       "      <td>GLO</td>\n",
       "      <td>0</td>\n",
       "      <td>40</td>\n",
       "      <td>NaN</td>\n",
       "      <td>16.45</td>\n",
       "      <td>10.0</td>\n",
       "    </tr>\n",
       "    <tr>\n",
       "      <th>1</th>\n",
       "      <td>4</td>\n",
       "      <td>1</td>\n",
       "      <td>2FOI</td>\n",
       "      <td>ST</td>\n",
       "      <td>TAB</td>\n",
       "      <td>0</td>\n",
       "      <td>40</td>\n",
       "      <td>NaN</td>\n",
       "      <td>10.89</td>\n",
       "      <td>80.0</td>\n",
       "    </tr>\n",
       "    <tr>\n",
       "      <th>2</th>\n",
       "      <td>5</td>\n",
       "      <td>2</td>\n",
       "      <td>10OJ03JS</td>\n",
       "      <td>ST</td>\n",
       "      <td>PUL</td>\n",
       "      <td>0</td>\n",
       "      <td>40</td>\n",
       "      <td>1.0</td>\n",
       "      <td>22.53</td>\n",
       "      <td>8.0</td>\n",
       "    </tr>\n",
       "    <tr>\n",
       "      <th>3</th>\n",
       "      <td>7</td>\n",
       "      <td>3</td>\n",
       "      <td>21OKG</td>\n",
       "      <td>ST</td>\n",
       "      <td>TRA</td>\n",
       "      <td>0</td>\n",
       "      <td>53</td>\n",
       "      <td>3.0</td>\n",
       "      <td>21.45</td>\n",
       "      <td>15.0</td>\n",
       "    </tr>\n",
       "    <tr>\n",
       "      <th>4</th>\n",
       "      <td>8</td>\n",
       "      <td>1</td>\n",
       "      <td>2FOI</td>\n",
       "      <td>ST</td>\n",
       "      <td>TAB</td>\n",
       "      <td>0</td>\n",
       "      <td>40</td>\n",
       "      <td>2.0</td>\n",
       "      <td>10.89</td>\n",
       "      <td>80.0</td>\n",
       "    </tr>\n",
       "  </tbody>\n",
       "</table>\n",
       "</div>"
      ],
      "text/plain": [
       "   pid  manufacturer     group unit pharmForm  genericProduct  salesIndex  \\\n",
       "0    3             1      2FOI    G       GLO               0          40   \n",
       "1    4             1      2FOI   ST       TAB               0          40   \n",
       "2    5             2  10OJ03JS   ST       PUL               0          40   \n",
       "3    7             3     21OKG   ST       TRA               0          53   \n",
       "4    8             1      2FOI   ST       TAB               0          40   \n",
       "\n",
       "   category    rrp  Content  \n",
       "0       NaN  16.45     10.0  \n",
       "1       NaN  10.89     80.0  \n",
       "2       1.0  22.53      8.0  \n",
       "3       3.0  21.45     15.0  \n",
       "4       2.0  10.89     80.0  "
      ]
     },
     "execution_count": 9,
     "metadata": {},
     "output_type": "execute_result"
    }
   ],
   "source": [
    "content = pd.DataFrame(df_items0.content.str.split('X',2).tolist(), columns = ['x','y','z'])\n",
    "content = content.fillna('1')\n",
    "content.x = pd.to_numeric(content.x, errors='coerce')\n",
    "content.y = pd.to_numeric(content.y, errors='coerce')\n",
    "content.z = pd.to_numeric(content.z, errors='coerce')\n",
    "content['Content'] = content.x * content.y * content.z\n",
    "df_items1 = pd.concat([df_items0, content], axis=1, join_axes=[df_items0.index])\n",
    "del df_items1[\"x\"]\n",
    "del df_items1[\"y\"]\n",
    "del df_items1[\"z\"]\n",
    "del df_items1[\"content\"]\n",
    "\n",
    "df_items1.head()"
   ]
  },
  {
   "cell_type": "code",
   "execution_count": 130,
   "metadata": {
    "collapsed": false
   },
   "outputs": [
    {
     "data": {
      "text/html": [
       "<div>\n",
       "<table border=\"1\" class=\"dataframe\">\n",
       "  <thead>\n",
       "    <tr style=\"text-align: right;\">\n",
       "      <th></th>\n",
       "      <th>pid</th>\n",
       "      <th>manufacturer</th>\n",
       "      <th>genericProduct</th>\n",
       "      <th>salesIndex</th>\n",
       "      <th>category</th>\n",
       "      <th>rrp</th>\n",
       "      <th>Content</th>\n",
       "      <th>cluster</th>\n",
       "    </tr>\n",
       "  </thead>\n",
       "  <tbody>\n",
       "    <tr>\n",
       "      <th>count</th>\n",
       "      <td>17518.000000</td>\n",
       "      <td>17518.000000</td>\n",
       "      <td>17518.000000</td>\n",
       "      <td>17518.000000</td>\n",
       "      <td>15147.000000</td>\n",
       "      <td>17518.000000</td>\n",
       "      <td>17516.000000</td>\n",
       "      <td>17518.000000</td>\n",
       "    </tr>\n",
       "    <tr>\n",
       "      <th>mean</th>\n",
       "      <td>11069.655668</td>\n",
       "      <td>218.739696</td>\n",
       "      <td>0.037162</td>\n",
       "      <td>48.626213</td>\n",
       "      <td>112.914042</td>\n",
       "      <td>17.744712</td>\n",
       "      <td>120.368892</td>\n",
       "      <td>0.910720</td>\n",
       "    </tr>\n",
       "    <tr>\n",
       "      <th>std</th>\n",
       "      <td>6408.075484</td>\n",
       "      <td>219.109487</td>\n",
       "      <td>0.189163</td>\n",
       "      <td>6.077615</td>\n",
       "      <td>93.467944</td>\n",
       "      <td>18.709280</td>\n",
       "      <td>385.983920</td>\n",
       "      <td>0.807298</td>\n",
       "    </tr>\n",
       "    <tr>\n",
       "      <th>min</th>\n",
       "      <td>3.000000</td>\n",
       "      <td>1.000000</td>\n",
       "      <td>0.000000</td>\n",
       "      <td>40.000000</td>\n",
       "      <td>1.000000</td>\n",
       "      <td>0.070000</td>\n",
       "      <td>0.250000</td>\n",
       "      <td>0.000000</td>\n",
       "    </tr>\n",
       "    <tr>\n",
       "      <th>25%</th>\n",
       "      <td>5454.250000</td>\n",
       "      <td>61.000000</td>\n",
       "      <td>0.000000</td>\n",
       "      <td>40.000000</td>\n",
       "      <td>35.000000</td>\n",
       "      <td>7.250000</td>\n",
       "      <td>18.000000</td>\n",
       "      <td>0.000000</td>\n",
       "    </tr>\n",
       "    <tr>\n",
       "      <th>50%</th>\n",
       "      <td>11150.500000</td>\n",
       "      <td>152.000000</td>\n",
       "      <td>0.000000</td>\n",
       "      <td>53.000000</td>\n",
       "      <td>90.000000</td>\n",
       "      <td>12.115000</td>\n",
       "      <td>50.000000</td>\n",
       "      <td>1.000000</td>\n",
       "    </tr>\n",
       "    <tr>\n",
       "      <th>75%</th>\n",
       "      <td>16633.750000</td>\n",
       "      <td>308.000000</td>\n",
       "      <td>0.000000</td>\n",
       "      <td>53.000000</td>\n",
       "      <td>164.000000</td>\n",
       "      <td>21.660000</td>\n",
       "      <td>100.000000</td>\n",
       "      <td>2.000000</td>\n",
       "    </tr>\n",
       "    <tr>\n",
       "      <th>max</th>\n",
       "      <td>22035.000000</td>\n",
       "      <td>1067.000000</td>\n",
       "      <td>1.000000</td>\n",
       "      <td>53.000000</td>\n",
       "      <td>409.000000</td>\n",
       "      <td>284.650000</td>\n",
       "      <td>22000.000000</td>\n",
       "      <td>2.000000</td>\n",
       "    </tr>\n",
       "  </tbody>\n",
       "</table>\n",
       "</div>"
      ],
      "text/plain": [
       "                pid  manufacturer  genericProduct    salesIndex      category  \\\n",
       "count  17518.000000  17518.000000    17518.000000  17518.000000  15147.000000   \n",
       "mean   11069.655668    218.739696        0.037162     48.626213    112.914042   \n",
       "std     6408.075484    219.109487        0.189163      6.077615     93.467944   \n",
       "min        3.000000      1.000000        0.000000     40.000000      1.000000   \n",
       "25%     5454.250000     61.000000        0.000000     40.000000     35.000000   \n",
       "50%    11150.500000    152.000000        0.000000     53.000000     90.000000   \n",
       "75%    16633.750000    308.000000        0.000000     53.000000    164.000000   \n",
       "max    22035.000000   1067.000000        1.000000     53.000000    409.000000   \n",
       "\n",
       "                rrp       Content       cluster  \n",
       "count  17518.000000  17516.000000  17518.000000  \n",
       "mean      17.744712    120.368892      0.910720  \n",
       "std       18.709280    385.983920      0.807298  \n",
       "min        0.070000      0.250000      0.000000  \n",
       "25%        7.250000     18.000000      0.000000  \n",
       "50%       12.115000     50.000000      1.000000  \n",
       "75%       21.660000    100.000000      2.000000  \n",
       "max      284.650000  22000.000000      2.000000  "
      ]
     },
     "execution_count": 130,
     "metadata": {},
     "output_type": "execute_result"
    }
   ],
   "source": [
    "df_items1.describe()"
   ]
  },
  {
   "cell_type": "code",
   "execution_count": 10,
   "metadata": {
    "collapsed": false
   },
   "outputs": [
    {
     "name": "stdout",
     "output_type": "stream",
     "text": [
      "original dimension : 1068\n",
      "original dimension : 54\n",
      "(17518, 1130)\n",
      "(17518, 1829)\n"
     ]
    }
   ],
   "source": [
    "df_items2 = onehot(df_items1)\n",
    "df_items3 = pd.get_dummies(df_items2)\n",
    "print(df_items3.shape)"
   ]
  },
  {
   "cell_type": "markdown",
   "metadata": {},
   "source": [
    "## missing value 補平均"
   ]
  },
  {
   "cell_type": "code",
   "execution_count": 11,
   "metadata": {
    "collapsed": true
   },
   "outputs": [],
   "source": [
    "df_items3.category = df_items3.category.fillna(value = df_items3.category.mean())\n",
    "df_items3.Content = df_items3.Content.fillna(value = df_items3.Content.mean())"
   ]
  },
  {
   "cell_type": "code",
   "execution_count": 12,
   "metadata": {
    "collapsed": false
   },
   "outputs": [],
   "source": [
    "column_conti = [\"category\",\"rrp\",\"Content\"]\n",
    "df_num = df_items3[column_conti]\n",
    "sc = MinMaxScaler(feature_range=(0, 1), copy=True)\n",
    "Z = pd.DataFrame(sc.fit_transform(df_num))\n",
    "Z.columns = column_conti\n",
    "################################################ reset row index\n",
    "df_cat = df_items3.drop(column_conti, axis=1)\n",
    "df_cat = df_cat.reset_index(drop=True, inplace=False, col_level=0, col_fill='')\n",
    "\n",
    "df_st = df_cat.join(Z, on=None, how='inner', lsuffix='', rsuffix='', sort=False)"
   ]
  },
  {
   "cell_type": "code",
   "execution_count": 13,
   "metadata": {
    "collapsed": false
   },
   "outputs": [
    {
     "name": "stdout",
     "output_type": "stream",
     "text": [
      "(17518, 1828)\n"
     ]
    }
   ],
   "source": [
    "X = df_st.iloc[:, 1:]\n",
    "print(X.shape)"
   ]
  },
  {
   "cell_type": "code",
   "execution_count": 14,
   "metadata": {
    "collapsed": true
   },
   "outputs": [],
   "source": [
    "from sklearn.decomposition import PCA\n",
    "pca = PCA(n_components = 2,\n",
    "          copy = True,\n",
    "          whiten = False,\n",
    "          svd_solver = 'auto',\n",
    "          tol = 0.0,\n",
    "          iterated_power = 'auto',\n",
    "          random_state = 100)"
   ]
  },
  {
   "cell_type": "code",
   "execution_count": 15,
   "metadata": {
    "collapsed": true
   },
   "outputs": [],
   "source": [
    "from sklearn.manifold import TSNE\n",
    "tsne = TSNE(n_components = 2,\n",
    "            perplexity = 30.0,\n",
    "            early_exaggeration = 4.0,\n",
    "            learning_rate = 1000.0,\n",
    "            n_iter = 1000,\n",
    "            n_iter_without_progress = 30,\n",
    "            min_grad_norm = 1e-07,\n",
    "            metric = 'euclidean',\n",
    "            init = 'random',\n",
    "            verbose = 0,\n",
    "            random_state = 100,\n",
    "            method = 'barnes_hut',\n",
    "            angle = 0.5)"
   ]
  },
  {
   "cell_type": "code",
   "execution_count": 36,
   "metadata": {
    "collapsed": true
   },
   "outputs": [],
   "source": [
    "def kmeans(n_clusters):\n",
    "    from sklearn.cluster import KMeans\n",
    "    kmeans = KMeans(n_clusters = n_clusters,\n",
    "                    init = 'k-means++',\n",
    "                    n_init = 10,\n",
    "                    max_iter = 300,\n",
    "                    tol = 0.0001,\n",
    "                    precompute_distances = 'auto',\n",
    "                    verbose = 0,\n",
    "                    random_state = 100,\n",
    "                    copy_x = True,\n",
    "                    n_jobs = 1,\n",
    "                    algorithm = 'auto')\n",
    "    kmeans.fit(X)\n",
    "    label = pd.DataFrame(kmeans.labels_)\n",
    "    \n",
    "    X_pca = pd.DataFrame(pca.fit_transform(X))\n",
    "    X1 = pd.concat([X_pca, label], axis=1, join_axes=[X_pca.index])\n",
    "    X1.columns = [\"a\",\"b\",\"l\"]\n",
    "    cmap = cm.get_cmap('Spectral')\n",
    "    X1.plot.scatter(x = \"a\", y = \"b\", s = 10, c = \"l\", cmap = cmap)\n",
    "    plt.show()\n",
    "    print(X1[\"l\"].value_counts())\n",
    "    return label"
   ]
  },
  {
   "cell_type": "code",
   "execution_count": 37,
   "metadata": {
    "collapsed": false
   },
   "outputs": [
    {
     "data": {
      "image/png": "[encoded data removed]",
      "text/plain": [
       "<matplotlib.figure.Figure at 0x121667cd0>"
      ]
     },
     "metadata": {},
     "output_type": "display_data"
    },
    {
     "name": "stdout",
     "output_type": "stream",
     "text": [
      "0    6560\n",
      "1    5962\n",
      "2    4996\n",
      "Name: l, dtype: int64\n"
     ]
    }
   ],
   "source": [
    "label = kmeans(3)"
   ]
  },
  {
   "cell_type": "code",
   "execution_count": 38,
   "metadata": {
    "collapsed": false
   },
   "outputs": [
    {
     "data": {
      "text/html": [
       "<div>\n",
       "<table border=\"1\" class=\"dataframe\">\n",
       "  <thead>\n",
       "    <tr style=\"text-align: right;\">\n",
       "      <th></th>\n",
       "      <th>pid</th>\n",
       "      <th>manufacturer</th>\n",
       "      <th>group</th>\n",
       "      <th>unit</th>\n",
       "      <th>pharmForm</th>\n",
       "      <th>genericProduct</th>\n",
       "      <th>salesIndex</th>\n",
       "      <th>category</th>\n",
       "      <th>rrp</th>\n",
       "      <th>Content</th>\n",
       "      <th>cluster</th>\n",
       "    </tr>\n",
       "  </thead>\n",
       "  <tbody>\n",
       "    <tr>\n",
       "      <th>0</th>\n",
       "      <td>3</td>\n",
       "      <td>1</td>\n",
       "      <td>2FOI</td>\n",
       "      <td>G</td>\n",
       "      <td>GLO</td>\n",
       "      <td>0</td>\n",
       "      <td>40</td>\n",
       "      <td>NaN</td>\n",
       "      <td>16.45</td>\n",
       "      <td>10.0</td>\n",
       "      <td>1</td>\n",
       "    </tr>\n",
       "    <tr>\n",
       "      <th>1</th>\n",
       "      <td>4</td>\n",
       "      <td>1</td>\n",
       "      <td>2FOI</td>\n",
       "      <td>ST</td>\n",
       "      <td>TAB</td>\n",
       "      <td>0</td>\n",
       "      <td>40</td>\n",
       "      <td>NaN</td>\n",
       "      <td>10.89</td>\n",
       "      <td>80.0</td>\n",
       "      <td>1</td>\n",
       "    </tr>\n",
       "    <tr>\n",
       "      <th>2</th>\n",
       "      <td>5</td>\n",
       "      <td>2</td>\n",
       "      <td>10OJ03JS</td>\n",
       "      <td>ST</td>\n",
       "      <td>PUL</td>\n",
       "      <td>0</td>\n",
       "      <td>40</td>\n",
       "      <td>1.0</td>\n",
       "      <td>22.53</td>\n",
       "      <td>8.0</td>\n",
       "      <td>1</td>\n",
       "    </tr>\n",
       "    <tr>\n",
       "      <th>3</th>\n",
       "      <td>7</td>\n",
       "      <td>3</td>\n",
       "      <td>21OKG</td>\n",
       "      <td>ST</td>\n",
       "      <td>TRA</td>\n",
       "      <td>0</td>\n",
       "      <td>53</td>\n",
       "      <td>3.0</td>\n",
       "      <td>21.45</td>\n",
       "      <td>15.0</td>\n",
       "      <td>0</td>\n",
       "    </tr>\n",
       "    <tr>\n",
       "      <th>4</th>\n",
       "      <td>8</td>\n",
       "      <td>1</td>\n",
       "      <td>2FOI</td>\n",
       "      <td>ST</td>\n",
       "      <td>TAB</td>\n",
       "      <td>0</td>\n",
       "      <td>40</td>\n",
       "      <td>2.0</td>\n",
       "      <td>10.89</td>\n",
       "      <td>80.0</td>\n",
       "      <td>1</td>\n",
       "    </tr>\n",
       "  </tbody>\n",
       "</table>\n",
       "</div>"
      ],
      "text/plain": [
       "   pid  manufacturer     group unit pharmForm  genericProduct  salesIndex  \\\n",
       "0    3             1      2FOI    G       GLO               0          40   \n",
       "1    4             1      2FOI   ST       TAB               0          40   \n",
       "2    5             2  10OJ03JS   ST       PUL               0          40   \n",
       "3    7             3     21OKG   ST       TRA               0          53   \n",
       "4    8             1      2FOI   ST       TAB               0          40   \n",
       "\n",
       "   category    rrp  Content  cluster  \n",
       "0       NaN  16.45     10.0        1  \n",
       "1       NaN  10.89     80.0        1  \n",
       "2       1.0  22.53      8.0        1  \n",
       "3       3.0  21.45     15.0        0  \n",
       "4       2.0  10.89     80.0        1  "
      ]
     },
     "execution_count": 38,
     "metadata": {},
     "output_type": "execute_result"
    }
   ],
   "source": [
    "df_items1[\"cluster\"] = label\n",
    "df_items1.head()"
   ]
  },
  {
   "cell_type": "markdown",
   "metadata": {
    "collapsed": true
   },
   "source": [
    "from sklearn.cluster import DBSCAN  \n",
    "db = DBSCAN(eps = 5,  \n",
    "            min_samples = 1000,  \n",
    "            metric = 'euclidean',  \n",
    "            algorithm = 'auto',  \n",
    "            leaf_size = 30,  \n",
    "            p = None,  \n",
    "            n_jobs = 1)  "
   ]
  },
  {
   "cell_type": "markdown",
   "metadata": {
    "collapsed": true
   },
   "source": [
    "db.fit(X)  \n",
    "label_db = pd.DataFrame(db.labels_)  "
   ]
  },
  {
   "cell_type": "markdown",
   "metadata": {},
   "source": [
    "## combine training and items"
   ]
  },
  {
   "cell_type": "code",
   "execution_count": 132,
   "metadata": {
    "collapsed": false
   },
   "outputs": [
    {
     "name": "stdout",
     "output_type": "stream",
     "text": [
      "Number of hold_result: 782103\n",
      "Number of result training: 1622522\n"
     ]
    },
    {
     "data": {
      "text/html": [
       "<div>\n",
       "<table border=\"1\" class=\"dataframe\">\n",
       "  <thead>\n",
       "    <tr style=\"text-align: right;\">\n",
       "      <th></th>\n",
       "      <th>lineID</th>\n",
       "      <th>day</th>\n",
       "      <th>pid</th>\n",
       "      <th>competitorPrice</th>\n",
       "      <th>click</th>\n",
       "      <th>basket</th>\n",
       "      <th>order</th>\n",
       "      <th>price</th>\n",
       "      <th>revenue</th>\n",
       "      <th>number</th>\n",
       "      <th>dif</th>\n",
       "      <th>class_label</th>\n",
       "      <th>0</th>\n",
       "      <th>1</th>\n",
       "      <th>0</th>\n",
       "      <th>1</th>\n",
       "      <th>2</th>\n",
       "      <th>3</th>\n",
       "      <th>4</th>\n",
       "      <th>manufacturer</th>\n",
       "    </tr>\n",
       "  </thead>\n",
       "  <tbody>\n",
       "    <tr>\n",
       "      <th>0</th>\n",
       "      <td>1</td>\n",
       "      <td>1</td>\n",
       "      <td>6570</td>\n",
       "      <td>14.60</td>\n",
       "      <td>1</td>\n",
       "      <td>0</td>\n",
       "      <td>0</td>\n",
       "      <td>16.89</td>\n",
       "      <td>0.00</td>\n",
       "      <td>0.0</td>\n",
       "      <td>2.29</td>\n",
       "      <td>0</td>\n",
       "      <td>1.0</td>\n",
       "      <td>0.0</td>\n",
       "      <td>0.0</td>\n",
       "      <td>0.0</td>\n",
       "      <td>1.0</td>\n",
       "      <td>0.0</td>\n",
       "      <td>0.0</td>\n",
       "      <td>255</td>\n",
       "    </tr>\n",
       "    <tr>\n",
       "      <th>1</th>\n",
       "      <td>2</td>\n",
       "      <td>1</td>\n",
       "      <td>14922</td>\n",
       "      <td>8.57</td>\n",
       "      <td>0</td>\n",
       "      <td>1</td>\n",
       "      <td>0</td>\n",
       "      <td>8.75</td>\n",
       "      <td>0.00</td>\n",
       "      <td>0.0</td>\n",
       "      <td>0.18</td>\n",
       "      <td>0</td>\n",
       "      <td>1.0</td>\n",
       "      <td>0.0</td>\n",
       "      <td>0.0</td>\n",
       "      <td>1.0</td>\n",
       "      <td>0.0</td>\n",
       "      <td>0.0</td>\n",
       "      <td>0.0</td>\n",
       "      <td>18</td>\n",
       "    </tr>\n",
       "    <tr>\n",
       "      <th>2</th>\n",
       "      <td>3</td>\n",
       "      <td>1</td>\n",
       "      <td>16382</td>\n",
       "      <td>14.77</td>\n",
       "      <td>0</td>\n",
       "      <td>1</td>\n",
       "      <td>0</td>\n",
       "      <td>16.06</td>\n",
       "      <td>0.00</td>\n",
       "      <td>0.0</td>\n",
       "      <td>1.29</td>\n",
       "      <td>0</td>\n",
       "      <td>1.0</td>\n",
       "      <td>0.0</td>\n",
       "      <td>0.0</td>\n",
       "      <td>1.0</td>\n",
       "      <td>0.0</td>\n",
       "      <td>0.0</td>\n",
       "      <td>0.0</td>\n",
       "      <td>41</td>\n",
       "    </tr>\n",
       "    <tr>\n",
       "      <th>3</th>\n",
       "      <td>4</td>\n",
       "      <td>1</td>\n",
       "      <td>1145</td>\n",
       "      <td>6.59</td>\n",
       "      <td>0</td>\n",
       "      <td>0</td>\n",
       "      <td>1</td>\n",
       "      <td>6.55</td>\n",
       "      <td>6.55</td>\n",
       "      <td>1.0</td>\n",
       "      <td>-0.04</td>\n",
       "      <td>1</td>\n",
       "      <td>0.0</td>\n",
       "      <td>1.0</td>\n",
       "      <td>0.0</td>\n",
       "      <td>1.0</td>\n",
       "      <td>0.0</td>\n",
       "      <td>0.0</td>\n",
       "      <td>0.0</td>\n",
       "      <td>52</td>\n",
       "    </tr>\n",
       "    <tr>\n",
       "      <th>4</th>\n",
       "      <td>5</td>\n",
       "      <td>1</td>\n",
       "      <td>3394</td>\n",
       "      <td>4.39</td>\n",
       "      <td>0</td>\n",
       "      <td>0</td>\n",
       "      <td>1</td>\n",
       "      <td>4.14</td>\n",
       "      <td>4.14</td>\n",
       "      <td>1.0</td>\n",
       "      <td>-0.25</td>\n",
       "      <td>1</td>\n",
       "      <td>0.0</td>\n",
       "      <td>1.0</td>\n",
       "      <td>0.0</td>\n",
       "      <td>1.0</td>\n",
       "      <td>0.0</td>\n",
       "      <td>0.0</td>\n",
       "      <td>0.0</td>\n",
       "      <td>90</td>\n",
       "    </tr>\n",
       "  </tbody>\n",
       "</table>\n",
       "</div>"
      ],
      "text/plain": [
       "   lineID  day    pid  competitorPrice  click  basket  order  price  revenue  \\\n",
       "0       1    1   6570            14.60      1       0      0  16.89     0.00   \n",
       "1       2    1  14922             8.57      0       1      0   8.75     0.00   \n",
       "2       3    1  16382            14.77      0       1      0  16.06     0.00   \n",
       "3       4    1   1145             6.59      0       0      1   6.55     6.55   \n",
       "4       5    1   3394             4.39      0       0      1   4.14     4.14   \n",
       "\n",
       "   number   dif  class_label    0    1    0    1    2    3    4  manufacturer  \n",
       "0     0.0  2.29            0  1.0  0.0  0.0  0.0  1.0  0.0  0.0           255  \n",
       "1     0.0  0.18            0  1.0  0.0  0.0  1.0  0.0  0.0  0.0            18  \n",
       "2     0.0  1.29            0  1.0  0.0  0.0  1.0  0.0  0.0  0.0            41  \n",
       "3     1.0 -0.04            1  0.0  1.0  0.0  1.0  0.0  0.0  0.0            52  \n",
       "4     1.0 -0.25            1  0.0  1.0  0.0  1.0  0.0  0.0  0.0            90  "
      ]
     },
     "execution_count": 132,
     "metadata": {},
     "output_type": "execute_result"
    }
   ],
   "source": [
    "result0 = pd.merge(df_train, df_items1, how='inner', on=['pid']) #df_items\n",
    "result0 = result0.sort_values(['lineID'], ascending=True)\n",
    "\n",
    "##################################################### hold on last month\n",
    "hold_result = result0[result0.day > 65]\n",
    "hold_result = hold_result.dropna()\n",
    "hold_result = hold_result.reset_index(drop = True)\n",
    "\n",
    "result = result0[result0.day < 66]\n",
    "result = result.dropna()\n",
    "result = result.reset_index(drop = True)\n",
    "\n",
    "print('Number of hold_result: %d' % hold_result.shape[0])\n",
    "print('Number of result training: %d' % result.shape[0])\n",
    "result.iloc[:5, :20]"
   ]
  },
  {
   "cell_type": "code",
   "execution_count": 120,
   "metadata": {
    "collapsed": true
   },
   "outputs": [],
   "source": [
    "def pre_all(df):\n",
    "    df1 = df.drop([\"lineID\", \"number\", \"click\", \"basket\", \"order\", \"cluster\", \"revenue\"], axis=1)\n",
    "    # class_label,revenue\n",
    "    \n",
    "    df_num = df1[column_conti]\n",
    "    sc = MinMaxScaler(feature_range=(0, 1), copy=True)\n",
    "    Z = pd.DataFrame(sc.fit_transform(df_num))\n",
    "    Z.columns = column_conti\n",
    "    \n",
    "    df_cat = df1.drop(column_conti, axis=1)\n",
    "    df_cat = df_cat.reset_index(drop=True, inplace=False, col_level=0, col_fill='')\n",
    "    \n",
    "    df_st = df_cat.join(Z, on=None, how='inner', lsuffix='', rsuffix='', sort=False)\n",
    "    df_st1 = pd.get_dummies(df_st)\n",
    "    return df_st1"
   ]
  },
  {
   "cell_type": "code",
   "execution_count": 121,
   "metadata": {
    "collapsed": false
   },
   "outputs": [
    {
     "name": "stdout",
     "output_type": "stream",
     "text": [
      "0    653063\n",
      "1    271504\n",
      "Name: order, dtype: int64\n"
     ]
    }
   ],
   "source": [
    "################################################ 資料分群做回歸。\n",
    "df0 = result[(result.cluster == 1)]\n",
    "###\n",
    "\n",
    "print(df0['order'].value_counts())\n",
    "\n",
    "column_conti = [\"day\", \"pid\", \"competitorPrice\", \"price\", \"dif\",\n",
    "                \"manufacturer\", \"salesIndex\", \"category\", \"rrp\", 'Content']\n",
    "df_st = pre_all(df0)"
   ]
  },
  {
   "cell_type": "code",
   "execution_count": 122,
   "metadata": {
    "collapsed": true
   },
   "outputs": [],
   "source": [
    "def split(df):\n",
    "    X = np.array(df.drop([\"class_label\"], axis=1))\n",
    "    y = np.array(df[[\"class_label\"]])\n",
    "    \n",
    "    from sklearn.model_selection import train_test_split\n",
    "    \n",
    "    X_train, X_test, y_train, y_test = train_test_split(X, y, test_size=0.2, random_state=0)\n",
    "    print('Number of training: %d' % X_train.shape[0])\n",
    "    print('Number of testing: %d' % X_test.shape[0])\n",
    "    return X_train, X_test, y_train, y_test\n",
    "\n",
    "def cross_val(model, cv):\n",
    "    from sklearn.cross_validation import cross_val_score\n",
    "    scores_dt0 = cross_val_score(model, X_train, y_train, cv = cv, n_jobs = 4)  \n",
    "    scores_dt = np.sum(scores_dt0) / cv\n",
    "    \n",
    "    print(\"===cross_val===\")  \n",
    "    print(scores_dt)  "
   ]
  },
  {
   "cell_type": "code",
   "execution_count": 123,
   "metadata": {
    "collapsed": true
   },
   "outputs": [],
   "source": [
    "from sklearn.ensemble import RandomForestRegressor\n",
    "\n",
    "rfr = RandomForestRegressor(n_estimators = 100, \n",
    "                            max_features = 'log2', \n",
    "                            criterion = 'mse', \n",
    "                            max_depth = None, \n",
    "                            min_samples_split = 20, \n",
    "                            min_samples_leaf = 10, \n",
    "                            min_weight_fraction_leaf = 0.0, \n",
    "                            max_leaf_nodes = None, \n",
    "                            min_impurity_split = 1e-07, \n",
    "                            bootstrap = True, \n",
    "                            oob_score = True, \n",
    "                            n_jobs = 1, \n",
    "                            random_state = 0, \n",
    "                            verbose = 0, \n",
    "                            warm_start = False)"
   ]
  },
  {
   "cell_type": "code",
   "execution_count": 124,
   "metadata": {
    "collapsed": false
   },
   "outputs": [
    {
     "name": "stdout",
     "output_type": "stream",
     "text": [
      "Number of training: 739653\n",
      "Number of testing: 184914\n"
     ]
    }
   ],
   "source": [
    "X_train, X_test, y_train, y_test = split(df_st)"
   ]
  },
  {
   "cell_type": "code",
   "execution_count": 125,
   "metadata": {
    "collapsed": true
   },
   "outputs": [],
   "source": [
    "#cross_val(rfr, 10)"
   ]
  },
  {
   "cell_type": "markdown",
   "metadata": {
    "collapsed": false
   },
   "source": [
    "rfr.fit(X_train, y_train)  \n",
    "pred = rfr.predict(X_test).reshape(y_test.shape[0], 1)  \n",
    "print(rfr.oob_score_)  \n",
    "\n",
    "score = np.dot((pred - y_test).T, (pred - y_test))  \n",
    "print(\"===Euclidean Distance===\")  \n",
    "print(score[0, 0])  \n",
    "\n",
    "a = pd.DataFrame(np.concatenate((np.array(y_test), pred), axis=1))  \n",
    "a.columns = [\"test\", \"pred\"]  \n",
    "\n",
    "a.plot.scatter(x = 'test', y = 'pred', s = 10, alpha = 0.2)  \n",
    "plt.show()  "
   ]
  },
  {
   "cell_type": "markdown",
   "metadata": {},
   "source": [
    "0.112749478825, 9904614.19936"
   ]
  },
  {
   "cell_type": "code",
   "execution_count": 126,
   "metadata": {
    "collapsed": false
   },
   "outputs": [],
   "source": [
    "label_number = np.array(df0['order'].value_counts())\n",
    "weight = float(label_number[0] / label_number[1])"
   ]
  },
  {
   "cell_type": "code",
   "execution_count": 127,
   "metadata": {
    "collapsed": false
   },
   "outputs": [],
   "source": [
    "from sklearn.tree import DecisionTreeClassifier\n",
    "\n",
    "tree = DecisionTreeClassifier(criterion='entropy', \n",
    "                              max_depth=3, \n",
    "                              random_state=0\n",
    "                              ,class_weight = {1: weight, 0: 1.0})"
   ]
  },
  {
   "cell_type": "code",
   "execution_count": 128,
   "metadata": {
    "collapsed": false
   },
   "outputs": [],
   "source": [
    "def processing(model):\n",
    "    from sklearn.metrics import accuracy_score\n",
    "    from sklearn.metrics import confusion_matrix\n",
    "\n",
    "    model.fit(X_train, y_train)\n",
    "    print(\"training down\")\n",
    "    y_pred = model.predict(X_test).reshape(y_test.shape[0], 1)\n",
    "    print('Misclassified samples: %d' % (y_test != y_pred).sum())\n",
    "    print('Accuracy : %.2f' % ((y_test == y_pred).sum() / y_test.shape[0]))\n",
    "    print('Accuracy (sklearn): %.2f' % accuracy_score(y_test, y_pred))\n",
    "    print(\"==confusion matrix==\")\n",
    "    print(confusion_matrix(y_test, y_pred, labels=[0,1], sample_weight=None))"
   ]
  },
  {
   "cell_type": "code",
   "execution_count": 129,
   "metadata": {
    "collapsed": false
   },
   "outputs": [
    {
     "name": "stdout",
     "output_type": "stream",
     "text": [
      "training down\n",
      "Misclassified samples: 61606\n",
      "Accuracy : 0.00\n",
      "Accuracy (sklearn): 0.67\n",
      "==confusion matrix==\n",
      "[[100131  30457]\n",
      " [ 31149  23177]]\n"
     ]
    }
   ],
   "source": [
    "processing(tree)"
   ]
  },
  {
   "cell_type": "markdown",
   "metadata": {},
   "source": [
    "> 0.69 2,  \n",
    "0.67 1,  \n",
    "0.63 0"
   ]
  },
  {
   "cell_type": "code",
   "execution_count": null,
   "metadata": {
    "collapsed": true
   },
   "outputs": [],
   "source": []
  }
 ],
 "metadata": {
  "kernelspec": {
   "display_name": "Python 3",
   "language": "python",
   "name": "python3"
  },
  "language_info": {
   "codemirror_mode": {
    "name": "ipython",
    "version": 3
   },
   "file_extension": ".py",
   "mimetype": "text/x-python",
   "name": "python",
   "nbconvert_exporter": "python",
   "pygments_lexer": "ipython3",
   "version": "3.6.0"
  }
 },
 "nbformat": 4,
 "nbformat_minor": 2
}
