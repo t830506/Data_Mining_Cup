{
 "cells": [
  {
   "cell_type": "code",
   "execution_count": 1,
   "metadata": {
    "collapsed": true
   },
   "outputs": [],
   "source": [
    "import random\n",
    "import numpy as np\n",
    "import pandas as pd\n",
    "import IPython.core.display as di\n",
    "import matplotlib.pyplot as plt\n",
    "\n",
    "from sklearn.preprocessing import StandardScaler, MinMaxScaler\n",
    "from sklearn.model_selection import cross_val_score, train_test_split\n",
    "from sklearn.metrics import confusion_matrix, mean_squared_error, accuracy_score\n",
    "from sklearn.tree import DecisionTreeClassifier\n",
    "from sklearn.ensemble import RandomForestRegressor\n"
   ]
  },
  {
   "cell_type": "code",
   "execution_count": 2,
   "metadata": {},
   "outputs": [
    {
     "data": {
      "text/html": [
       "<script>jQuery(function() {if (jQuery(\"body.notebook_app\").length == 0) { jQuery(\".input_area\").toggle(); jQuery(\".prompt\").toggle();}});</script>"
      ]
     },
     "metadata": {},
     "output_type": "display_data"
    }
   ],
   "source": [
    "random.seed(9001)\n",
    "pd.options.mode.chained_assignment = None\n",
    "pd.set_option('display.float_format', lambda x: '%.4f' % x)\n",
    "di.display_html('<script>jQuery(function() {if (jQuery(\"body.notebook_app\").length == 0) { jQuery(\".input_area\").toggle(); jQuery(\".prompt\").toggle();}});</script>', raw=True)\n"
   ]
  },
  {
   "cell_type": "code",
   "execution_count": 3,
   "metadata": {
    "collapsed": true
   },
   "outputs": [],
   "source": [
    "def importdataset(path):\n",
    "    df = pd.read_csv(path)\n",
    "    df1 = df.dropna()\n",
    "    print (\"size of dataset  :\", df.shape[0])\n",
    "    print (\"size of features :\", df.shape[1])\n",
    "    print (\"size of NaN      :\", df.shape[0] - df1.shape[0])\n",
    "    return df"
   ]
  },
  {
   "cell_type": "code",
   "execution_count": 4,
   "metadata": {},
   "outputs": [
    {
     "name": "stdout",
     "output_type": "stream",
     "text": [
      "size of dataset  : 2756003\n",
      "size of features : 10\n",
      "size of NaN      : 0\n"
     ]
    },
    {
     "data": {
      "text/html": [
       "<div>\n",
       "<style>\n",
       "    .dataframe thead tr:only-child th {\n",
       "        text-align: right;\n",
       "    }\n",
       "\n",
       "    .dataframe thead th {\n",
       "        text-align: left;\n",
       "    }\n",
       "\n",
       "    .dataframe tbody tr th {\n",
       "        vertical-align: top;\n",
       "    }\n",
       "</style>\n",
       "<table border=\"1\" class=\"dataframe\">\n",
       "  <thead>\n",
       "    <tr style=\"text-align: right;\">\n",
       "      <th></th>\n",
       "      <th>lineID</th>\n",
       "      <th>day</th>\n",
       "      <th>pid</th>\n",
       "      <th>adFlag</th>\n",
       "      <th>availability</th>\n",
       "      <th>competitorPrice</th>\n",
       "      <th>price</th>\n",
       "      <th>revenue</th>\n",
       "      <th>number</th>\n",
       "      <th>label</th>\n",
       "    </tr>\n",
       "  </thead>\n",
       "  <tbody>\n",
       "    <tr>\n",
       "      <th>0</th>\n",
       "      <td>1</td>\n",
       "      <td>1</td>\n",
       "      <td>6570</td>\n",
       "      <td>0</td>\n",
       "      <td>2</td>\n",
       "      <td>14.6000</td>\n",
       "      <td>16.8900</td>\n",
       "      <td>0.0000</td>\n",
       "      <td>0.0000</td>\n",
       "      <td>0</td>\n",
       "    </tr>\n",
       "    <tr>\n",
       "      <th>1</th>\n",
       "      <td>2</td>\n",
       "      <td>1</td>\n",
       "      <td>14922</td>\n",
       "      <td>1</td>\n",
       "      <td>1</td>\n",
       "      <td>8.5700</td>\n",
       "      <td>8.7500</td>\n",
       "      <td>0.0000</td>\n",
       "      <td>0.0000</td>\n",
       "      <td>1</td>\n",
       "    </tr>\n",
       "    <tr>\n",
       "      <th>2</th>\n",
       "      <td>3</td>\n",
       "      <td>1</td>\n",
       "      <td>16382</td>\n",
       "      <td>0</td>\n",
       "      <td>1</td>\n",
       "      <td>14.7700</td>\n",
       "      <td>16.0600</td>\n",
       "      <td>0.0000</td>\n",
       "      <td>0.0000</td>\n",
       "      <td>1</td>\n",
       "    </tr>\n",
       "    <tr>\n",
       "      <th>3</th>\n",
       "      <td>4</td>\n",
       "      <td>1</td>\n",
       "      <td>1145</td>\n",
       "      <td>1</td>\n",
       "      <td>1</td>\n",
       "      <td>6.5900</td>\n",
       "      <td>6.5500</td>\n",
       "      <td>6.5500</td>\n",
       "      <td>1.0000</td>\n",
       "      <td>2</td>\n",
       "    </tr>\n",
       "    <tr>\n",
       "      <th>4</th>\n",
       "      <td>5</td>\n",
       "      <td>1</td>\n",
       "      <td>3394</td>\n",
       "      <td>0</td>\n",
       "      <td>1</td>\n",
       "      <td>4.3900</td>\n",
       "      <td>4.1400</td>\n",
       "      <td>4.1400</td>\n",
       "      <td>1.0000</td>\n",
       "      <td>2</td>\n",
       "    </tr>\n",
       "  </tbody>\n",
       "</table>\n",
       "</div>"
      ],
      "text/plain": [
       "   lineID  day    pid  adFlag  availability  competitorPrice   price  revenue  \\\n",
       "0       1    1   6570       0             2          14.6000 16.8900   0.0000   \n",
       "1       2    1  14922       1             1           8.5700  8.7500   0.0000   \n",
       "2       3    1  16382       0             1          14.7700 16.0600   0.0000   \n",
       "3       4    1   1145       1             1           6.5900  6.5500   6.5500   \n",
       "4       5    1   3394       0             1           4.3900  4.1400   4.1400   \n",
       "\n",
       "   number  label  \n",
       "0  0.0000      0  \n",
       "1  0.0000      1  \n",
       "2  0.0000      1  \n",
       "3  1.0000      2  \n",
       "4  1.0000      2  "
      ]
     },
     "execution_count": 4,
     "metadata": {},
     "output_type": "execute_result"
    }
   ],
   "source": [
    "df = importdataset(\"train_clean.csv\")\n",
    "df.head()"
   ]
  },
  {
   "cell_type": "code",
   "execution_count": 5,
   "metadata": {},
   "outputs": [
    {
     "name": "stdout",
     "output_type": "stream",
     "text": [
      "size of dataset  : 22035\n",
      "size of features : 10\n",
      "size of NaN      : 0\n"
     ]
    },
    {
     "data": {
      "text/html": [
       "<div>\n",
       "<style>\n",
       "    .dataframe thead tr:only-child th {\n",
       "        text-align: right;\n",
       "    }\n",
       "\n",
       "    .dataframe thead th {\n",
       "        text-align: left;\n",
       "    }\n",
       "\n",
       "    .dataframe tbody tr th {\n",
       "        vertical-align: top;\n",
       "    }\n",
       "</style>\n",
       "<table border=\"1\" class=\"dataframe\">\n",
       "  <thead>\n",
       "    <tr style=\"text-align: right;\">\n",
       "      <th></th>\n",
       "      <th>pid</th>\n",
       "      <th>manufacturer</th>\n",
       "      <th>group</th>\n",
       "      <th>content</th>\n",
       "      <th>unit</th>\n",
       "      <th>pharmForm</th>\n",
       "      <th>genericProduct</th>\n",
       "      <th>salesIndex</th>\n",
       "      <th>category</th>\n",
       "      <th>rrp</th>\n",
       "    </tr>\n",
       "  </thead>\n",
       "  <tbody>\n",
       "    <tr>\n",
       "      <th>0</th>\n",
       "      <td>1</td>\n",
       "      <td>1</td>\n",
       "      <td>529</td>\n",
       "      <td>80.0000</td>\n",
       "      <td>7</td>\n",
       "      <td>135</td>\n",
       "      <td>0</td>\n",
       "      <td>40</td>\n",
       "      <td>3.0000</td>\n",
       "      <td>10.8900</td>\n",
       "    </tr>\n",
       "    <tr>\n",
       "      <th>1</th>\n",
       "      <td>2</td>\n",
       "      <td>1</td>\n",
       "      <td>529</td>\n",
       "      <td>80.0000</td>\n",
       "      <td>7</td>\n",
       "      <td>135</td>\n",
       "      <td>0</td>\n",
       "      <td>40</td>\n",
       "      <td>3.0000</td>\n",
       "      <td>10.8900</td>\n",
       "    </tr>\n",
       "    <tr>\n",
       "      <th>2</th>\n",
       "      <td>3</td>\n",
       "      <td>1</td>\n",
       "      <td>529</td>\n",
       "      <td>10.0000</td>\n",
       "      <td>1</td>\n",
       "      <td>45</td>\n",
       "      <td>0</td>\n",
       "      <td>40</td>\n",
       "      <td>3.0000</td>\n",
       "      <td>16.4500</td>\n",
       "    </tr>\n",
       "    <tr>\n",
       "      <th>3</th>\n",
       "      <td>4</td>\n",
       "      <td>1</td>\n",
       "      <td>529</td>\n",
       "      <td>80.0000</td>\n",
       "      <td>7</td>\n",
       "      <td>135</td>\n",
       "      <td>0</td>\n",
       "      <td>40</td>\n",
       "      <td>3.0000</td>\n",
       "      <td>10.8900</td>\n",
       "    </tr>\n",
       "    <tr>\n",
       "      <th>4</th>\n",
       "      <td>5</td>\n",
       "      <td>2</td>\n",
       "      <td>74</td>\n",
       "      <td>8.0000</td>\n",
       "      <td>7</td>\n",
       "      <td>112</td>\n",
       "      <td>0</td>\n",
       "      <td>40</td>\n",
       "      <td>1.0000</td>\n",
       "      <td>22.5300</td>\n",
       "    </tr>\n",
       "  </tbody>\n",
       "</table>\n",
       "</div>"
      ],
      "text/plain": [
       "   pid  manufacturer  group  content  unit  pharmForm  genericProduct  \\\n",
       "0    1             1    529  80.0000     7        135               0   \n",
       "1    2             1    529  80.0000     7        135               0   \n",
       "2    3             1    529  10.0000     1         45               0   \n",
       "3    4             1    529  80.0000     7        135               0   \n",
       "4    5             2     74   8.0000     7        112               0   \n",
       "\n",
       "   salesIndex  category     rrp  \n",
       "0          40    3.0000 10.8900  \n",
       "1          40    3.0000 10.8900  \n",
       "2          40    3.0000 16.4500  \n",
       "3          40    3.0000 10.8900  \n",
       "4          40    1.0000 22.5300  "
      ]
     },
     "execution_count": 5,
     "metadata": {},
     "output_type": "execute_result"
    }
   ],
   "source": [
    "item = importdataset(\"items_clean.csv\")\n",
    "item.head()"
   ]
  },
  {
   "cell_type": "code",
   "execution_count": 6,
   "metadata": {},
   "outputs": [
    {
     "name": "stdout",
     "output_type": "stream",
     "text": [
      "Number of train : 1782748\n",
      "Number of test  : 973255\n"
     ]
    },
    {
     "data": {
      "text/html": [
       "<div>\n",
       "<style>\n",
       "    .dataframe thead tr:only-child th {\n",
       "        text-align: right;\n",
       "    }\n",
       "\n",
       "    .dataframe thead th {\n",
       "        text-align: left;\n",
       "    }\n",
       "\n",
       "    .dataframe tbody tr th {\n",
       "        vertical-align: top;\n",
       "    }\n",
       "</style>\n",
       "<table border=\"1\" class=\"dataframe\">\n",
       "  <thead>\n",
       "    <tr style=\"text-align: right;\">\n",
       "      <th></th>\n",
       "      <th>lineID</th>\n",
       "      <th>day</th>\n",
       "      <th>pid</th>\n",
       "      <th>adFlag</th>\n",
       "      <th>availability</th>\n",
       "      <th>competitorPrice</th>\n",
       "      <th>price</th>\n",
       "      <th>revenue</th>\n",
       "      <th>number</th>\n",
       "      <th>label</th>\n",
       "      <th>manufacturer</th>\n",
       "      <th>group</th>\n",
       "      <th>content</th>\n",
       "      <th>unit</th>\n",
       "      <th>pharmForm</th>\n",
       "      <th>genericProduct</th>\n",
       "      <th>salesIndex</th>\n",
       "      <th>category</th>\n",
       "      <th>rrp</th>\n",
       "    </tr>\n",
       "  </thead>\n",
       "  <tbody>\n",
       "    <tr>\n",
       "      <th>0</th>\n",
       "      <td>1</td>\n",
       "      <td>1</td>\n",
       "      <td>6570</td>\n",
       "      <td>0</td>\n",
       "      <td>2</td>\n",
       "      <td>14.6000</td>\n",
       "      <td>16.8900</td>\n",
       "      <td>0.0000</td>\n",
       "      <td>0.0000</td>\n",
       "      <td>0</td>\n",
       "      <td>255</td>\n",
       "      <td>529</td>\n",
       "      <td>50.0000</td>\n",
       "      <td>5</td>\n",
       "      <td>147</td>\n",
       "      <td>0</td>\n",
       "      <td>40</td>\n",
       "      <td>193.0000</td>\n",
       "      <td>18.2500</td>\n",
       "    </tr>\n",
       "    <tr>\n",
       "      <th>1</th>\n",
       "      <td>2</td>\n",
       "      <td>1</td>\n",
       "      <td>14922</td>\n",
       "      <td>1</td>\n",
       "      <td>1</td>\n",
       "      <td>8.5700</td>\n",
       "      <td>8.7500</td>\n",
       "      <td>0.0000</td>\n",
       "      <td>0.0000</td>\n",
       "      <td>1</td>\n",
       "      <td>18</td>\n",
       "      <td>373</td>\n",
       "      <td>50.0000</td>\n",
       "      <td>7</td>\n",
       "      <td>135</td>\n",
       "      <td>1</td>\n",
       "      <td>40</td>\n",
       "      <td>66.0000</td>\n",
       "      <td>18.8100</td>\n",
       "    </tr>\n",
       "    <tr>\n",
       "      <th>2</th>\n",
       "      <td>3</td>\n",
       "      <td>1</td>\n",
       "      <td>16382</td>\n",
       "      <td>0</td>\n",
       "      <td>1</td>\n",
       "      <td>14.7700</td>\n",
       "      <td>16.0600</td>\n",
       "      <td>0.0000</td>\n",
       "      <td>0.0000</td>\n",
       "      <td>1</td>\n",
       "      <td>41</td>\n",
       "      <td>503</td>\n",
       "      <td>100.0000</td>\n",
       "      <td>5</td>\n",
       "      <td>130</td>\n",
       "      <td>0</td>\n",
       "      <td>53</td>\n",
       "      <td>40.0000</td>\n",
       "      <td>18.4800</td>\n",
       "    </tr>\n",
       "    <tr>\n",
       "      <th>3</th>\n",
       "      <td>4</td>\n",
       "      <td>1</td>\n",
       "      <td>1145</td>\n",
       "      <td>1</td>\n",
       "      <td>1</td>\n",
       "      <td>6.5900</td>\n",
       "      <td>6.5500</td>\n",
       "      <td>6.5500</td>\n",
       "      <td>1.0000</td>\n",
       "      <td>2</td>\n",
       "      <td>52</td>\n",
       "      <td>308</td>\n",
       "      <td>60.0000</td>\n",
       "      <td>1</td>\n",
       "      <td>44</td>\n",
       "      <td>0</td>\n",
       "      <td>40</td>\n",
       "      <td>25.0000</td>\n",
       "      <td>9.3100</td>\n",
       "    </tr>\n",
       "    <tr>\n",
       "      <th>4</th>\n",
       "      <td>5</td>\n",
       "      <td>1</td>\n",
       "      <td>3394</td>\n",
       "      <td>0</td>\n",
       "      <td>1</td>\n",
       "      <td>4.3900</td>\n",
       "      <td>4.1400</td>\n",
       "      <td>4.1400</td>\n",
       "      <td>1.0000</td>\n",
       "      <td>2</td>\n",
       "      <td>90</td>\n",
       "      <td>458</td>\n",
       "      <td>50.0000</td>\n",
       "      <td>7</td>\n",
       "      <td>75</td>\n",
       "      <td>0</td>\n",
       "      <td>53</td>\n",
       "      <td>14.0000</td>\n",
       "      <td>8.1300</td>\n",
       "    </tr>\n",
       "  </tbody>\n",
       "</table>\n",
       "</div>"
      ],
      "text/plain": [
       "   lineID  day    pid  adFlag  availability  competitorPrice   price  revenue  \\\n",
       "0       1    1   6570       0             2          14.6000 16.8900   0.0000   \n",
       "1       2    1  14922       1             1           8.5700  8.7500   0.0000   \n",
       "2       3    1  16382       0             1          14.7700 16.0600   0.0000   \n",
       "3       4    1   1145       1             1           6.5900  6.5500   6.5500   \n",
       "4       5    1   3394       0             1           4.3900  4.1400   4.1400   \n",
       "\n",
       "   number  label  manufacturer  group  content  unit  pharmForm  \\\n",
       "0  0.0000      0           255    529  50.0000     5        147   \n",
       "1  0.0000      1            18    373  50.0000     7        135   \n",
       "2  0.0000      1            41    503 100.0000     5        130   \n",
       "3  1.0000      2            52    308  60.0000     1         44   \n",
       "4  1.0000      2            90    458  50.0000     7         75   \n",
       "\n",
       "   genericProduct  salesIndex  category     rrp  \n",
       "0               0          40  193.0000 18.2500  \n",
       "1               1          40   66.0000 18.8100  \n",
       "2               0          53   40.0000 18.4800  \n",
       "3               0          40   25.0000  9.3100  \n",
       "4               0          53   14.0000  8.1300  "
      ]
     },
     "execution_count": 6,
     "metadata": {},
     "output_type": "execute_result"
    }
   ],
   "source": [
    "df = pd.merge(df, item, how='inner', on=['pid']).sort_values(['lineID'], ascending = True).reset_index(drop = True)\n",
    "\n",
    "train = df[(df.day <= 62)].sort_values(['lineID'], ascending = True).reset_index(drop = True)\n",
    "test = df[(df.day > 62)].sort_values(['lineID'], ascending = True).reset_index(drop = True)\n",
    "\n",
    "print('Number of train : %d' % train.shape[0])\n",
    "print('Number of test  : %d' % test.shape[0])\n",
    "df.head()"
   ]
  },
  {
   "cell_type": "code",
   "execution_count": 7,
   "metadata": {},
   "outputs": [
    {
     "name": "stdout",
     "output_type": "stream",
     "text": [
      "size of training features : 13\n",
      "size of training          : 1426198\n",
      "size of validation        : 356550\n",
      "=== Distribution of label in validation ===\n",
      "class weight of label_0 : 0.562037371519\n",
      "class weight of label_1 : 0.17458496658\n",
      "class weight of label_1 : 0.263377661902\n"
     ]
    }
   ],
   "source": [
    "col = ['adFlag','availability','competitorPrice','price','manufacturer','group','content','unit',\n",
    "       'pharmForm','genericProduct','salesIndex','category','rrp']\n",
    "X = train[col]\n",
    "y = train[[\"label\"]]\n",
    "\n",
    "X_train = X.iloc[:int(X.shape[0]*0.8), :]\n",
    "X_val = X.iloc[int(X.shape[0]*0.8):, :]\n",
    "y_train = y.iloc[:int(y.shape[0]*0.8), :]\n",
    "y_val = y.iloc[int(y.shape[0]*0.8):, :]\n",
    "\n",
    "cw0 = y.label.value_counts()[0]/y.shape[0]\n",
    "cw1 = y.label.value_counts()[1]/y.shape[0]\n",
    "cw2 = y.label.value_counts()[2]/y.shape[0]\n",
    "\n",
    "print (\"size of training features :\", X_train.shape[1])\n",
    "print (\"size of training          :\", X_train.shape[0])\n",
    "print (\"size of validation        :\", X_val.shape[0])\n",
    "print (\"=== Distribution of label in validation ===\")\n",
    "print (\"class weight of label_0 :\", cw0)\n",
    "print (\"class weight of label_1 :\", cw1)\n",
    "print (\"class weight of label_1 :\", cw2)\n"
   ]
  },
  {
   "cell_type": "code",
   "execution_count": 8,
   "metadata": {
    "collapsed": true
   },
   "outputs": [],
   "source": [
    "def processing(model):\n",
    "    model.fit(X_train, y_train)\n",
    "    y_pred = model.predict(X_val).reshape(y_val.shape[0], 1)\n",
    "    \n",
    "    print('Misclassified samples: %d' % (y_val != y_pred).sum())\n",
    "    print('Accuracy          : %.4f' % ((y_val == y_pred).sum() / y_val.shape[0]))\n",
    "    print('Accuracy (sklearn): %.4f' % accuracy_score(y_val, y_pred))\n",
    "    print(\"========== confusion matrix ==========\")\n",
    "    print(confusion_matrix(y_val, y_pred, labels = [0,1,2], sample_weight = None))\n",
    "    return y_pred\n",
    "\n",
    "def processing_reg(model):\n",
    "    model.fit(X_train, y_train)\n",
    "    pred = model.predict(X_val) \n",
    "    score = np.dot((pred - y_val).T, (pred - y_val))  \n",
    "    print(\"Euclidean Distance :\", score)  \n",
    "    df = pd.concat([pd.DataFrame(pred, columns=[\"pred\"]), pd.DataFrame(y_val, columns=[\"val\"])], axis=1)\n",
    "\n",
    "    fig, ax = plt.subplots(figsize=(15, 6))\n",
    "    df.plot.scatter(x='val', y='pred', ax = ax,\n",
    "                    title = \"scatter of test and prediction\",\n",
    "                    s = 30, alpha = 0.4)\n",
    "    plt.show()\n",
    "    return df\n"
   ]
  },
  {
   "cell_type": "code",
   "execution_count": 9,
   "metadata": {},
   "outputs": [
    {
     "name": "stdout",
     "output_type": "stream",
     "text": [
      "Misclassified samples: 122174\n",
      "Accuracy          : 0.6573\n",
      "Accuracy (sklearn): 0.6573\n",
      "========== confusion matrix ==========\n",
      "[[227300    213    490]\n",
      " [ 43808   5973    597]\n",
      " [ 76965    101   1103]]\n"
     ]
    }
   ],
   "source": [
    "tree = DecisionTreeClassifier(criterion = 'entropy', \n",
    "                              max_depth = 5, \n",
    "                              random_state = 9001,\n",
    "                              class_weight = {0:cw0, 1:cw1, 2:cw2})\n",
    "pred_tree = processing(tree)"
   ]
  },
  {
   "cell_type": "markdown",
   "metadata": {},
   "source": [
    "### regresion (mse)"
   ]
  },
  {
   "cell_type": "code",
   "execution_count": 10,
   "metadata": {},
   "outputs": [
    {
     "name": "stdout",
     "output_type": "stream",
     "text": [
      "size of training features : 13\n",
      "size of training          : 1426198\n",
      "size of validation        : 356550\n",
      "count   1782748.0000\n",
      "mean          0.3611\n",
      "std           1.0179\n",
      "min           0.0000\n",
      "25%           0.0000\n",
      "50%           0.0000\n",
      "75%           1.0000\n",
      "max         306.0000\n",
      "Name: number, dtype: float64\n"
     ]
    }
   ],
   "source": [
    "col = ['adFlag','availability','competitorPrice','price','manufacturer','group','content','unit',\n",
    "       'pharmForm','genericProduct','salesIndex','category','rrp']\n",
    "X = train[col]\n",
    "y = train[[\"number\"]]\n",
    "\n",
    "X_train = X.iloc[:int(X.shape[0]*0.8), :]\n",
    "X_val = X.iloc[int(X.shape[0]*0.8):, :]\n",
    "y_train = np.array(y.iloc[:int(y.shape[0]*0.8), :]).reshape(X_train.shape[0], )\n",
    "y_val = np.array(y.iloc[int(y.shape[0]*0.8):, :]).reshape(X_val.shape[0], )\n",
    "\n",
    "print (\"size of training features :\", X_train.shape[1])\n",
    "print (\"size of training          :\", X_train.shape[0])\n",
    "print (\"size of validation        :\", X_val.shape[0])\n",
    "print (y.number.describe())"
   ]
  },
  {
   "cell_type": "code",
   "execution_count": 11,
   "metadata": {},
   "outputs": [
    {
     "name": "stdout",
     "output_type": "stream",
     "text": [
      "Euclidean Distance : 333974.0\n"
     ]
    },
    {
     "data": {
      "image/png": "[encoded data removed]",
      "text/plain": [
       "<matplotlib.figure.Figure at 0xab17f98>"
      ]
     },
     "metadata": {},
     "output_type": "display_data"
    }
   ],
   "source": [
    "pred_tree = pred_tree.reshape(pred_tree.shape[0], )\n",
    "score = np.dot((pred_tree - y_val).T, (pred_tree - y_val))  \n",
    "print(\"Euclidean Distance :\", score)  \n",
    "df = pd.concat([pd.DataFrame(pred_tree, columns=[\"pred\"]), pd.DataFrame(y_val, columns=[\"val\"])], axis=1)\n",
    "\n",
    "fig, ax = plt.subplots(figsize=(15, 6))\n",
    "df.plot.scatter(x='val', y='pred', ax = ax,\n",
    "                title = \"scatter of test and prediction\",\n",
    "                s = 30, alpha = 0.4)\n",
    "plt.show()\n"
   ]
  },
  {
   "cell_type": "code",
   "execution_count": 12,
   "metadata": {
    "collapsed": true
   },
   "outputs": [],
   "source": [
    "rfr = RandomForestRegressor(n_estimators             = 10, \n",
    "                            max_features             = 'log2', \n",
    "                            criterion                = 'mse', \n",
    "                            max_depth                = None, \n",
    "                            min_samples_split        = 20, \n",
    "                            min_samples_leaf         = 10, \n",
    "                            min_weight_fraction_leaf = 0.0, \n",
    "                            max_leaf_nodes           = None, \n",
    "                            min_impurity_split       = 1e-07, \n",
    "                            bootstrap                = True, \n",
    "                            oob_score                = False, \n",
    "                            n_jobs                   = 1, \n",
    "                            random_state             = 9001, \n",
    "                            verbose                  = 0, \n",
    "                            warm_start               = False)\n"
   ]
  },
  {
   "cell_type": "code",
   "execution_count": 13,
   "metadata": {},
   "outputs": [
    {
     "name": "stdout",
     "output_type": "stream",
     "text": [
      "Euclidean Distance : 272382.895334\n"
     ]
    },
    {
     "data": {
      "image/png": "[encoded data removed]",
      "text/plain": [
       "<matplotlib.figure.Figure at 0xab17dd8>"
      ]
     },
     "metadata": {},
     "output_type": "display_data"
    }
   ],
   "source": [
    "pred_rfr = processing_reg(rfr)"
   ]
  },
  {
   "cell_type": "code",
   "execution_count": null,
   "metadata": {
    "collapsed": true
   },
   "outputs": [],
   "source": []
  }
 ],
 "metadata": {
  "kernelspec": {
   "display_name": "Python 3",
   "language": "python",
   "name": "python3"
  },
  "language_info": {
   "codemirror_mode": {
    "name": "ipython",
    "version": 3
   },
   "file_extension": ".py",
   "mimetype": "text/x-python",
   "name": "python",
   "nbconvert_exporter": "python",
   "pygments_lexer": "ipython3",
   "version": "3.6.1"
  }
 },
 "nbformat": 4,
 "nbformat_minor": 2
}
