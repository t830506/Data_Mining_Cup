{
 "cells": [
  {
   "cell_type": "code",
   "execution_count": 1,
   "metadata": {
    "collapsed": true
   },
   "outputs": [],
   "source": [
    "import random\n",
    "import numpy as np\n",
    "import pandas as pd\n",
    "import IPython.core.display as di\n",
    "import matplotlib.pyplot as plt\n",
    "\n",
    "from sklearn.preprocessing import StandardScaler, MinMaxScaler\n",
    "from sklearn.model_selection import cross_val_score, train_test_split\n",
    "from sklearn.metrics import confusion_matrix, mean_squared_error, accuracy_score\n",
    "from sklearn.tree import DecisionTreeClassifier\n",
    "from sklearn.ensemble import RandomForestRegressor\n"
   ]
  },
  {
   "cell_type": "code",
   "execution_count": 2,
   "metadata": {},
   "outputs": [
    {
     "data": {
      "text/html": [
       "<script>jQuery(function() {if (jQuery(\"body.notebook_app\").length == 0) { jQuery(\".input_area\").toggle(); jQuery(\".prompt\").toggle();}});</script>"
      ]
     },
     "metadata": {},
     "output_type": "display_data"
    }
   ],
   "source": [
    "random.seed(9001)\n",
    "pd.options.mode.chained_assignment = None\n",
    "pd.set_option('display.float_format', lambda x: '%.4f' % x)\n",
    "di.display_html('<script>jQuery(function() {if (jQuery(\"body.notebook_app\").length == 0) { jQuery(\".input_area\").toggle(); jQuery(\".prompt\").toggle();}});</script>', raw=True)\n"
   ]
  },
  {
   "cell_type": "code",
   "execution_count": 3,
   "metadata": {
    "collapsed": true
   },
   "outputs": [],
   "source": [
    "def importdataset(path):\n",
    "    df = pd.read_csv(path)\n",
    "    df1 = df.dropna()\n",
    "    print (\"size of dataset  :\", df.shape[0])\n",
    "    print (\"size of features :\", df.shape[1])\n",
    "    print (\"size of NaN      :\", df.shape[0] - df1.shape[0])\n",
    "    return df\n",
    "\n",
    "def processing(model, X_train, y_train, X_val, y_val):\n",
    "    model.fit(X_train, y_train)\n",
    "    y_pred = model.predict(X_val).reshape(y_val.shape[0], 1)\n",
    "    y_pred = model.predict(X_val).reshape(y_val.shape[0], 1)\n",
    "\n",
    "    print (y_val.label.value_counts())\n",
    "    print ('Misclassified samples: %d' % (y_val != y_pred).sum())\n",
    "    print ('Accuracy          : %.4f' % ((y_val == y_pred).sum() / y_val.shape[0]))\n",
    "    print ('Accuracy (sklearn): %.4f' % accuracy_score(y_val, y_pred))\n",
    "    print (\"========== confusion matrix ==========\")\n",
    "    print (confusion_matrix(y_val, y_pred, labels = [0,1,2], sample_weight = None))\n",
    "    return y_pred\n"
   ]
  },
  {
   "cell_type": "code",
   "execution_count": 4,
   "metadata": {},
   "outputs": [
    {
     "name": "stdout",
     "output_type": "stream",
     "text": [
      "size of dataset  : 2756003\n",
      "size of features : 11\n",
      "size of NaN      : 0\n"
     ]
    },
    {
     "data": {
      "text/html": [
       "<div>\n",
       "<style>\n",
       "    .dataframe thead tr:only-child th {\n",
       "        text-align: right;\n",
       "    }\n",
       "\n",
       "    .dataframe thead th {\n",
       "        text-align: left;\n",
       "    }\n",
       "\n",
       "    .dataframe tbody tr th {\n",
       "        vertical-align: top;\n",
       "    }\n",
       "</style>\n",
       "<table border=\"1\" class=\"dataframe\">\n",
       "  <thead>\n",
       "    <tr style=\"text-align: right;\">\n",
       "      <th></th>\n",
       "      <th>lineID</th>\n",
       "      <th>day</th>\n",
       "      <th>pid</th>\n",
       "      <th>adFlag</th>\n",
       "      <th>availability</th>\n",
       "      <th>competitorPrice</th>\n",
       "      <th>price</th>\n",
       "      <th>revenue</th>\n",
       "      <th>diff_price</th>\n",
       "      <th>number</th>\n",
       "      <th>label</th>\n",
       "    </tr>\n",
       "  </thead>\n",
       "  <tbody>\n",
       "    <tr>\n",
       "      <th>0</th>\n",
       "      <td>1</td>\n",
       "      <td>1</td>\n",
       "      <td>6570</td>\n",
       "      <td>0</td>\n",
       "      <td>2</td>\n",
       "      <td>14.6000</td>\n",
       "      <td>16.8900</td>\n",
       "      <td>0.0000</td>\n",
       "      <td>2.2900</td>\n",
       "      <td>0.0000</td>\n",
       "      <td>0</td>\n",
       "    </tr>\n",
       "    <tr>\n",
       "      <th>1</th>\n",
       "      <td>2</td>\n",
       "      <td>1</td>\n",
       "      <td>14922</td>\n",
       "      <td>1</td>\n",
       "      <td>1</td>\n",
       "      <td>8.5700</td>\n",
       "      <td>8.7500</td>\n",
       "      <td>0.0000</td>\n",
       "      <td>0.1800</td>\n",
       "      <td>0.0000</td>\n",
       "      <td>1</td>\n",
       "    </tr>\n",
       "    <tr>\n",
       "      <th>2</th>\n",
       "      <td>3</td>\n",
       "      <td>1</td>\n",
       "      <td>16382</td>\n",
       "      <td>0</td>\n",
       "      <td>1</td>\n",
       "      <td>14.7700</td>\n",
       "      <td>16.0600</td>\n",
       "      <td>0.0000</td>\n",
       "      <td>1.2900</td>\n",
       "      <td>0.0000</td>\n",
       "      <td>1</td>\n",
       "    </tr>\n",
       "    <tr>\n",
       "      <th>3</th>\n",
       "      <td>4</td>\n",
       "      <td>1</td>\n",
       "      <td>1145</td>\n",
       "      <td>1</td>\n",
       "      <td>1</td>\n",
       "      <td>6.5900</td>\n",
       "      <td>6.5500</td>\n",
       "      <td>6.5500</td>\n",
       "      <td>-0.0400</td>\n",
       "      <td>1.0000</td>\n",
       "      <td>2</td>\n",
       "    </tr>\n",
       "    <tr>\n",
       "      <th>4</th>\n",
       "      <td>5</td>\n",
       "      <td>1</td>\n",
       "      <td>3394</td>\n",
       "      <td>0</td>\n",
       "      <td>1</td>\n",
       "      <td>4.3900</td>\n",
       "      <td>4.1400</td>\n",
       "      <td>4.1400</td>\n",
       "      <td>-0.2500</td>\n",
       "      <td>1.0000</td>\n",
       "      <td>2</td>\n",
       "    </tr>\n",
       "  </tbody>\n",
       "</table>\n",
       "</div>"
      ],
      "text/plain": [
       "   lineID  day    pid  adFlag  availability  competitorPrice   price  revenue  \\\n",
       "0       1    1   6570       0             2          14.6000 16.8900   0.0000   \n",
       "1       2    1  14922       1             1           8.5700  8.7500   0.0000   \n",
       "2       3    1  16382       0             1          14.7700 16.0600   0.0000   \n",
       "3       4    1   1145       1             1           6.5900  6.5500   6.5500   \n",
       "4       5    1   3394       0             1           4.3900  4.1400   4.1400   \n",
       "\n",
       "   diff_price  number  label  \n",
       "0      2.2900  0.0000      0  \n",
       "1      0.1800  0.0000      1  \n",
       "2      1.2900  0.0000      1  \n",
       "3     -0.0400  1.0000      2  \n",
       "4     -0.2500  1.0000      2  "
      ]
     },
     "execution_count": 4,
     "metadata": {},
     "output_type": "execute_result"
    }
   ],
   "source": [
    "df = importdataset(\"train_clean.csv\")\n",
    "df.head()"
   ]
  },
  {
   "cell_type": "code",
   "execution_count": 5,
   "metadata": {
    "scrolled": false
   },
   "outputs": [
    {
     "name": "stdout",
     "output_type": "stream",
     "text": [
      "size of dataset  : 22035\n",
      "size of features : 10\n",
      "size of NaN      : 0\n"
     ]
    },
    {
     "data": {
      "text/html": [
       "<div>\n",
       "<style>\n",
       "    .dataframe thead tr:only-child th {\n",
       "        text-align: right;\n",
       "    }\n",
       "\n",
       "    .dataframe thead th {\n",
       "        text-align: left;\n",
       "    }\n",
       "\n",
       "    .dataframe tbody tr th {\n",
       "        vertical-align: top;\n",
       "    }\n",
       "</style>\n",
       "<table border=\"1\" class=\"dataframe\">\n",
       "  <thead>\n",
       "    <tr style=\"text-align: right;\">\n",
       "      <th></th>\n",
       "      <th>pid</th>\n",
       "      <th>manufacturer</th>\n",
       "      <th>group</th>\n",
       "      <th>content</th>\n",
       "      <th>unit</th>\n",
       "      <th>pharmForm</th>\n",
       "      <th>genericProduct</th>\n",
       "      <th>salesIndex</th>\n",
       "      <th>category</th>\n",
       "      <th>rrp</th>\n",
       "    </tr>\n",
       "  </thead>\n",
       "  <tbody>\n",
       "    <tr>\n",
       "      <th>0</th>\n",
       "      <td>1</td>\n",
       "      <td>1</td>\n",
       "      <td>529</td>\n",
       "      <td>80.0000</td>\n",
       "      <td>7</td>\n",
       "      <td>135</td>\n",
       "      <td>0</td>\n",
       "      <td>40</td>\n",
       "      <td>3.0000</td>\n",
       "      <td>10.8900</td>\n",
       "    </tr>\n",
       "    <tr>\n",
       "      <th>1</th>\n",
       "      <td>2</td>\n",
       "      <td>1</td>\n",
       "      <td>529</td>\n",
       "      <td>80.0000</td>\n",
       "      <td>7</td>\n",
       "      <td>135</td>\n",
       "      <td>0</td>\n",
       "      <td>40</td>\n",
       "      <td>3.0000</td>\n",
       "      <td>10.8900</td>\n",
       "    </tr>\n",
       "    <tr>\n",
       "      <th>2</th>\n",
       "      <td>3</td>\n",
       "      <td>1</td>\n",
       "      <td>529</td>\n",
       "      <td>10.0000</td>\n",
       "      <td>1</td>\n",
       "      <td>45</td>\n",
       "      <td>0</td>\n",
       "      <td>40</td>\n",
       "      <td>3.0000</td>\n",
       "      <td>16.4500</td>\n",
       "    </tr>\n",
       "    <tr>\n",
       "      <th>3</th>\n",
       "      <td>4</td>\n",
       "      <td>1</td>\n",
       "      <td>529</td>\n",
       "      <td>80.0000</td>\n",
       "      <td>7</td>\n",
       "      <td>135</td>\n",
       "      <td>0</td>\n",
       "      <td>40</td>\n",
       "      <td>3.0000</td>\n",
       "      <td>10.8900</td>\n",
       "    </tr>\n",
       "    <tr>\n",
       "      <th>4</th>\n",
       "      <td>5</td>\n",
       "      <td>2</td>\n",
       "      <td>74</td>\n",
       "      <td>8.0000</td>\n",
       "      <td>7</td>\n",
       "      <td>112</td>\n",
       "      <td>0</td>\n",
       "      <td>40</td>\n",
       "      <td>1.0000</td>\n",
       "      <td>22.5300</td>\n",
       "    </tr>\n",
       "  </tbody>\n",
       "</table>\n",
       "</div>"
      ],
      "text/plain": [
       "   pid  manufacturer  group  content  unit  pharmForm  genericProduct  \\\n",
       "0    1             1    529  80.0000     7        135               0   \n",
       "1    2             1    529  80.0000     7        135               0   \n",
       "2    3             1    529  10.0000     1         45               0   \n",
       "3    4             1    529  80.0000     7        135               0   \n",
       "4    5             2     74   8.0000     7        112               0   \n",
       "\n",
       "   salesIndex  category     rrp  \n",
       "0          40    3.0000 10.8900  \n",
       "1          40    3.0000 10.8900  \n",
       "2          40    3.0000 16.4500  \n",
       "3          40    3.0000 10.8900  \n",
       "4          40    1.0000 22.5300  "
      ]
     },
     "execution_count": 5,
     "metadata": {},
     "output_type": "execute_result"
    }
   ],
   "source": [
    "item = importdataset(\"items_clean.csv\")\n",
    "item.head()"
   ]
  },
  {
   "cell_type": "code",
   "execution_count": 6,
   "metadata": {
    "collapsed": true
   },
   "outputs": [],
   "source": [
    "sc = StandardScaler(with_mean=True, with_std=True)\n",
    "def preprocessing(train, test):\n",
    "    # X and y\n",
    "    X = train[col]\n",
    "    y = train[[\"label\"]]\n",
    "    X_test = test[col]\n",
    "    y_test = test[[\"label\"]]\n",
    "    # StandardScaler\n",
    "    X = pd.DataFrame(sc.fit_transform(X))\n",
    "    X_test = pd.DataFrame(sc.fit_transform(X_test))\n",
    "    # class_weight\n",
    "    cw0 = y.label.value_counts()[0]/y.shape[0]\n",
    "    cw1 = y.label.value_counts()[1]/y.shape[0]\n",
    "    cw2 = y.label.value_counts()[2]/y.shape[0]\n",
    "    print('Number of train            : %d' % train.shape[0])\n",
    "    print('Number of test             : %d' % test.shape[0])\n",
    "    print (\"size of training features :\", X.shape[1])\n",
    "    print (\"=== Distribution of label in validation ===\")\n",
    "    print (\"class weight of label_0   :\", cw0)\n",
    "    print (\"class weight of label_1   :\", cw1)\n",
    "    print (\"class weight of label_2   :\", cw2)\n",
    "    \n",
    "    return X, y, X_test, y_test, cw0, cw1, cw2 \n",
    "\n",
    "def preprocessing_wb(train, test):\n",
    "    # without basket\n",
    "    train_ = train[(train.label != 1)]\n",
    "    # X and y\n",
    "    X = train_[col]\n",
    "    y = train_[[\"label\"]]\n",
    "    X_test = test[col]\n",
    "    y_test = test[[\"label\"]]\n",
    "    # StandardScaler\n",
    "    X = pd.DataFrame(sc.fit_transform(X))\n",
    "    X_test = pd.DataFrame(sc.fit_transform(X_test))\n",
    "    # class_weight\n",
    "    cw0 = y.label.value_counts()[0]/y.shape[0]\n",
    "    cw2 = y.label.value_counts()[2]/y.shape[0]\n",
    "    print('Number of train            : %d' % train.shape[0])\n",
    "    print('Number of test             : %d' % test.shape[0])\n",
    "    print (\"size of training features :\", X.shape[1])\n",
    "    print (\"=== Distribution of label in validation ===\")\n",
    "    print (\"class weight of label_0   :\", cw0)\n",
    "    print (\"class weight of label_2   :\", cw2)\n",
    "    \n",
    "    return X, y, X_test, y_test, cw0, cw2 \n"
   ]
  },
  {
   "cell_type": "markdown",
   "metadata": {},
   "source": [
    "### 利用pid的資訊合併建模"
   ]
  },
  {
   "cell_type": "code",
   "execution_count": 7,
   "metadata": {},
   "outputs": [
    {
     "name": "stdout",
     "output_type": "stream",
     "text": [
      "Number of train            : 1782748\n",
      "Number of test             : 973255\n",
      "size of training features : 13\n",
      "=== Distribution of label in validation ===\n",
      "class weight of label_0   : 0.562037371519\n",
      "class weight of label_1   : 0.17458496658\n",
      "class weight of label_2   : 0.263377661902\n"
     ]
    }
   ],
   "source": [
    "df_ = pd.merge(df, item, how='inner', on=['pid']).sort_values(['lineID'], ascending = True).reset_index(drop = True)\n",
    "\n",
    "train = df_[(df_.day <= 62)].sort_values(['lineID'], ascending = True).reset_index(drop = True)\n",
    "test = df_[(df_.day > 62)].sort_values(['lineID'], ascending = True).reset_index(drop = True)\n",
    "\n",
    "col = ['adFlag','availability','competitorPrice','price','manufacturer','group','content','unit',\n",
    "       'pharmForm','genericProduct','salesIndex','category','rrp']\n",
    "X, y, X_test,y_test, cw0, cw1, cw2 = preprocessing(train, test)\n"
   ]
  },
  {
   "cell_type": "code",
   "execution_count": 8,
   "metadata": {},
   "outputs": [
    {
     "name": "stdout",
     "output_type": "stream",
     "text": [
      "0    580856\n",
      "2    235554\n",
      "1    156845\n",
      "Name: label, dtype: int64\n",
      "Misclassified samples: 392201\n",
      "Accuracy          : 0.5970\n",
      "Accuracy (sklearn): 0.5970\n",
      "========== confusion matrix ==========\n",
      "[[579882    584    390]\n",
      " [156080    236    529]\n",
      " [234247    371    936]]\n"
     ]
    }
   ],
   "source": [
    "tree = DecisionTreeClassifier(criterion = 'entropy', \n",
    "                              max_depth = 5, \n",
    "                              random_state = 9001,\n",
    "                              class_weight = {0:cw0, 1:cw1, 2:cw2})\n",
    "pred_tree = processing(tree, X, y, X_test, y_test)"
   ]
  },
  {
   "cell_type": "markdown",
   "metadata": {},
   "source": [
    "### without basket"
   ]
  },
  {
   "cell_type": "code",
   "execution_count": 9,
   "metadata": {},
   "outputs": [
    {
     "name": "stdout",
     "output_type": "stream",
     "text": [
      "Number of train            : 1782748\n",
      "Number of test             : 973255\n",
      "size of training features : 13\n",
      "=== Distribution of label in validation ===\n",
      "class weight of label_0   : 0.680914871625\n",
      "class weight of label_2   : 0.319085128375\n"
     ]
    }
   ],
   "source": [
    "X, y, X_test, y_test, cw0, cw2 = preprocessing_wb(train, test)"
   ]
  },
  {
   "cell_type": "code",
   "execution_count": 10,
   "metadata": {},
   "outputs": [
    {
     "name": "stdout",
     "output_type": "stream",
     "text": [
      "0    580856\n",
      "2    235554\n",
      "1    156845\n",
      "Name: label, dtype: int64\n",
      "Misclassified samples: 387902\n",
      "Accuracy          : 0.6014\n",
      "Accuracy (sklearn): 0.6014\n",
      "========== confusion matrix ==========\n",
      "[[578489      0   2367]\n",
      " [153248      0   3597]\n",
      " [228690      0   6864]]\n"
     ]
    }
   ],
   "source": [
    "tree = DecisionTreeClassifier(criterion = 'entropy', \n",
    "                              max_depth = 5, \n",
    "                              random_state = 9001,\n",
    "                              class_weight = {0:cw0, 2:cw2})\n",
    "pred_tree = processing(tree, X, y, X_test, y_test)"
   ]
  },
  {
   "cell_type": "markdown",
   "metadata": {
    "collapsed": true
   },
   "source": [
    "(578276+152756+7814)/973255 = 0.7591  \n",
    "將basket的視為不會購買，正確率提高。"
   ]
  },
  {
   "cell_type": "code",
   "execution_count": 11,
   "metadata": {
    "collapsed": true
   },
   "outputs": [],
   "source": [
    "#sub = pd.concat([test.lineID, pd.DataFrame(pred_tree, columns=[\"label\"])], axis=1)\n",
    "#sub.label.value_counts()"
   ]
  },
  {
   "cell_type": "markdown",
   "metadata": {},
   "source": [
    "#### prediction of class dataset"
   ]
  },
  {
   "cell_type": "code",
   "execution_count": 12,
   "metadata": {
    "collapsed": true
   },
   "outputs": [],
   "source": [
    "#df_class = pd.read_csv(\"class_clean.csv\")\n",
    "#df_class = pd.merge(df_class, item, how='inner', on=['pid']).sort_values(['lineID'], ascending = True).reset_index(drop = True)\n",
    "\n",
    "#df_class = df_class[col]\n",
    "#pred_class = tree.predict(df_class)\n",
    "#pred_class = pd.DataFrame(pred_class, columns=[\"pred\"])\n",
    "#pred_class.pred.value_counts()"
   ]
  },
  {
   "cell_type": "markdown",
   "metadata": {
    "collapsed": true
   },
   "source": [
    "### 利用我建立的pid變數去建模"
   ]
  },
  {
   "cell_type": "code",
   "execution_count": 13,
   "metadata": {},
   "outputs": [
    {
     "data": {
      "text/html": [
       "<div>\n",
       "<style>\n",
       "    .dataframe thead tr:only-child th {\n",
       "        text-align: right;\n",
       "    }\n",
       "\n",
       "    .dataframe thead th {\n",
       "        text-align: left;\n",
       "    }\n",
       "\n",
       "    .dataframe tbody tr th {\n",
       "        vertical-align: top;\n",
       "    }\n",
       "</style>\n",
       "<table border=\"1\" class=\"dataframe\">\n",
       "  <thead>\n",
       "    <tr style=\"text-align: right;\">\n",
       "      <th></th>\n",
       "      <th>pid</th>\n",
       "      <th>day_max</th>\n",
       "      <th>day_min</th>\n",
       "      <th>day_mean</th>\n",
       "      <th>pid_count</th>\n",
       "      <th>ad_mean</th>\n",
       "      <th>avail_mean</th>\n",
       "      <th>competitor_max</th>\n",
       "      <th>competitor_min</th>\n",
       "      <th>competitor_mean</th>\n",
       "      <th>...</th>\n",
       "      <th>price_mean</th>\n",
       "      <th>diff_max</th>\n",
       "      <th>diff_min</th>\n",
       "      <th>diff_mean</th>\n",
       "      <th>rev_mean</th>\n",
       "      <th>number_max</th>\n",
       "      <th>number_min</th>\n",
       "      <th>number_mean</th>\n",
       "      <th>pid_sum</th>\n",
       "      <th>pid_prefer</th>\n",
       "    </tr>\n",
       "  </thead>\n",
       "  <tbody>\n",
       "    <tr>\n",
       "      <th>0</th>\n",
       "      <td>1</td>\n",
       "      <td>59</td>\n",
       "      <td>10</td>\n",
       "      <td>36.5000</td>\n",
       "      <td>8</td>\n",
       "      <td>0.0000</td>\n",
       "      <td>3.0000</td>\n",
       "      <td>8.7900</td>\n",
       "      <td>8.2200</td>\n",
       "      <td>8.4100</td>\n",
       "      <td>...</td>\n",
       "      <td>9.1025</td>\n",
       "      <td>1.8600</td>\n",
       "      <td>-0.9400</td>\n",
       "      <td>0.6925</td>\n",
       "      <td>0.9100</td>\n",
       "      <td>1.0000</td>\n",
       "      <td>0.0000</td>\n",
       "      <td>0.1250</td>\n",
       "      <td>1.0000</td>\n",
       "      <td>3</td>\n",
       "    </tr>\n",
       "    <tr>\n",
       "      <th>1</th>\n",
       "      <td>2</td>\n",
       "      <td>41</td>\n",
       "      <td>12</td>\n",
       "      <td>31.0000</td>\n",
       "      <td>3</td>\n",
       "      <td>0.0000</td>\n",
       "      <td>3.0000</td>\n",
       "      <td>10.0800</td>\n",
       "      <td>8.4200</td>\n",
       "      <td>9.5267</td>\n",
       "      <td>...</td>\n",
       "      <td>9.5267</td>\n",
       "      <td>0.0000</td>\n",
       "      <td>0.0000</td>\n",
       "      <td>0.0000</td>\n",
       "      <td>0.0000</td>\n",
       "      <td>0.0000</td>\n",
       "      <td>0.0000</td>\n",
       "      <td>0.0000</td>\n",
       "      <td>0.0000</td>\n",
       "      <td>0</td>\n",
       "    </tr>\n",
       "    <tr>\n",
       "      <th>2</th>\n",
       "      <td>3</td>\n",
       "      <td>41</td>\n",
       "      <td>1</td>\n",
       "      <td>13.0000</td>\n",
       "      <td>4</td>\n",
       "      <td>0.0000</td>\n",
       "      <td>3.0000</td>\n",
       "      <td>15.2100</td>\n",
       "      <td>15.2100</td>\n",
       "      <td>15.2100</td>\n",
       "      <td>...</td>\n",
       "      <td>15.2100</td>\n",
       "      <td>0.0000</td>\n",
       "      <td>0.0000</td>\n",
       "      <td>0.0000</td>\n",
       "      <td>0.0000</td>\n",
       "      <td>0.0000</td>\n",
       "      <td>0.0000</td>\n",
       "      <td>0.0000</td>\n",
       "      <td>0.0000</td>\n",
       "      <td>0</td>\n",
       "    </tr>\n",
       "    <tr>\n",
       "      <th>3</th>\n",
       "      <td>4</td>\n",
       "      <td>60</td>\n",
       "      <td>2</td>\n",
       "      <td>32.6667</td>\n",
       "      <td>9</td>\n",
       "      <td>0.0000</td>\n",
       "      <td>1.6667</td>\n",
       "      <td>8.7100</td>\n",
       "      <td>8.2200</td>\n",
       "      <td>8.4889</td>\n",
       "      <td>...</td>\n",
       "      <td>9.9967</td>\n",
       "      <td>1.8600</td>\n",
       "      <td>1.0900</td>\n",
       "      <td>1.5078</td>\n",
       "      <td>3.3600</td>\n",
       "      <td>1.0000</td>\n",
       "      <td>0.0000</td>\n",
       "      <td>0.3333</td>\n",
       "      <td>3.0000</td>\n",
       "      <td>7</td>\n",
       "    </tr>\n",
       "    <tr>\n",
       "      <th>4</th>\n",
       "      <td>5</td>\n",
       "      <td>59</td>\n",
       "      <td>8</td>\n",
       "      <td>38.2632</td>\n",
       "      <td>19</td>\n",
       "      <td>0.0000</td>\n",
       "      <td>2.0000</td>\n",
       "      <td>18.0600</td>\n",
       "      <td>17.5900</td>\n",
       "      <td>17.8947</td>\n",
       "      <td>...</td>\n",
       "      <td>18.2242</td>\n",
       "      <td>3.2400</td>\n",
       "      <td>-3.3200</td>\n",
       "      <td>0.3295</td>\n",
       "      <td>0.0000</td>\n",
       "      <td>0.0000</td>\n",
       "      <td>0.0000</td>\n",
       "      <td>0.0000</td>\n",
       "      <td>0.0000</td>\n",
       "      <td>0</td>\n",
       "    </tr>\n",
       "  </tbody>\n",
       "</table>\n",
       "<p>5 rows × 22 columns</p>\n",
       "</div>"
      ],
      "text/plain": [
       "   pid  day_max  day_min  day_mean  pid_count  ad_mean  avail_mean  \\\n",
       "0    1       59       10   36.5000          8   0.0000      3.0000   \n",
       "1    2       41       12   31.0000          3   0.0000      3.0000   \n",
       "2    3       41        1   13.0000          4   0.0000      3.0000   \n",
       "3    4       60        2   32.6667          9   0.0000      1.6667   \n",
       "4    5       59        8   38.2632         19   0.0000      2.0000   \n",
       "\n",
       "   competitor_max  competitor_min  competitor_mean     ...      price_mean  \\\n",
       "0          8.7900          8.2200           8.4100     ...          9.1025   \n",
       "1         10.0800          8.4200           9.5267     ...          9.5267   \n",
       "2         15.2100         15.2100          15.2100     ...         15.2100   \n",
       "3          8.7100          8.2200           8.4889     ...          9.9967   \n",
       "4         18.0600         17.5900          17.8947     ...         18.2242   \n",
       "\n",
       "   diff_max  diff_min  diff_mean  rev_mean  number_max  number_min  \\\n",
       "0    1.8600   -0.9400     0.6925    0.9100      1.0000      0.0000   \n",
       "1    0.0000    0.0000     0.0000    0.0000      0.0000      0.0000   \n",
       "2    0.0000    0.0000     0.0000    0.0000      0.0000      0.0000   \n",
       "3    1.8600    1.0900     1.5078    3.3600      1.0000      0.0000   \n",
       "4    3.2400   -3.3200     0.3295    0.0000      0.0000      0.0000   \n",
       "\n",
       "   number_mean  pid_sum  pid_prefer  \n",
       "0       0.1250   1.0000           3  \n",
       "1       0.0000   0.0000           0  \n",
       "2       0.0000   0.0000           0  \n",
       "3       0.3333   3.0000           7  \n",
       "4       0.0000   0.0000           0  \n",
       "\n",
       "[5 rows x 22 columns]"
      ]
     },
     "execution_count": 13,
     "metadata": {},
     "output_type": "execute_result"
    }
   ],
   "source": [
    "pid = pd.read_csv(\"pid_info_train.csv\")\n",
    "pid.head()"
   ]
  },
  {
   "cell_type": "code",
   "execution_count": 14,
   "metadata": {},
   "outputs": [
    {
     "name": "stdout",
     "output_type": "stream",
     "text": [
      "Number of train            : 1782748\n",
      "Number of test             : 972377\n",
      "size of training features : 28\n",
      "=== Distribution of label in validation ===\n",
      "class weight of label_0   : 0.562037371519\n",
      "class weight of label_1   : 0.17458496658\n",
      "class weight of label_2   : 0.263377661902\n"
     ]
    }
   ],
   "source": [
    "df_ = pd.merge(df, pid, how='inner', on=['pid']).sort_values(['lineID'], ascending = True).reset_index(drop = True)\n",
    "\n",
    "train = df_[(df_.day <= 62)].sort_values(['lineID'], ascending = True).reset_index(drop = True)\n",
    "test = df_[(df_.day > 62)].sort_values(['lineID'], ascending = True).reset_index(drop = True)\n",
    "\n",
    "col = ['day', 'pid', 'adFlag', 'availability', 'competitorPrice', 'price', 'diff_price',\n",
    "       'day_max', 'day_min', 'day_mean', 'pid_count', 'ad_mean', 'avail_mean',\n",
    "       'competitor_max', 'competitor_min', 'competitor_mean', 'price_max', 'price_min',\n",
    "       'price_mean', 'diff_max', 'diff_min', 'diff_mean', 'rev_mean', 'number_max', 'number_min',\n",
    "       'number_mean', 'pid_sum', 'pid_prefer']\n",
    "X, y, X_test, y_test, cw0, cw1, cw2 = preprocessing(train, test)\n"
   ]
  },
  {
   "cell_type": "code",
   "execution_count": 15,
   "metadata": {},
   "outputs": [
    {
     "name": "stdout",
     "output_type": "stream",
     "text": [
      "0    580269\n",
      "2    235402\n",
      "1    156706\n",
      "Name: label, dtype: int64\n",
      "Misclassified samples: 371742\n",
      "Accuracy          : 0.6177\n",
      "Accuracy (sklearn): 0.6177\n",
      "========== confusion matrix ==========\n",
      "[[556856   2089  21324]\n",
      " [125075  17089  14542]\n",
      " [207974    738  26690]]\n"
     ]
    }
   ],
   "source": [
    "tree = DecisionTreeClassifier(criterion = 'entropy', \n",
    "                              max_depth = 5, \n",
    "                              random_state = 9001,\n",
    "                              class_weight = {0:cw0, 1:cw1, 2:cw2})\n",
    "pred_tree = processing(tree, X, y, X_test, y_test)"
   ]
  },
  {
   "cell_type": "code",
   "execution_count": 16,
   "metadata": {},
   "outputs": [
    {
     "name": "stdout",
     "output_type": "stream",
     "text": [
      "Number of train            : 1782748\n",
      "Number of test             : 972377\n",
      "size of training features : 28\n",
      "=== Distribution of label in validation ===\n",
      "class weight of label_0   : 0.680914871625\n",
      "class weight of label_2   : 0.319085128375\n",
      "0    580269\n",
      "2    235402\n",
      "1    156706\n",
      "Name: label, dtype: int64\n",
      "Misclassified samples: 389892\n",
      "Accuracy          : 0.5990\n",
      "Accuracy (sklearn): 0.5990\n",
      "========== confusion matrix ==========\n",
      "[[555384      0  24885]\n",
      " [141932      0  14774]\n",
      " [208301      0  27101]]\n"
     ]
    }
   ],
   "source": [
    "# without basket\n",
    "tree = DecisionTreeClassifier(criterion = 'entropy', \n",
    "                              max_depth = 5, \n",
    "                              random_state = 9001,\n",
    "                              class_weight = {0:cw0, 2:cw2})\n",
    "X, y, X_test, y_test, cw0, cw2 = preprocessing_wb(train, test)\n",
    "pred_tree = processing(tree, X, y, X_test, y_test)"
   ]
  },
  {
   "cell_type": "markdown",
   "metadata": {},
   "source": [
    "(555384+141932+27101)/972377 = 74.50  \n",
    "從正確率來看的話雖然差不多，但是在分群的比例來看卻合理許多。"
   ]
  },
  {
   "cell_type": "code",
   "execution_count": null,
   "metadata": {
    "collapsed": true
   },
   "outputs": [],
   "source": [
    "df_ = pd.merge(df, pid, how='inner', on=['pid']).sort_values(['lineID'], ascending = True).reset_index(drop = True)\n",
    "df_ = pd.merge(df_, item, how='inner', on=['pid']).sort_values(['lineID'], ascending = True).reset_index(drop = True)\n",
    "\n",
    "train = df_[(df_.day <= 62)].sort_values(['lineID'], ascending = True).reset_index(drop = True)\n",
    "test = df_[(df_.day > 62)].sort_values(['lineID'], ascending = True).reset_index(drop = True)\n",
    "\n",
    "col = ['day', 'pid', 'adFlag', 'availability', 'competitorPrice', 'price', 'diff_price',\n",
    "       'day_max', 'day_min', 'day_mean', 'pid_count', 'ad_mean', 'avail_mean',\n",
    "       'competitor_max', 'competitor_min', 'competitor_mean', 'price_max', 'price_min',\n",
    "       'price_mean', 'diff_max', 'diff_min', 'diff_mean', 'rev_mean', 'number_max', 'number_min',\n",
    "       'number_mean', 'pid_sum', 'pid_prefer','manufacturer','group','content','unit',\n",
    "       'pharmForm','genericProduct','salesIndex','category','rrp']\n",
    "X, y, X_test, y_test, cw0, cw1, cw2 = preprocessing(train, test)\n"
   ]
  },
  {
   "cell_type": "code",
   "execution_count": null,
   "metadata": {
    "collapsed": true
   },
   "outputs": [],
   "source": []
  }
 ],
 "metadata": {
  "kernelspec": {
   "display_name": "Python 3",
   "language": "python",
   "name": "python3"
  },
  "language_info": {
   "codemirror_mode": {
    "name": "ipython",
    "version": 3
   },
   "file_extension": ".py",
   "mimetype": "text/x-python",
   "name": "python",
   "nbconvert_exporter": "python",
   "pygments_lexer": "ipython3",
   "version": "3.6.1"
  }
 },
 "nbformat": 4,
 "nbformat_minor": 2
}
