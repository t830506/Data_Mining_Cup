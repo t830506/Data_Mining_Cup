{
 "cells": [
  {
   "cell_type": "code",
   "execution_count": 99,
   "metadata": {
    "collapsed": false
   },
   "outputs": [
    {
     "data": {
      "text/html": [
       "<script>jQuery(function() {if (jQuery(\"body.notebook_app\").length == 0) { jQuery(\".input_area\").toggle(); jQuery(\".prompt\").toggle();}});</script>"
      ]
     },
     "metadata": {},
     "output_type": "display_data"
    }
   ],
   "source": [
    "import pylab\n",
    "import numpy as np\n",
    "import pandas as pd\n",
    "import matplotlib\n",
    "import matplotlib.pyplot as plt\n",
    "from IPython.display import display\n",
    "from sklearn.ensemble import RandomForestRegressor\n",
    "from sklearn.preprocessing import MinMaxScaler\n",
    "from sklearn.preprocessing import StandardScaler\n",
    "from sklearn.model_selection import train_test_split\n",
    "from sklearn.metrics import accuracy_score\n",
    "from sklearn.cross_validation import cross_val_score\n",
    "from sklearn.metrics import mean_squared_error\n",
    "from sklearn.tree import DecisionTreeClassifier\n",
    "from keras.utils import np_utils\n",
    "from sklearn.metrics import confusion_matrix\n",
    "from sklearn.metrics import accuracy_score\n",
    "\n",
    "pd.options.mode.chained_assignment = None\n",
    "import IPython.core.display as di\n",
    "di.display_html('<script>jQuery(function() {if (jQuery(\"body.notebook_app\").length == 0) { jQuery(\".input_area\").toggle(); jQuery(\".prompt\").toggle();}});</script>', raw=True)"
   ]
  },
  {
   "cell_type": "markdown",
   "metadata": {},
   "source": [
    "# Items imformation"
   ]
  },
  {
   "cell_type": "code",
   "execution_count": 9,
   "metadata": {
    "collapsed": false,
    "scrolled": false
   },
   "outputs": [
    {
     "name": "stdout",
     "output_type": "stream",
     "text": [
      "(22035, 11)\n"
     ]
    },
    {
     "data": {
      "text/html": [
       "<div>\n",
       "<table border=\"1\" class=\"dataframe\">\n",
       "  <thead>\n",
       "    <tr style=\"text-align: right;\">\n",
       "      <th></th>\n",
       "      <th>pid</th>\n",
       "      <th>manufacturer</th>\n",
       "      <th>group</th>\n",
       "      <th>content</th>\n",
       "      <th>unit</th>\n",
       "      <th>pharmForm</th>\n",
       "      <th>genericProduct</th>\n",
       "      <th>salesIndex</th>\n",
       "      <th>category</th>\n",
       "      <th>campaignIndex</th>\n",
       "      <th>rrp</th>\n",
       "    </tr>\n",
       "  </thead>\n",
       "  <tbody>\n",
       "    <tr>\n",
       "      <th>0</th>\n",
       "      <td>1</td>\n",
       "      <td>1</td>\n",
       "      <td>2FOI</td>\n",
       "      <td>80</td>\n",
       "      <td>ST</td>\n",
       "      <td>TAB</td>\n",
       "      <td>0</td>\n",
       "      <td>40</td>\n",
       "      <td>NaN</td>\n",
       "      <td>NaN</td>\n",
       "      <td>10.89</td>\n",
       "    </tr>\n",
       "    <tr>\n",
       "      <th>1</th>\n",
       "      <td>2</td>\n",
       "      <td>1</td>\n",
       "      <td>2FOI</td>\n",
       "      <td>80</td>\n",
       "      <td>ST</td>\n",
       "      <td>Tab</td>\n",
       "      <td>0</td>\n",
       "      <td>40</td>\n",
       "      <td>NaN</td>\n",
       "      <td>NaN</td>\n",
       "      <td>10.89</td>\n",
       "    </tr>\n",
       "    <tr>\n",
       "      <th>2</th>\n",
       "      <td>3</td>\n",
       "      <td>1</td>\n",
       "      <td>2FOI</td>\n",
       "      <td>10</td>\n",
       "      <td>G</td>\n",
       "      <td>GLO</td>\n",
       "      <td>0</td>\n",
       "      <td>40</td>\n",
       "      <td>NaN</td>\n",
       "      <td>NaN</td>\n",
       "      <td>16.45</td>\n",
       "    </tr>\n",
       "    <tr>\n",
       "      <th>3</th>\n",
       "      <td>4</td>\n",
       "      <td>1</td>\n",
       "      <td>2FOI</td>\n",
       "      <td>80</td>\n",
       "      <td>ST</td>\n",
       "      <td>TAB</td>\n",
       "      <td>0</td>\n",
       "      <td>40</td>\n",
       "      <td>NaN</td>\n",
       "      <td>NaN</td>\n",
       "      <td>10.89</td>\n",
       "    </tr>\n",
       "    <tr>\n",
       "      <th>4</th>\n",
       "      <td>5</td>\n",
       "      <td>2</td>\n",
       "      <td>10OJ03JS</td>\n",
       "      <td>8</td>\n",
       "      <td>ST</td>\n",
       "      <td>PUL</td>\n",
       "      <td>0</td>\n",
       "      <td>40</td>\n",
       "      <td>1.0</td>\n",
       "      <td>NaN</td>\n",
       "      <td>22.53</td>\n",
       "    </tr>\n",
       "  </tbody>\n",
       "</table>\n",
       "</div>"
      ],
      "text/plain": [
       "   pid  manufacturer     group content unit pharmForm  genericProduct  \\\n",
       "0    1             1      2FOI      80   ST       TAB               0   \n",
       "1    2             1      2FOI      80   ST       Tab               0   \n",
       "2    3             1      2FOI      10    G       GLO               0   \n",
       "3    4             1      2FOI      80   ST       TAB               0   \n",
       "4    5             2  10OJ03JS       8   ST       PUL               0   \n",
       "\n",
       "   salesIndex  category campaignIndex    rrp  \n",
       "0          40       NaN           NaN  10.89  \n",
       "1          40       NaN           NaN  10.89  \n",
       "2          40       NaN           NaN  16.45  \n",
       "3          40       NaN           NaN  10.89  \n",
       "4          40       1.0           NaN  22.53  "
      ]
     },
     "execution_count": 9,
     "metadata": {},
     "output_type": "execute_result"
    }
   ],
   "source": [
    "df_items0 = pd.read_csv(\"items.csv\", sep = \"|\")\n",
    "print(df_items0.shape)\n",
    "df_items0.head()"
   ]
  },
  {
   "cell_type": "markdown",
   "metadata": {},
   "source": [
    "1. pid: 商品編號  \n",
    "2. manufacturer: 供應廠商  \n",
    "3. group: 藥品分類  \n",
    "4. content: 幾乘幾  \n",
    "5. unit: 容量單位  \n",
    "6. pharmForm: 藥品型態  \n",
    "7. genericProduct: 是否為基因產品  \n",
    "8. salesIndex: 配送規則代碼  \n",
    "9. category: Main shop category  \n",
    "10. rrp: reference price"
   ]
  },
  {
   "cell_type": "code",
   "execution_count": 29,
   "metadata": {
    "collapsed": true
   },
   "outputs": [],
   "source": [
    "def missing(df):\n",
    "    print('Size of testing dataset : %d' % (df.shape[0]))\n",
    "    df1 = df.dropna()\n",
    "    print('Size of testing dataset DropNA : %d' % (df1.shape[0]))\n",
    "    display(df.isnull().sum())"
   ]
  },
  {
   "cell_type": "code",
   "execution_count": 30,
   "metadata": {
    "collapsed": false,
    "scrolled": true
   },
   "outputs": [
    {
     "name": "stdout",
     "output_type": "stream",
     "text": [
      "Size of testing dataset : 22035\n",
      "Size of testing dataset DropNA : 15715\n"
     ]
    },
    {
     "data": {
      "text/plain": [
       "pid                  0\n",
       "manufacturer         0\n",
       "group                0\n",
       "content              0\n",
       "unit                 0\n",
       "pharmForm         2327\n",
       "genericProduct       0\n",
       "salesIndex           0\n",
       "category          4627\n",
       "rrp                  0\n",
       "dtype: int64"
      ]
     },
     "metadata": {},
     "output_type": "display_data"
    }
   ],
   "source": [
    "missing(df_items0)"
   ]
  },
  {
   "cell_type": "code",
   "execution_count": 10,
   "metadata": {
    "collapsed": false
   },
   "outputs": [],
   "source": [
    "### 大部分的campaignIndex都是遺失值，所以刪除\n",
    "del df_items0[\"campaignIndex\"]\n",
    "### 將大小寫統一\n",
    "df_items0.pharmForm = df_items0.pharmForm.str.upper()"
   ]
  },
  {
   "cell_type": "code",
   "execution_count": 11,
   "metadata": {
    "collapsed": false
   },
   "outputs": [
    {
     "data": {
      "text/html": [
       "<div>\n",
       "<table border=\"1\" class=\"dataframe\">\n",
       "  <thead>\n",
       "    <tr style=\"text-align: right;\">\n",
       "      <th></th>\n",
       "      <th>pid</th>\n",
       "      <th>manufacturer</th>\n",
       "      <th>group</th>\n",
       "      <th>unit</th>\n",
       "      <th>pharmForm</th>\n",
       "      <th>genericProduct</th>\n",
       "      <th>salesIndex</th>\n",
       "      <th>category</th>\n",
       "      <th>rrp</th>\n",
       "      <th>Content</th>\n",
       "    </tr>\n",
       "  </thead>\n",
       "  <tbody>\n",
       "    <tr>\n",
       "      <th>0</th>\n",
       "      <td>1</td>\n",
       "      <td>1</td>\n",
       "      <td>529</td>\n",
       "      <td>7</td>\n",
       "      <td>135</td>\n",
       "      <td>0</td>\n",
       "      <td>40</td>\n",
       "      <td>NaN</td>\n",
       "      <td>10.89</td>\n",
       "      <td>80.0</td>\n",
       "    </tr>\n",
       "    <tr>\n",
       "      <th>1</th>\n",
       "      <td>2</td>\n",
       "      <td>1</td>\n",
       "      <td>529</td>\n",
       "      <td>7</td>\n",
       "      <td>135</td>\n",
       "      <td>0</td>\n",
       "      <td>40</td>\n",
       "      <td>NaN</td>\n",
       "      <td>10.89</td>\n",
       "      <td>80.0</td>\n",
       "    </tr>\n",
       "    <tr>\n",
       "      <th>2</th>\n",
       "      <td>3</td>\n",
       "      <td>1</td>\n",
       "      <td>529</td>\n",
       "      <td>1</td>\n",
       "      <td>45</td>\n",
       "      <td>0</td>\n",
       "      <td>40</td>\n",
       "      <td>NaN</td>\n",
       "      <td>16.45</td>\n",
       "      <td>10.0</td>\n",
       "    </tr>\n",
       "    <tr>\n",
       "      <th>3</th>\n",
       "      <td>4</td>\n",
       "      <td>1</td>\n",
       "      <td>529</td>\n",
       "      <td>7</td>\n",
       "      <td>135</td>\n",
       "      <td>0</td>\n",
       "      <td>40</td>\n",
       "      <td>NaN</td>\n",
       "      <td>10.89</td>\n",
       "      <td>80.0</td>\n",
       "    </tr>\n",
       "    <tr>\n",
       "      <th>4</th>\n",
       "      <td>5</td>\n",
       "      <td>2</td>\n",
       "      <td>74</td>\n",
       "      <td>7</td>\n",
       "      <td>112</td>\n",
       "      <td>0</td>\n",
       "      <td>40</td>\n",
       "      <td>1.0</td>\n",
       "      <td>22.53</td>\n",
       "      <td>8.0</td>\n",
       "    </tr>\n",
       "  </tbody>\n",
       "</table>\n",
       "</div>"
      ],
      "text/plain": [
       "   pid  manufacturer  group  unit  pharmForm  genericProduct  salesIndex  \\\n",
       "0    1             1    529     7        135               0          40   \n",
       "1    2             1    529     7        135               0          40   \n",
       "2    3             1    529     1         45               0          40   \n",
       "3    4             1    529     7        135               0          40   \n",
       "4    5             2     74     7        112               0          40   \n",
       "\n",
       "   category    rrp  Content  \n",
       "0       NaN  10.89     80.0  \n",
       "1       NaN  10.89     80.0  \n",
       "2       NaN  16.45     10.0  \n",
       "3       NaN  10.89     80.0  \n",
       "4       1.0  22.53      8.0  "
      ]
     },
     "execution_count": 11,
     "metadata": {},
     "output_type": "execute_result"
    }
   ],
   "source": [
    "### 處理content的資料型態\n",
    "content = pd.DataFrame(df_items0.content.str.split('X',2).tolist(), columns = ['x','y','z'])\n",
    "content = content.fillna('1')\n",
    "content.x = pd.to_numeric(content.x, errors='coerce')\n",
    "content.y = pd.to_numeric(content.y, errors='coerce')\n",
    "content.z = pd.to_numeric(content.z, errors='coerce')\n",
    "content['Content'] = content.x * content.y * content.z\n",
    "df_items1 = pd.concat([df_items0, content], axis=1, join_axes=[df_items0.index])\n",
    "del df_items1[\"x\"]\n",
    "del df_items1[\"y\"]\n",
    "del df_items1[\"z\"]\n",
    "del df_items1[\"content\"]\n",
    "\n",
    "### 將categorical columns轉成數字型態\n",
    "df_items1.group = df_items1.group.astype(\"category\").cat.codes\n",
    "df_items1.unit = df_items1.unit.astype(\"category\").cat.codes\n",
    "df_items1.pharmForm = df_items1.pharmForm.astype(\"category\").cat.codes\n",
    "#df_items = pd.get_dummies(df_items)\n",
    "\n",
    "df_items1.head()"
   ]
  },
  {
   "cell_type": "code",
   "execution_count": 12,
   "metadata": {
    "collapsed": false
   },
   "outputs": [
    {
     "data": {
      "image/png": "[encoded data removed]",
      "text/plain": [
       "<matplotlib.figure.Figure at 0x118c82f98>"
      ]
     },
     "metadata": {},
     "output_type": "display_data"
    }
   ],
   "source": [
    "df_items1.corr()\n",
    "\n",
    "plt.figure(num=None, figsize=(8, 8))\n",
    "plt.imshow(df_items1.corr(), cmap=plt.cm.Blues, interpolation='nearest')\n",
    "plt.colorbar()\n",
    "tick_marks = [i for i in range(len(df_items1.columns))]\n",
    "plt.xticks(tick_marks, df_items1.columns, rotation='vertical')\n",
    "plt.yticks(tick_marks, df_items1.columns)\n",
    "plt.title('Variance Covariance Matrix', fontsize = 12)\n",
    "\n",
    "plt.show()"
   ]
  },
  {
   "cell_type": "markdown",
   "metadata": {},
   "source": [
    "> 商品的變數之間關聯性低"
   ]
  },
  {
   "cell_type": "markdown",
   "metadata": {},
   "source": [
    "## Feature Extraction"
   ]
  },
  {
   "cell_type": "code",
   "execution_count": 26,
   "metadata": {
    "collapsed": true
   },
   "outputs": [],
   "source": [
    "### dummy varible(categorical varible)\n",
    "def onehot1(df):\n",
    "    onehot = np.array(pd.get_dummies(df))\n",
    "    original_dim = onehot.shape[1]\n",
    "    print('original dimension : %d' % onehot.shape[1])\n",
    "    return onehot, original_dim\n",
    "\n",
    "### dummy varible(number categorical varible)\n",
    "def onehot2(df):\n",
    "    df_le = pd.DataFrame(np_utils.to_categorical(df,(max(df)+1)))\n",
    "    original_dim = df_le.shape[1]\n",
    "    print('original dimension : %d' % df_le.shape[1])\n",
    "    return df_le, original_dim\n",
    "\n",
    "def auto(df, dim):\n",
    "    from keras.layers import Input, Dense\n",
    "    from keras.models import Model\n",
    "    from keras.callbacks import TensorBoard\n",
    "    encoding_dim = dim\n",
    "\n",
    "    input_img = Input(shape=(df.shape[1],))\n",
    "    encoded = Dense(2000, activation='relu')(input_img)\n",
    "    encoded = Dense(1000, activation='relu')(encoded)\n",
    "    encoded = Dense(500, activation='relu')(encoded)\n",
    "    encoded = Dense(encoding_dim, activation='relu')(encoded)\n",
    "\n",
    "    decoded = Dense(500, activation='relu')(encoded)\n",
    "    decoded = Dense(1000, activation='relu')(decoded)\n",
    "    decoded = Dense(2000, activation='relu')(decoded)\n",
    "    decoded = Dense(df.shape[1], activation='sigmoid')(decoded)\n",
    "\n",
    "    autoencoder = Model(input = input_img, output = decoded)\n",
    "    autoencoder.compile(optimizer = 'adadelta', loss = 'binary_crossentropy')\n",
    "    history = autoencoder.fit(df, df,\n",
    "                              nb_epoch = nb_epoch,\n",
    "                              batch_size = 256,\n",
    "                              shuffle = True,\n",
    "                              verbose = 0,\n",
    "                              validation_split = 0.2)\n",
    "    from keras import backend as K\n",
    "    target_layer = K.function(autoencoder.inputs, [autoencoder.layers[4].output])\n",
    "    ## Extract output from the target hidden layer.\n",
    "    target_layer_out = target_layer([df])\n",
    "    df_auto = pd.DataFrame(np.array(target_layer_out[0]))\n",
    "    print('encoding dimension : %d' % (df_auto.shape[1]))\n",
    "    return history, df_auto\n",
    "\n",
    "def Plot(train_value, test_value, value_is_loss_or_acc):\n",
    "    f, ax = plt.subplots()\n",
    "    ax.plot([None] + train_value, 'o-')\n",
    "    ax.plot([None] + test_value, 'x-')\n",
    "    ax.legend(['Train ' + value_is_loss_or_acc, 'Validation ' + value_is_loss_or_acc], loc = 0) \n",
    "    ax.set_title('Training/Validation ' + value_is_loss_or_acc + ' per Epoch')\n",
    "    ax.set_xlabel('Epoch')\n",
    "    ax.set_ylabel(value_is_loss_or_acc)  \n",
    "    plt.show()\n",
    "\n",
    "def F1(x):\n",
    "    df_onehot, original_dim = onehot1(x)\n",
    "    df_his, df_auto = auto(df_onehot, int(original_dim/10))\n",
    "    Plot(df_his.history['loss'], df_his.history['val_loss'], 'Loss')\n",
    "    return df_auto\n",
    "\n",
    "def F2(x):\n",
    "    df_onehot, original_dim = onehot2(x)\n",
    "    df_his, df_auto = auto(np.array(df_onehot), int(original_dim/10))\n",
    "    Plot(df_his.history['loss'], df_his.history['val_loss'], 'Loss')\n",
    "    return df_auto"
   ]
  },
  {
   "cell_type": "markdown",
   "metadata": {},
   "source": [
    "### 1. Dummies Varibles"
   ]
  },
  {
   "cell_type": "code",
   "execution_count": 90,
   "metadata": {
    "collapsed": false
   },
   "outputs": [
    {
     "name": "stdout",
     "output_type": "stream",
     "text": [
      "original dimension : 533\n",
      "original dimension : 183\n",
      "original dimension : 8\n",
      "original dimension : 1068\n",
      "original dimension : 54\n"
     ]
    },
    {
     "data": {
      "text/html": [
       "<div>\n",
       "<table border=\"1\" class=\"dataframe\">\n",
       "  <thead>\n",
       "    <tr style=\"text-align: right;\">\n",
       "      <th></th>\n",
       "      <th>pid</th>\n",
       "      <th>2</th>\n",
       "      <th>category</th>\n",
       "      <th>rrp</th>\n",
       "      <th>Content</th>\n",
       "      <th>6</th>\n",
       "      <th>7</th>\n",
       "      <th>8</th>\n",
       "      <th>9</th>\n",
       "      <th>10</th>\n",
       "      <th>...</th>\n",
       "      <th>1842</th>\n",
       "      <th>1843</th>\n",
       "      <th>1844</th>\n",
       "      <th>1845</th>\n",
       "      <th>1846</th>\n",
       "      <th>1847</th>\n",
       "      <th>1848</th>\n",
       "      <th>1849</th>\n",
       "      <th>1850</th>\n",
       "      <th>1851</th>\n",
       "    </tr>\n",
       "  </thead>\n",
       "  <tbody>\n",
       "    <tr>\n",
       "      <th>0</th>\n",
       "      <td>1</td>\n",
       "      <td>0</td>\n",
       "      <td>NaN</td>\n",
       "      <td>10.89</td>\n",
       "      <td>80.0</td>\n",
       "      <td>0.0</td>\n",
       "      <td>0.0</td>\n",
       "      <td>0.0</td>\n",
       "      <td>0.0</td>\n",
       "      <td>0.0</td>\n",
       "      <td>...</td>\n",
       "      <td>0.0</td>\n",
       "      <td>0.0</td>\n",
       "      <td>0.0</td>\n",
       "      <td>0.0</td>\n",
       "      <td>0.0</td>\n",
       "      <td>0.0</td>\n",
       "      <td>0.0</td>\n",
       "      <td>0.0</td>\n",
       "      <td>0.0</td>\n",
       "      <td>0.0</td>\n",
       "    </tr>\n",
       "    <tr>\n",
       "      <th>1</th>\n",
       "      <td>2</td>\n",
       "      <td>0</td>\n",
       "      <td>NaN</td>\n",
       "      <td>10.89</td>\n",
       "      <td>80.0</td>\n",
       "      <td>0.0</td>\n",
       "      <td>0.0</td>\n",
       "      <td>0.0</td>\n",
       "      <td>0.0</td>\n",
       "      <td>0.0</td>\n",
       "      <td>...</td>\n",
       "      <td>0.0</td>\n",
       "      <td>0.0</td>\n",
       "      <td>0.0</td>\n",
       "      <td>0.0</td>\n",
       "      <td>0.0</td>\n",
       "      <td>0.0</td>\n",
       "      <td>0.0</td>\n",
       "      <td>0.0</td>\n",
       "      <td>0.0</td>\n",
       "      <td>0.0</td>\n",
       "    </tr>\n",
       "    <tr>\n",
       "      <th>2</th>\n",
       "      <td>3</td>\n",
       "      <td>0</td>\n",
       "      <td>NaN</td>\n",
       "      <td>16.45</td>\n",
       "      <td>10.0</td>\n",
       "      <td>0.0</td>\n",
       "      <td>0.0</td>\n",
       "      <td>0.0</td>\n",
       "      <td>0.0</td>\n",
       "      <td>0.0</td>\n",
       "      <td>...</td>\n",
       "      <td>0.0</td>\n",
       "      <td>0.0</td>\n",
       "      <td>0.0</td>\n",
       "      <td>0.0</td>\n",
       "      <td>0.0</td>\n",
       "      <td>0.0</td>\n",
       "      <td>0.0</td>\n",
       "      <td>0.0</td>\n",
       "      <td>0.0</td>\n",
       "      <td>0.0</td>\n",
       "    </tr>\n",
       "    <tr>\n",
       "      <th>3</th>\n",
       "      <td>4</td>\n",
       "      <td>0</td>\n",
       "      <td>NaN</td>\n",
       "      <td>10.89</td>\n",
       "      <td>80.0</td>\n",
       "      <td>0.0</td>\n",
       "      <td>0.0</td>\n",
       "      <td>0.0</td>\n",
       "      <td>0.0</td>\n",
       "      <td>0.0</td>\n",
       "      <td>...</td>\n",
       "      <td>0.0</td>\n",
       "      <td>0.0</td>\n",
       "      <td>0.0</td>\n",
       "      <td>0.0</td>\n",
       "      <td>0.0</td>\n",
       "      <td>0.0</td>\n",
       "      <td>0.0</td>\n",
       "      <td>0.0</td>\n",
       "      <td>0.0</td>\n",
       "      <td>0.0</td>\n",
       "    </tr>\n",
       "    <tr>\n",
       "      <th>4</th>\n",
       "      <td>5</td>\n",
       "      <td>0</td>\n",
       "      <td>1.0</td>\n",
       "      <td>22.53</td>\n",
       "      <td>8.0</td>\n",
       "      <td>0.0</td>\n",
       "      <td>0.0</td>\n",
       "      <td>0.0</td>\n",
       "      <td>0.0</td>\n",
       "      <td>0.0</td>\n",
       "      <td>...</td>\n",
       "      <td>0.0</td>\n",
       "      <td>0.0</td>\n",
       "      <td>0.0</td>\n",
       "      <td>0.0</td>\n",
       "      <td>0.0</td>\n",
       "      <td>0.0</td>\n",
       "      <td>0.0</td>\n",
       "      <td>0.0</td>\n",
       "      <td>0.0</td>\n",
       "      <td>0.0</td>\n",
       "    </tr>\n",
       "  </tbody>\n",
       "</table>\n",
       "<p>5 rows × 1851 columns</p>\n",
       "</div>"
      ],
      "text/plain": [
       "   pid  2  category    rrp  Content    6    7    8    9   10  ...   1842  \\\n",
       "0    1  0       NaN  10.89     80.0  0.0  0.0  0.0  0.0  0.0  ...    0.0   \n",
       "1    2  0       NaN  10.89     80.0  0.0  0.0  0.0  0.0  0.0  ...    0.0   \n",
       "2    3  0       NaN  16.45     10.0  0.0  0.0  0.0  0.0  0.0  ...    0.0   \n",
       "3    4  0       NaN  10.89     80.0  0.0  0.0  0.0  0.0  0.0  ...    0.0   \n",
       "4    5  0       1.0  22.53      8.0  0.0  0.0  0.0  0.0  0.0  ...    0.0   \n",
       "\n",
       "   1843  1844  1845  1846  1847  1848  1849  1850  1851  \n",
       "0   0.0   0.0   0.0   0.0   0.0   0.0   0.0   0.0   0.0  \n",
       "1   0.0   0.0   0.0   0.0   0.0   0.0   0.0   0.0   0.0  \n",
       "2   0.0   0.0   0.0   0.0   0.0   0.0   0.0   0.0   0.0  \n",
       "3   0.0   0.0   0.0   0.0   0.0   0.0   0.0   0.0   0.0  \n",
       "4   0.0   0.0   0.0   0.0   0.0   0.0   0.0   0.0   0.0  \n",
       "\n",
       "[5 rows x 1851 columns]"
      ]
     },
     "execution_count": 90,
     "metadata": {},
     "output_type": "execute_result"
    }
   ],
   "source": [
    "g1, g1_dim = onehot2(df_items1.group)\n",
    "p1, p1_dim = onehot2(df_items1.pharmForm)\n",
    "u1, u1_dim = onehot2(df_items1.unit)\n",
    "m1, m1_dim = onehot2(df_items1.manufacturer)\n",
    "s1, s1_dim = onehot2(df_items1.salesIndex)\n",
    "\n",
    "df_items_oh0 = pd.concat([df_items1, g1, p1, u1, m1, s1], axis=1, join_axes=[df_items1.index])\n",
    "df_items_oh = df_items_oh0.drop([\"group\", \"pharmForm\", \"unit\", \"manufacturer\", \"salesIndex\"], axis=1)\n",
    "df_items_oh.columns = [np.arange(1, (pd.DataFrame(df_items_oh).shape[1]+1), 1)]\n",
    "df_items_oh.rename(columns={1: 'pid', 3: 'category', 4: 'rrp', 5: 'Content'}, inplace = True)\n",
    "df_items_oh.head()"
   ]
  },
  {
   "cell_type": "markdown",
   "metadata": {},
   "source": [
    "### 2. Autoencoder"
   ]
  },
  {
   "cell_type": "code",
   "execution_count": 28,
   "metadata": {
    "collapsed": false,
    "scrolled": true
   },
   "outputs": [
    {
     "name": "stdout",
     "output_type": "stream",
     "text": [
      "original dimension : 533\n"
     ]
    },
    {
     "name": "stderr",
     "output_type": "stream",
     "text": [
      "/Users/Shawn/anaconda/lib/python3.6/site-packages/ipykernel/__main__.py:32: UserWarning: Update your `Model` call to the Keras 2 API: `Model(inputs=Tensor(\"in..., outputs=Tensor(\"de...)`\n",
      "/Users/Shawn/anaconda/lib/python3.6/site-packages/ipykernel/__main__.py:39: UserWarning: The `nb_epoch` argument in `fit` has been renamed `epochs`.\n"
     ]
    },
    {
     "name": "stdout",
     "output_type": "stream",
     "text": [
      "encoding dimension : 53\n"
     ]
    },
    {
     "data": {
      "image/png": "[encoded data removed]",
      "text/plain": [
       "<matplotlib.figure.Figure at 0x11fd81e80>"
      ]
     },
     "metadata": {},
     "output_type": "display_data"
    },
    {
     "name": "stdout",
     "output_type": "stream",
     "text": [
      "original dimension : 183\n",
      "encoding dimension : 18\n"
     ]
    },
    {
     "data": {
      "image/png": "[encoded data removed]",
      "text/plain": [
       "<matplotlib.figure.Figure at 0x1241ccb70>"
      ]
     },
     "metadata": {},
     "output_type": "display_data"
    },
    {
     "name": "stdout",
     "output_type": "stream",
     "text": [
      "original dimension : 8\n",
      "original dimension : 1068\n",
      "encoding dimension : 106\n"
     ]
    },
    {
     "data": {
      "image/png": "[encoded data removed]",
      "text/plain": [
       "<matplotlib.figure.Figure at 0x13bea1dd8>"
      ]
     },
     "metadata": {},
     "output_type": "display_data"
    },
    {
     "name": "stdout",
     "output_type": "stream",
     "text": [
      "original dimension : 54\n",
      "encoding dimension : 5\n"
     ]
    },
    {
     "data": {
      "image/png": "[encoded data removed]",
      "text/plain": [
       "<matplotlib.figure.Figure at 0x13e794748>"
      ]
     },
     "metadata": {},
     "output_type": "display_data"
    }
   ],
   "source": [
    "nb_epoch = 2  \n",
    "g = F2(df_items1.group)  \n",
    "p = F2(df_items1.pharmForm)  \n",
    "u, u_dim = onehot2(df_items1.unit)  \n",
    "m = F2(df_items1.manufacturer)  \n",
    "s = F2(df_items1.salesIndex)  "
   ]
  },
  {
   "cell_type": "code",
   "execution_count": 52,
   "metadata": {
    "collapsed": false
   },
   "outputs": [
    {
     "data": {
      "text/html": [
       "<div>\n",
       "<table border=\"1\" class=\"dataframe\">\n",
       "  <thead>\n",
       "    <tr style=\"text-align: right;\">\n",
       "      <th></th>\n",
       "      <th>pid</th>\n",
       "      <th>2</th>\n",
       "      <th>category</th>\n",
       "      <th>rrp</th>\n",
       "      <th>Content</th>\n",
       "      <th>6</th>\n",
       "      <th>7</th>\n",
       "      <th>8</th>\n",
       "      <th>9</th>\n",
       "      <th>10</th>\n",
       "      <th>...</th>\n",
       "      <th>186</th>\n",
       "      <th>187</th>\n",
       "      <th>188</th>\n",
       "      <th>189</th>\n",
       "      <th>190</th>\n",
       "      <th>191</th>\n",
       "      <th>192</th>\n",
       "      <th>193</th>\n",
       "      <th>194</th>\n",
       "      <th>195</th>\n",
       "    </tr>\n",
       "  </thead>\n",
       "  <tbody>\n",
       "    <tr>\n",
       "      <th>0</th>\n",
       "      <td>1</td>\n",
       "      <td>0</td>\n",
       "      <td>NaN</td>\n",
       "      <td>10.89</td>\n",
       "      <td>80.0</td>\n",
       "      <td>0.0</td>\n",
       "      <td>0.790775</td>\n",
       "      <td>0.0</td>\n",
       "      <td>1.794252</td>\n",
       "      <td>0.174334</td>\n",
       "      <td>...</td>\n",
       "      <td>1.078662</td>\n",
       "      <td>0.0</td>\n",
       "      <td>0.0</td>\n",
       "      <td>0.065883</td>\n",
       "      <td>1.336683</td>\n",
       "      <td>0.011546</td>\n",
       "      <td>4.244438</td>\n",
       "      <td>0.0</td>\n",
       "      <td>0.0</td>\n",
       "      <td>0.0</td>\n",
       "    </tr>\n",
       "    <tr>\n",
       "      <th>1</th>\n",
       "      <td>2</td>\n",
       "      <td>0</td>\n",
       "      <td>NaN</td>\n",
       "      <td>10.89</td>\n",
       "      <td>80.0</td>\n",
       "      <td>0.0</td>\n",
       "      <td>0.790775</td>\n",
       "      <td>0.0</td>\n",
       "      <td>1.794252</td>\n",
       "      <td>0.174334</td>\n",
       "      <td>...</td>\n",
       "      <td>1.078662</td>\n",
       "      <td>0.0</td>\n",
       "      <td>0.0</td>\n",
       "      <td>0.065883</td>\n",
       "      <td>1.336683</td>\n",
       "      <td>0.011546</td>\n",
       "      <td>4.244438</td>\n",
       "      <td>0.0</td>\n",
       "      <td>0.0</td>\n",
       "      <td>0.0</td>\n",
       "    </tr>\n",
       "    <tr>\n",
       "      <th>2</th>\n",
       "      <td>3</td>\n",
       "      <td>0</td>\n",
       "      <td>NaN</td>\n",
       "      <td>16.45</td>\n",
       "      <td>10.0</td>\n",
       "      <td>0.0</td>\n",
       "      <td>0.790775</td>\n",
       "      <td>0.0</td>\n",
       "      <td>1.794252</td>\n",
       "      <td>0.174334</td>\n",
       "      <td>...</td>\n",
       "      <td>1.078662</td>\n",
       "      <td>0.0</td>\n",
       "      <td>0.0</td>\n",
       "      <td>0.065883</td>\n",
       "      <td>1.336683</td>\n",
       "      <td>0.011546</td>\n",
       "      <td>4.244438</td>\n",
       "      <td>0.0</td>\n",
       "      <td>0.0</td>\n",
       "      <td>0.0</td>\n",
       "    </tr>\n",
       "    <tr>\n",
       "      <th>3</th>\n",
       "      <td>4</td>\n",
       "      <td>0</td>\n",
       "      <td>NaN</td>\n",
       "      <td>10.89</td>\n",
       "      <td>80.0</td>\n",
       "      <td>0.0</td>\n",
       "      <td>0.790775</td>\n",
       "      <td>0.0</td>\n",
       "      <td>1.794252</td>\n",
       "      <td>0.174334</td>\n",
       "      <td>...</td>\n",
       "      <td>1.078662</td>\n",
       "      <td>0.0</td>\n",
       "      <td>0.0</td>\n",
       "      <td>0.065883</td>\n",
       "      <td>1.336683</td>\n",
       "      <td>0.011546</td>\n",
       "      <td>4.244438</td>\n",
       "      <td>0.0</td>\n",
       "      <td>0.0</td>\n",
       "      <td>0.0</td>\n",
       "    </tr>\n",
       "    <tr>\n",
       "      <th>4</th>\n",
       "      <td>5</td>\n",
       "      <td>0</td>\n",
       "      <td>1.0</td>\n",
       "      <td>22.53</td>\n",
       "      <td>8.0</td>\n",
       "      <td>0.0</td>\n",
       "      <td>0.670131</td>\n",
       "      <td>0.0</td>\n",
       "      <td>1.543013</td>\n",
       "      <td>0.145621</td>\n",
       "      <td>...</td>\n",
       "      <td>0.976591</td>\n",
       "      <td>0.0</td>\n",
       "      <td>0.0</td>\n",
       "      <td>0.030032</td>\n",
       "      <td>1.214761</td>\n",
       "      <td>0.011546</td>\n",
       "      <td>4.244438</td>\n",
       "      <td>0.0</td>\n",
       "      <td>0.0</td>\n",
       "      <td>0.0</td>\n",
       "    </tr>\n",
       "  </tbody>\n",
       "</table>\n",
       "<p>5 rows × 195 columns</p>\n",
       "</div>"
      ],
      "text/plain": [
       "   pid  2  category    rrp  Content    6         7    8         9        10  \\\n",
       "0    1  0       NaN  10.89     80.0  0.0  0.790775  0.0  1.794252  0.174334   \n",
       "1    2  0       NaN  10.89     80.0  0.0  0.790775  0.0  1.794252  0.174334   \n",
       "2    3  0       NaN  16.45     10.0  0.0  0.790775  0.0  1.794252  0.174334   \n",
       "3    4  0       NaN  10.89     80.0  0.0  0.790775  0.0  1.794252  0.174334   \n",
       "4    5  0       1.0  22.53      8.0  0.0  0.670131  0.0  1.543013  0.145621   \n",
       "\n",
       "  ...        186  187  188       189       190       191       192  193  194  \\\n",
       "0 ...   1.078662  0.0  0.0  0.065883  1.336683  0.011546  4.244438  0.0  0.0   \n",
       "1 ...   1.078662  0.0  0.0  0.065883  1.336683  0.011546  4.244438  0.0  0.0   \n",
       "2 ...   1.078662  0.0  0.0  0.065883  1.336683  0.011546  4.244438  0.0  0.0   \n",
       "3 ...   1.078662  0.0  0.0  0.065883  1.336683  0.011546  4.244438  0.0  0.0   \n",
       "4 ...   0.976591  0.0  0.0  0.030032  1.214761  0.011546  4.244438  0.0  0.0   \n",
       "\n",
       "   195  \n",
       "0  0.0  \n",
       "1  0.0  \n",
       "2  0.0  \n",
       "3  0.0  \n",
       "4  0.0  \n",
       "\n",
       "[5 rows x 195 columns]"
      ]
     },
     "execution_count": 52,
     "metadata": {},
     "output_type": "execute_result"
    }
   ],
   "source": [
    "df_items0 = pd.concat([df_items1, g, p, pd.DataFrame(u), m, s], axis=1, join_axes=[df_items1.index])  \n",
    "df_items = df_items0.drop([\"group\", \"pharmForm\", \"unit\", \"manufacturer\", \"salesIndex\"], axis=1)\n",
    "df_items.columns = [np.arange(1, (pd.DataFrame(df_items).shape[1]+1), 1)]\n",
    "df_items.rename(columns={1: 'pid', 3: 'category', 4: 'rrp', 5: 'Content'}, inplace = True)\n",
    "df_items.head()"
   ]
  },
  {
   "cell_type": "markdown",
   "metadata": {},
   "source": [
    "> 因為變數之間關聯性很小，所以分開做降維之後再合併。"
   ]
  },
  {
   "cell_type": "code",
   "execution_count": 106,
   "metadata": {
    "collapsed": false
   },
   "outputs": [],
   "source": [
    "### Filling Missing Value\n",
    "df_items.category = df_items.category.fillna(value = np.mean(df_items.category))\n",
    "df_items.Content = df_items.Content.fillna(value = np.mean(df_items.Content))\n",
    "\n",
    "df_items_oh.category = df_items_oh.category.fillna(value = np.mean(df_items_oh.category))\n",
    "df_items_oh.Content = df_items_oh.Content.fillna(value = np.mean(df_items_oh.Content))"
   ]
  },
  {
   "cell_type": "markdown",
   "metadata": {},
   "source": [
    "# Testing set"
   ]
  },
  {
   "cell_type": "code",
   "execution_count": 60,
   "metadata": {
    "collapsed": false
   },
   "outputs": [
    {
     "name": "stdout",
     "output_type": "stream",
     "text": [
      "(1210767, 7)\n"
     ]
    },
    {
     "data": {
      "text/html": [
       "<div>\n",
       "<table border=\"1\" class=\"dataframe\">\n",
       "  <thead>\n",
       "    <tr style=\"text-align: right;\">\n",
       "      <th></th>\n",
       "      <th>lineID</th>\n",
       "      <th>day</th>\n",
       "      <th>pid</th>\n",
       "      <th>adFlag</th>\n",
       "      <th>availability</th>\n",
       "      <th>competitorPrice</th>\n",
       "      <th>price</th>\n",
       "    </tr>\n",
       "  </thead>\n",
       "  <tbody>\n",
       "    <tr>\n",
       "      <th>0</th>\n",
       "      <td>1</td>\n",
       "      <td>93</td>\n",
       "      <td>4772</td>\n",
       "      <td>0</td>\n",
       "      <td>1</td>\n",
       "      <td>11.54</td>\n",
       "      <td>12.04</td>\n",
       "    </tr>\n",
       "    <tr>\n",
       "      <th>1</th>\n",
       "      <td>2</td>\n",
       "      <td>93</td>\n",
       "      <td>11548</td>\n",
       "      <td>0</td>\n",
       "      <td>2</td>\n",
       "      <td>6.84</td>\n",
       "      <td>8.60</td>\n",
       "    </tr>\n",
       "    <tr>\n",
       "      <th>2</th>\n",
       "      <td>3</td>\n",
       "      <td>93</td>\n",
       "      <td>1958</td>\n",
       "      <td>0</td>\n",
       "      <td>1</td>\n",
       "      <td>9.67</td>\n",
       "      <td>10.39</td>\n",
       "    </tr>\n",
       "    <tr>\n",
       "      <th>3</th>\n",
       "      <td>4</td>\n",
       "      <td>93</td>\n",
       "      <td>15071</td>\n",
       "      <td>0</td>\n",
       "      <td>2</td>\n",
       "      <td>17.37</td>\n",
       "      <td>16.45</td>\n",
       "    </tr>\n",
       "    <tr>\n",
       "      <th>4</th>\n",
       "      <td>5</td>\n",
       "      <td>93</td>\n",
       "      <td>2117</td>\n",
       "      <td>0</td>\n",
       "      <td>1</td>\n",
       "      <td>4.94</td>\n",
       "      <td>5.45</td>\n",
       "    </tr>\n",
       "  </tbody>\n",
       "</table>\n",
       "</div>"
      ],
      "text/plain": [
       "   lineID  day    pid  adFlag  availability  competitorPrice  price\n",
       "0       1   93   4772       0             1            11.54  12.04\n",
       "1       2   93  11548       0             2             6.84   8.60\n",
       "2       3   93   1958       0             1             9.67  10.39\n",
       "3       4   93  15071       0             2            17.37  16.45\n",
       "4       5   93   2117       0             1             4.94   5.45"
      ]
     },
     "execution_count": 60,
     "metadata": {},
     "output_type": "execute_result"
    }
   ],
   "source": [
    "df_class = pd.read_csv(\"class.csv\", sep = \"|\")\n",
    "print(df_class.shape)\n",
    "\n",
    "df_class.head()"
   ]
  },
  {
   "cell_type": "code",
   "execution_count": 61,
   "metadata": {
    "collapsed": false
   },
   "outputs": [
    {
     "name": "stdout",
     "output_type": "stream",
     "text": [
      "Size of testing dataset : 1210767\n",
      "Size of testing dataset DropNA : 1172762\n"
     ]
    },
    {
     "data": {
      "text/plain": [
       "lineID                 0\n",
       "day                    0\n",
       "pid                    0\n",
       "adFlag                 0\n",
       "availability           0\n",
       "competitorPrice    38005\n",
       "price                  0\n",
       "dtype: int64"
      ]
     },
     "metadata": {},
     "output_type": "display_data"
    }
   ],
   "source": [
    "missing(df_class)"
   ]
  },
  {
   "cell_type": "markdown",
   "metadata": {},
   "source": [
    "# Training set "
   ]
  },
  {
   "cell_type": "code",
   "execution_count": 67,
   "metadata": {
    "collapsed": false
   },
   "outputs": [
    {
     "name": "stdout",
     "output_type": "stream",
     "text": [
      "(2756003, 11)\n"
     ]
    },
    {
     "data": {
      "text/html": [
       "<div>\n",
       "<table border=\"1\" class=\"dataframe\">\n",
       "  <thead>\n",
       "    <tr style=\"text-align: right;\">\n",
       "      <th></th>\n",
       "      <th>lineID</th>\n",
       "      <th>day</th>\n",
       "      <th>pid</th>\n",
       "      <th>adFlag</th>\n",
       "      <th>availability</th>\n",
       "      <th>competitorPrice</th>\n",
       "      <th>click</th>\n",
       "      <th>basket</th>\n",
       "      <th>order</th>\n",
       "      <th>price</th>\n",
       "      <th>revenue</th>\n",
       "    </tr>\n",
       "  </thead>\n",
       "  <tbody>\n",
       "    <tr>\n",
       "      <th>0</th>\n",
       "      <td>1</td>\n",
       "      <td>1</td>\n",
       "      <td>6570</td>\n",
       "      <td>0</td>\n",
       "      <td>2</td>\n",
       "      <td>14.60</td>\n",
       "      <td>1</td>\n",
       "      <td>0</td>\n",
       "      <td>0</td>\n",
       "      <td>16.89</td>\n",
       "      <td>0.00</td>\n",
       "    </tr>\n",
       "    <tr>\n",
       "      <th>1</th>\n",
       "      <td>2</td>\n",
       "      <td>1</td>\n",
       "      <td>14922</td>\n",
       "      <td>1</td>\n",
       "      <td>1</td>\n",
       "      <td>8.57</td>\n",
       "      <td>0</td>\n",
       "      <td>1</td>\n",
       "      <td>0</td>\n",
       "      <td>8.75</td>\n",
       "      <td>0.00</td>\n",
       "    </tr>\n",
       "    <tr>\n",
       "      <th>2</th>\n",
       "      <td>3</td>\n",
       "      <td>1</td>\n",
       "      <td>16382</td>\n",
       "      <td>0</td>\n",
       "      <td>1</td>\n",
       "      <td>14.77</td>\n",
       "      <td>0</td>\n",
       "      <td>1</td>\n",
       "      <td>0</td>\n",
       "      <td>16.06</td>\n",
       "      <td>0.00</td>\n",
       "    </tr>\n",
       "    <tr>\n",
       "      <th>3</th>\n",
       "      <td>4</td>\n",
       "      <td>1</td>\n",
       "      <td>1145</td>\n",
       "      <td>1</td>\n",
       "      <td>1</td>\n",
       "      <td>6.59</td>\n",
       "      <td>0</td>\n",
       "      <td>0</td>\n",
       "      <td>1</td>\n",
       "      <td>6.55</td>\n",
       "      <td>6.55</td>\n",
       "    </tr>\n",
       "    <tr>\n",
       "      <th>4</th>\n",
       "      <td>5</td>\n",
       "      <td>1</td>\n",
       "      <td>3394</td>\n",
       "      <td>0</td>\n",
       "      <td>1</td>\n",
       "      <td>4.39</td>\n",
       "      <td>0</td>\n",
       "      <td>0</td>\n",
       "      <td>1</td>\n",
       "      <td>4.14</td>\n",
       "      <td>4.14</td>\n",
       "    </tr>\n",
       "  </tbody>\n",
       "</table>\n",
       "</div>"
      ],
      "text/plain": [
       "   lineID  day    pid  adFlag  availability  competitorPrice  click  basket  \\\n",
       "0       1    1   6570       0             2            14.60      1       0   \n",
       "1       2    1  14922       1             1             8.57      0       1   \n",
       "2       3    1  16382       0             1            14.77      0       1   \n",
       "3       4    1   1145       1             1             6.59      0       0   \n",
       "4       5    1   3394       0             1             4.39      0       0   \n",
       "\n",
       "   order  price  revenue  \n",
       "0      0  16.89     0.00  \n",
       "1      0   8.75     0.00  \n",
       "2      0  16.06     0.00  \n",
       "3      1   6.55     6.55  \n",
       "4      1   4.14     4.14  "
      ]
     },
     "execution_count": 67,
     "metadata": {},
     "output_type": "execute_result"
    }
   ],
   "source": [
    "df_train0 = pd.read_csv(\"train.csv\", sep = \"|\")\n",
    "print(df_train0.shape)\n",
    "df_train0.head()"
   ]
  },
  {
   "cell_type": "markdown",
   "metadata": {},
   "source": [
    "1. lineID: key for unique identification of user action  \n",
    "2. adFlag: 是否廣告宣傳  \n",
    "3. availability: 有貨 缺貨 可預訂 可訂製 停產  \n",
    "4. competitorPrice: 對手最低價格  \n",
    "5. price: 我們的售價  \n",
    "6. click, basket, order, revenue:  \n",
    "這一次進入網站對此商品做的事，僅僅點擊或放入購物籃或購買，造成利潤=售價*購買個數，如果僅僅點擊或放入購物籃就沒有利潤。"
   ]
  },
  {
   "cell_type": "code",
   "execution_count": 69,
   "metadata": {
    "collapsed": false,
    "scrolled": false
   },
   "outputs": [
    {
     "data": {
      "text/html": [
       "<div>\n",
       "<table border=\"1\" class=\"dataframe\">\n",
       "  <thead>\n",
       "    <tr style=\"text-align: right;\">\n",
       "      <th></th>\n",
       "      <th>lineID</th>\n",
       "      <th>day</th>\n",
       "      <th>pid</th>\n",
       "      <th>adFlag</th>\n",
       "      <th>availability</th>\n",
       "      <th>competitorPrice</th>\n",
       "      <th>click</th>\n",
       "      <th>basket</th>\n",
       "      <th>order</th>\n",
       "      <th>price</th>\n",
       "      <th>revenue</th>\n",
       "      <th>number</th>\n",
       "      <th>class_label</th>\n",
       "    </tr>\n",
       "  </thead>\n",
       "  <tbody>\n",
       "    <tr>\n",
       "      <th>0</th>\n",
       "      <td>1</td>\n",
       "      <td>1</td>\n",
       "      <td>6570</td>\n",
       "      <td>0</td>\n",
       "      <td>2</td>\n",
       "      <td>14.60</td>\n",
       "      <td>1</td>\n",
       "      <td>0</td>\n",
       "      <td>0</td>\n",
       "      <td>16.89</td>\n",
       "      <td>0.0</td>\n",
       "      <td>0.0</td>\n",
       "      <td>0</td>\n",
       "    </tr>\n",
       "    <tr>\n",
       "      <th>7</th>\n",
       "      <td>8</td>\n",
       "      <td>1</td>\n",
       "      <td>16963</td>\n",
       "      <td>0</td>\n",
       "      <td>1</td>\n",
       "      <td>8.78</td>\n",
       "      <td>1</td>\n",
       "      <td>0</td>\n",
       "      <td>0</td>\n",
       "      <td>8.75</td>\n",
       "      <td>0.0</td>\n",
       "      <td>0.0</td>\n",
       "      <td>0</td>\n",
       "    </tr>\n",
       "    <tr>\n",
       "      <th>8</th>\n",
       "      <td>9</td>\n",
       "      <td>1</td>\n",
       "      <td>14560</td>\n",
       "      <td>0</td>\n",
       "      <td>1</td>\n",
       "      <td>10.84</td>\n",
       "      <td>1</td>\n",
       "      <td>0</td>\n",
       "      <td>0</td>\n",
       "      <td>12.04</td>\n",
       "      <td>0.0</td>\n",
       "      <td>0.0</td>\n",
       "      <td>0</td>\n",
       "    </tr>\n",
       "    <tr>\n",
       "      <th>9</th>\n",
       "      <td>10</td>\n",
       "      <td>1</td>\n",
       "      <td>4853</td>\n",
       "      <td>1</td>\n",
       "      <td>1</td>\n",
       "      <td>9.12</td>\n",
       "      <td>1</td>\n",
       "      <td>0</td>\n",
       "      <td>0</td>\n",
       "      <td>8.75</td>\n",
       "      <td>0.0</td>\n",
       "      <td>0.0</td>\n",
       "      <td>0</td>\n",
       "    </tr>\n",
       "    <tr>\n",
       "      <th>11</th>\n",
       "      <td>12</td>\n",
       "      <td>1</td>\n",
       "      <td>4055</td>\n",
       "      <td>1</td>\n",
       "      <td>1</td>\n",
       "      <td>10.99</td>\n",
       "      <td>1</td>\n",
       "      <td>0</td>\n",
       "      <td>0</td>\n",
       "      <td>10.95</td>\n",
       "      <td>0.0</td>\n",
       "      <td>0.0</td>\n",
       "      <td>0</td>\n",
       "    </tr>\n",
       "  </tbody>\n",
       "</table>\n",
       "</div>"
      ],
      "text/plain": [
       "    lineID  day    pid  adFlag  availability  competitorPrice  click  basket  \\\n",
       "0        1    1   6570       0             2            14.60      1       0   \n",
       "7        8    1  16963       0             1             8.78      1       0   \n",
       "8        9    1  14560       0             1            10.84      1       0   \n",
       "9       10    1   4853       1             1             9.12      1       0   \n",
       "11      12    1   4055       1             1            10.99      1       0   \n",
       "\n",
       "    order  price  revenue  number  class_label  \n",
       "0       0  16.89      0.0     0.0            0  \n",
       "7       0   8.75      0.0     0.0            0  \n",
       "8       0  12.04      0.0     0.0            0  \n",
       "9       0   8.75      0.0     0.0            0  \n",
       "11      0  10.95      0.0     0.0            0  "
      ]
     },
     "execution_count": 69,
     "metadata": {},
     "output_type": "execute_result"
    }
   ],
   "source": [
    "### Transfer to regression question\n",
    "df_train0[\"number\"] = df_train0[\"revenue\"]/df_train0[\"price\"]\n",
    "\n",
    "### Transfer to classification question\n",
    "click = df_train0[(df_train0.click == 1)]\n",
    "basket = df_train0[(df_train0.basket == 1)]\n",
    "order = df_train0[(df_train0.order == 1)]\n",
    "click[\"class_label\"] = 0\n",
    "basket[\"class_label\"] = 0\n",
    "order[\"class_label\"] = 1\n",
    "df_train = pd.concat([click, basket, order])\n",
    "df_train.head()"
   ]
  },
  {
   "cell_type": "code",
   "execution_count": 96,
   "metadata": {
    "collapsed": false
   },
   "outputs": [
    {
     "data": {
      "image/png": "[encoded data removed]",
      "text/plain": [
       "<matplotlib.figure.Figure at 0x12203dd68>"
      ]
     },
     "metadata": {},
     "output_type": "display_data"
    }
   ],
   "source": [
    "df_train.revenue.plot.hist(title = 'revenue', bins = 100)\n",
    "plt.show()"
   ]
  },
  {
   "cell_type": "code",
   "execution_count": 70,
   "metadata": {
    "collapsed": false
   },
   "outputs": [
    {
     "name": "stdout",
     "output_type": "stream",
     "text": [
      "Shape of Order = 1 : 705090\n",
      "Shape of Order = 0 : 2050913\n",
      "Shape of Total dataset : 2756003\n"
     ]
    }
   ],
   "source": [
    "print(\"Shape of Order = 1 :\", df_train[df_train.order == 1].shape[0])\n",
    "print(\"Shape of Order = 0 :\", df_train[df_train.order != 1].shape[0])\n",
    "print(\"Shape of Total dataset :\", df_train.shape[0])"
   ]
  },
  {
   "cell_type": "code",
   "execution_count": 71,
   "metadata": {
    "collapsed": false
   },
   "outputs": [
    {
     "name": "stdout",
     "output_type": "stream",
     "text": [
      "Number = 0 : 2050913\n",
      "Number = 1 : 562284\n",
      "Number = 2 : 94381\n",
      "Number = 3 : 14937\n",
      "Number = 4 : 10235\n",
      "Number = 5 : 6185\n",
      "Number > 5 : 7358\n"
     ]
    }
   ],
   "source": [
    "print ('Number = 0 : %.0f' % df_train[df_train.number == 0].shape[0])  \n",
    "print ('Number = 1 : %.0f' % df_train[df_train.number == 1].shape[0])  \n",
    "print ('Number = 2 : %.0f' % df_train[df_train.number == 2].shape[0])  \n",
    "print ('Number = 3 : %.0f' % df_train[df_train.number == 3].shape[0])  \n",
    "print ('Number = 4 : %.0f' % df_train[df_train.number == 4].shape[0])  \n",
    "print ('Number = 5 : %.0f' % df_train[df_train.number == 5].shape[0])  \n",
    "print ('Number > 5 : %.0f' % df_train[df_train.number > 5].shape[0])"
   ]
  },
  {
   "cell_type": "markdown",
   "metadata": {},
   "source": [
    "> 因此，我們了解到如果我們做好了(0, 1)分類問題，就等於是解決了大部分的問題。"
   ]
  },
  {
   "cell_type": "code",
   "execution_count": 87,
   "metadata": {
    "collapsed": false
   },
   "outputs": [],
   "source": [
    "def vcplot(df):\n",
    "    df.corr()\n",
    "\n",
    "    plt.figure(num=None, figsize=(8, 8))\n",
    "    plt.imshow(df.corr(), cmap = plt.cm.Blues, interpolation = 'nearest')\n",
    "    plt.colorbar()\n",
    "    tick_marks = [i for i in range(len(df.columns))]\n",
    "    plt.xticks(tick_marks, df.columns, rotation = 'vertical')\n",
    "    plt.yticks(tick_marks, df.columns)\n",
    "    plt.title('Variance Covariance Matrix', fontsize = 12)\n",
    "\n",
    "    plt.show()"
   ]
  },
  {
   "cell_type": "code",
   "execution_count": 88,
   "metadata": {
    "collapsed": false
   },
   "outputs": [
    {
     "data": {
      "image/png": "[encoded data removed]",
      "text/plain": [
       "<matplotlib.figure.Figure at 0x118af2080>"
      ]
     },
     "metadata": {},
     "output_type": "display_data"
    }
   ],
   "source": [
    "vcplot(df_train)"
   ]
  },
  {
   "cell_type": "markdown",
   "metadata": {},
   "source": [
    "> 變數之間相關性不大，與是否購買有沒有顯著相關性。"
   ]
  },
  {
   "cell_type": "code",
   "execution_count": 83,
   "metadata": {
    "collapsed": false
   },
   "outputs": [
    {
     "name": "stdout",
     "output_type": "stream",
     "text": [
      "The Availability and Order Table\n",
      "               non_order     order  tol_availability\n",
      "availability1   0.668401  0.244360          0.912761\n",
      "availability2   0.057407  0.009790          0.067197\n",
      "availability3   0.014602  0.001688          0.016289\n",
      "availability4   0.003752  0.000001          0.003753\n",
      "tol_order       0.744162  0.255838          1.000000\n"
     ]
    }
   ],
   "source": [
    "table = pd.crosstab(index = df_train[\"availability\"], columns = df_train[\"order\"], margins = True)  \n",
    "table.columns = [\"non_order\",\"order\", \"tol_availability\"]  \n",
    "table.index = [\"availability1\",\"availability2\", \"availability3\", \"availability4\", \"tol_order\"]  \n",
    "print(\"The Availability and Order Table\")  \n",
    "print(table/df_train.shape[0])"
   ]
  },
  {
   "cell_type": "code",
   "execution_count": 84,
   "metadata": {
    "collapsed": false
   },
   "outputs": [
    {
     "name": "stdout",
     "output_type": "stream",
     "text": [
      "The adFlag and Order Table\n",
      "order          0         1       All\n",
      "adFlag                              \n",
      "0       0.528827  0.153384  0.682211\n",
      "1       0.215335  0.102454  0.317789\n",
      "All     0.744162  0.255838  1.000000\n"
     ]
    }
   ],
   "source": [
    "table = pd.crosstab(index = df_train[\"adFlag\"], columns = df_train[\"order\"], margins = True)  \n",
    "print(\"The adFlag and Order Table\")  \n",
    "print(table/df_train.shape[0])"
   ]
  },
  {
   "cell_type": "markdown",
   "metadata": {},
   "source": [
    "> 有無打廣告差很多，商品存貨狀態也是。"
   ]
  },
  {
   "cell_type": "code",
   "execution_count": 93,
   "metadata": {
    "collapsed": true
   },
   "outputs": [],
   "source": [
    "### Filling Missing Value\n",
    "df_train.competitorPrice = df_train.competitorPrice.fillna(value = np.mean(df_train.competitorPrice))"
   ]
  },
  {
   "cell_type": "markdown",
   "metadata": {},
   "source": [
    "# Combine Train and Items, and Hold Out Result"
   ]
  },
  {
   "cell_type": "code",
   "execution_count": 108,
   "metadata": {
    "collapsed": false
   },
   "outputs": [
    {
     "name": "stdout",
     "output_type": "stream",
     "text": [
      "Number of hold_result: 889940\n",
      "Number of result trainig: 1866063\n"
     ]
    },
    {
     "data": {
      "text/html": [
       "<div>\n",
       "<table border=\"1\" class=\"dataframe\">\n",
       "  <thead>\n",
       "    <tr style=\"text-align: right;\">\n",
       "      <th></th>\n",
       "      <th>lineID</th>\n",
       "      <th>day</th>\n",
       "      <th>pid</th>\n",
       "      <th>adFlag</th>\n",
       "      <th>availability</th>\n",
       "      <th>competitorPrice</th>\n",
       "      <th>click</th>\n",
       "      <th>basket</th>\n",
       "      <th>order</th>\n",
       "      <th>price</th>\n",
       "      <th>...</th>\n",
       "      <th>186</th>\n",
       "      <th>187</th>\n",
       "      <th>188</th>\n",
       "      <th>189</th>\n",
       "      <th>190</th>\n",
       "      <th>191</th>\n",
       "      <th>192</th>\n",
       "      <th>193</th>\n",
       "      <th>194</th>\n",
       "      <th>195</th>\n",
       "    </tr>\n",
       "  </thead>\n",
       "  <tbody>\n",
       "    <tr>\n",
       "      <th>0</th>\n",
       "      <td>1</td>\n",
       "      <td>1</td>\n",
       "      <td>6570</td>\n",
       "      <td>0</td>\n",
       "      <td>2</td>\n",
       "      <td>14.60</td>\n",
       "      <td>1</td>\n",
       "      <td>0</td>\n",
       "      <td>0</td>\n",
       "      <td>16.89</td>\n",
       "      <td>...</td>\n",
       "      <td>1.046115</td>\n",
       "      <td>0.0</td>\n",
       "      <td>0.0</td>\n",
       "      <td>0.037388</td>\n",
       "      <td>1.273642</td>\n",
       "      <td>0.011546</td>\n",
       "      <td>4.244438</td>\n",
       "      <td>0.0</td>\n",
       "      <td>0.0</td>\n",
       "      <td>0.0</td>\n",
       "    </tr>\n",
       "    <tr>\n",
       "      <th>1</th>\n",
       "      <td>2</td>\n",
       "      <td>1</td>\n",
       "      <td>14922</td>\n",
       "      <td>1</td>\n",
       "      <td>1</td>\n",
       "      <td>8.57</td>\n",
       "      <td>0</td>\n",
       "      <td>1</td>\n",
       "      <td>0</td>\n",
       "      <td>8.75</td>\n",
       "      <td>...</td>\n",
       "      <td>1.068649</td>\n",
       "      <td>0.0</td>\n",
       "      <td>0.0</td>\n",
       "      <td>0.020120</td>\n",
       "      <td>1.319577</td>\n",
       "      <td>0.011546</td>\n",
       "      <td>4.244438</td>\n",
       "      <td>0.0</td>\n",
       "      <td>0.0</td>\n",
       "      <td>0.0</td>\n",
       "    </tr>\n",
       "    <tr>\n",
       "      <th>2</th>\n",
       "      <td>3</td>\n",
       "      <td>1</td>\n",
       "      <td>16382</td>\n",
       "      <td>0</td>\n",
       "      <td>1</td>\n",
       "      <td>14.77</td>\n",
       "      <td>0</td>\n",
       "      <td>1</td>\n",
       "      <td>0</td>\n",
       "      <td>16.06</td>\n",
       "      <td>...</td>\n",
       "      <td>1.015012</td>\n",
       "      <td>0.0</td>\n",
       "      <td>0.0</td>\n",
       "      <td>0.023562</td>\n",
       "      <td>1.245092</td>\n",
       "      <td>0.258308</td>\n",
       "      <td>6.122163</td>\n",
       "      <td>0.0</td>\n",
       "      <td>0.0</td>\n",
       "      <td>0.0</td>\n",
       "    </tr>\n",
       "    <tr>\n",
       "      <th>3</th>\n",
       "      <td>4</td>\n",
       "      <td>1</td>\n",
       "      <td>1145</td>\n",
       "      <td>1</td>\n",
       "      <td>1</td>\n",
       "      <td>6.59</td>\n",
       "      <td>0</td>\n",
       "      <td>0</td>\n",
       "      <td>1</td>\n",
       "      <td>6.55</td>\n",
       "      <td>...</td>\n",
       "      <td>1.016197</td>\n",
       "      <td>0.0</td>\n",
       "      <td>0.0</td>\n",
       "      <td>0.048767</td>\n",
       "      <td>1.244417</td>\n",
       "      <td>0.011546</td>\n",
       "      <td>4.244438</td>\n",
       "      <td>0.0</td>\n",
       "      <td>0.0</td>\n",
       "      <td>0.0</td>\n",
       "    </tr>\n",
       "    <tr>\n",
       "      <th>4</th>\n",
       "      <td>5</td>\n",
       "      <td>1</td>\n",
       "      <td>3394</td>\n",
       "      <td>0</td>\n",
       "      <td>1</td>\n",
       "      <td>4.39</td>\n",
       "      <td>0</td>\n",
       "      <td>0</td>\n",
       "      <td>1</td>\n",
       "      <td>4.14</td>\n",
       "      <td>...</td>\n",
       "      <td>1.043700</td>\n",
       "      <td>0.0</td>\n",
       "      <td>0.0</td>\n",
       "      <td>0.029742</td>\n",
       "      <td>1.259859</td>\n",
       "      <td>0.258308</td>\n",
       "      <td>6.122163</td>\n",
       "      <td>0.0</td>\n",
       "      <td>0.0</td>\n",
       "      <td>0.0</td>\n",
       "    </tr>\n",
       "  </tbody>\n",
       "</table>\n",
       "<p>5 rows × 207 columns</p>\n",
       "</div>"
      ],
      "text/plain": [
       "   lineID  day    pid  adFlag  availability  competitorPrice  click  basket  \\\n",
       "0       1    1   6570       0             2            14.60      1       0   \n",
       "1       2    1  14922       1             1             8.57      0       1   \n",
       "2       3    1  16382       0             1            14.77      0       1   \n",
       "3       4    1   1145       1             1             6.59      0       0   \n",
       "4       5    1   3394       0             1             4.39      0       0   \n",
       "\n",
       "   order  price ...        186  187  188       189       190       191  \\\n",
       "0      0  16.89 ...   1.046115  0.0  0.0  0.037388  1.273642  0.011546   \n",
       "1      0   8.75 ...   1.068649  0.0  0.0  0.020120  1.319577  0.011546   \n",
       "2      0  16.06 ...   1.015012  0.0  0.0  0.023562  1.245092  0.258308   \n",
       "3      1   6.55 ...   1.016197  0.0  0.0  0.048767  1.244417  0.011546   \n",
       "4      1   4.14 ...   1.043700  0.0  0.0  0.029742  1.259859  0.258308   \n",
       "\n",
       "        192  193  194  195  \n",
       "0  4.244438  0.0  0.0  0.0  \n",
       "1  4.244438  0.0  0.0  0.0  \n",
       "2  6.122163  0.0  0.0  0.0  \n",
       "3  4.244438  0.0  0.0  0.0  \n",
       "4  6.122163  0.0  0.0  0.0  \n",
       "\n",
       "[5 rows x 207 columns]"
      ]
     },
     "execution_count": 108,
     "metadata": {},
     "output_type": "execute_result"
    }
   ],
   "source": [
    "result0 = pd.merge(df_train, df_items, how='inner', on=['pid']) #df_items_oh\n",
    "result0 = result0.sort_values(['lineID'], ascending = True)\n",
    "\n",
    "##################################################### hold on last month\n",
    "hold_result = result0[result0.day > 65]\n",
    "hold_result = hold_result.reset_index(drop = True)\n",
    "\n",
    "result = result0[result0.day <= 65]\n",
    "result = result.reset_index(drop = True)\n",
    "\n",
    "print('Number of hold_result: %d' % hold_result.shape[0])\n",
    "print('Number of result trainig: %d' % result.shape[0])\n",
    "result.head()"
   ]
  },
  {
   "cell_type": "markdown",
   "metadata": {},
   "source": [
    "## training time (base line: 73.23%)"
   ]
  },
  {
   "cell_type": "code",
   "execution_count": 110,
   "metadata": {
    "collapsed": false
   },
   "outputs": [
    {
     "data": {
      "text/html": [
       "<div>\n",
       "<table border=\"1\" class=\"dataframe\">\n",
       "  <thead>\n",
       "    <tr style=\"text-align: right;\">\n",
       "      <th></th>\n",
       "      <th>lineID</th>\n",
       "      <th>day</th>\n",
       "      <th>pid</th>\n",
       "      <th>competitorPrice</th>\n",
       "      <th>price</th>\n",
       "      <th>category</th>\n",
       "      <th>rrp</th>\n",
       "      <th>Content</th>\n",
       "      <th>adFlag</th>\n",
       "      <th>availability</th>\n",
       "      <th>...</th>\n",
       "      <th>186</th>\n",
       "      <th>187</th>\n",
       "      <th>188</th>\n",
       "      <th>189</th>\n",
       "      <th>190</th>\n",
       "      <th>191</th>\n",
       "      <th>192</th>\n",
       "      <th>193</th>\n",
       "      <th>194</th>\n",
       "      <th>195</th>\n",
       "    </tr>\n",
       "  </thead>\n",
       "  <tbody>\n",
       "    <tr>\n",
       "      <th>0</th>\n",
       "      <td>-1.732050</td>\n",
       "      <td>-1.958201</td>\n",
       "      <td>-0.602422</td>\n",
       "      <td>0.153581</td>\n",
       "      <td>0.230951</td>\n",
       "      <td>0.840832</td>\n",
       "      <td>0.002081</td>\n",
       "      <td>-0.143097</td>\n",
       "      <td>0</td>\n",
       "      <td>2</td>\n",
       "      <td>...</td>\n",
       "      <td>1.046115</td>\n",
       "      <td>0.0</td>\n",
       "      <td>0.0</td>\n",
       "      <td>0.037388</td>\n",
       "      <td>1.273642</td>\n",
       "      <td>0.011546</td>\n",
       "      <td>4.244438</td>\n",
       "      <td>0.0</td>\n",
       "      <td>0.0</td>\n",
       "      <td>0.0</td>\n",
       "    </tr>\n",
       "    <tr>\n",
       "      <th>1</th>\n",
       "      <td>-1.732048</td>\n",
       "      <td>-1.958201</td>\n",
       "      <td>0.689669</td>\n",
       "      <td>-0.334932</td>\n",
       "      <td>-0.371538</td>\n",
       "      <td>-0.538213</td>\n",
       "      <td>0.032538</td>\n",
       "      <td>-0.143097</td>\n",
       "      <td>1</td>\n",
       "      <td>1</td>\n",
       "      <td>...</td>\n",
       "      <td>1.068649</td>\n",
       "      <td>0.0</td>\n",
       "      <td>0.0</td>\n",
       "      <td>0.020120</td>\n",
       "      <td>1.319577</td>\n",
       "      <td>0.011546</td>\n",
       "      <td>4.244438</td>\n",
       "      <td>0.0</td>\n",
       "      <td>0.0</td>\n",
       "      <td>0.0</td>\n",
       "    </tr>\n",
       "    <tr>\n",
       "      <th>2</th>\n",
       "      <td>-1.732046</td>\n",
       "      <td>-1.958201</td>\n",
       "      <td>0.915537</td>\n",
       "      <td>0.167354</td>\n",
       "      <td>0.169518</td>\n",
       "      <td>-0.820537</td>\n",
       "      <td>0.014590</td>\n",
       "      <td>-0.033341</td>\n",
       "      <td>0</td>\n",
       "      <td>1</td>\n",
       "      <td>...</td>\n",
       "      <td>1.015012</td>\n",
       "      <td>0.0</td>\n",
       "      <td>0.0</td>\n",
       "      <td>0.023562</td>\n",
       "      <td>1.245092</td>\n",
       "      <td>0.258308</td>\n",
       "      <td>6.122163</td>\n",
       "      <td>0.0</td>\n",
       "      <td>0.0</td>\n",
       "      <td>0.0</td>\n",
       "    </tr>\n",
       "    <tr>\n",
       "      <th>3</th>\n",
       "      <td>-1.732044</td>\n",
       "      <td>-1.958201</td>\n",
       "      <td>-1.441693</td>\n",
       "      <td>-0.495339</td>\n",
       "      <td>-0.534373</td>\n",
       "      <td>-0.983416</td>\n",
       "      <td>-0.484151</td>\n",
       "      <td>-0.121146</td>\n",
       "      <td>1</td>\n",
       "      <td>1</td>\n",
       "      <td>...</td>\n",
       "      <td>1.016197</td>\n",
       "      <td>0.0</td>\n",
       "      <td>0.0</td>\n",
       "      <td>0.048767</td>\n",
       "      <td>1.244417</td>\n",
       "      <td>0.011546</td>\n",
       "      <td>4.244438</td>\n",
       "      <td>0.0</td>\n",
       "      <td>0.0</td>\n",
       "      <td>0.0</td>\n",
       "    </tr>\n",
       "    <tr>\n",
       "      <th>4</th>\n",
       "      <td>-1.732042</td>\n",
       "      <td>-1.958201</td>\n",
       "      <td>-1.093763</td>\n",
       "      <td>-0.673569</td>\n",
       "      <td>-0.712751</td>\n",
       "      <td>-1.102861</td>\n",
       "      <td>-0.548330</td>\n",
       "      <td>-0.143097</td>\n",
       "      <td>0</td>\n",
       "      <td>1</td>\n",
       "      <td>...</td>\n",
       "      <td>1.043700</td>\n",
       "      <td>0.0</td>\n",
       "      <td>0.0</td>\n",
       "      <td>0.029742</td>\n",
       "      <td>1.259859</td>\n",
       "      <td>0.258308</td>\n",
       "      <td>6.122163</td>\n",
       "      <td>0.0</td>\n",
       "      <td>0.0</td>\n",
       "      <td>0.0</td>\n",
       "    </tr>\n",
       "  </tbody>\n",
       "</table>\n",
       "<p>5 rows × 201 columns</p>\n",
       "</div>"
      ],
      "text/plain": [
       "     lineID       day       pid  competitorPrice     price  category  \\\n",
       "0 -1.732050 -1.958201 -0.602422         0.153581  0.230951  0.840832   \n",
       "1 -1.732048 -1.958201  0.689669        -0.334932 -0.371538 -0.538213   \n",
       "2 -1.732046 -1.958201  0.915537         0.167354  0.169518 -0.820537   \n",
       "3 -1.732044 -1.958201 -1.441693        -0.495339 -0.534373 -0.983416   \n",
       "4 -1.732042 -1.958201 -1.093763        -0.673569 -0.712751 -1.102861   \n",
       "\n",
       "        rrp   Content  adFlag  availability ...        186  187  188  \\\n",
       "0  0.002081 -0.143097       0             2 ...   1.046115  0.0  0.0   \n",
       "1  0.032538 -0.143097       1             1 ...   1.068649  0.0  0.0   \n",
       "2  0.014590 -0.033341       0             1 ...   1.015012  0.0  0.0   \n",
       "3 -0.484151 -0.121146       1             1 ...   1.016197  0.0  0.0   \n",
       "4 -0.548330 -0.143097       0             1 ...   1.043700  0.0  0.0   \n",
       "\n",
       "        189       190       191       192  193  194  195  \n",
       "0  0.037388  1.273642  0.011546  4.244438  0.0  0.0  0.0  \n",
       "1  0.020120  1.319577  0.011546  4.244438  0.0  0.0  0.0  \n",
       "2  0.023562  1.245092  0.258308  6.122163  0.0  0.0  0.0  \n",
       "3  0.048767  1.244417  0.011546  4.244438  0.0  0.0  0.0  \n",
       "4  0.029742  1.259859  0.258308  6.122163  0.0  0.0  0.0  \n",
       "\n",
       "[5 rows x 201 columns]"
      ]
     },
     "execution_count": 110,
     "metadata": {},
     "output_type": "execute_result"
    }
   ],
   "source": [
    "X = result.drop([\"class_label\", \"number\", \"click\", \"basket\", \"order\", \"revenue\"], axis = 1)\n",
    "Y = result[[\"class_label\", \"number\"]]\n",
    "\n",
    "### standardized X\n",
    "columns_conti = [\"lineID\",\"day\",\"pid\",\"competitorPrice\",\"price\",\"category\",\"rrp\",\"Content\"]\n",
    "X_conti = X[columns_conti]\n",
    "sc = StandardScaler(copy=True, with_mean = True, with_std = True)\n",
    "X_std = pd.DataFrame(sc.fit_transform(X_conti), columns = columns_conti)\n",
    "X_cate = X.drop(columns_conti, axis = 1)\n",
    "X = pd.concat([X_std, X_cate], axis=1)\n",
    "X.head()"
   ]
  },
  {
   "cell_type": "code",
   "execution_count": 115,
   "metadata": {
    "collapsed": true
   },
   "outputs": [],
   "source": [
    "def split(X, y):\n",
    "    X_train, X_test, y_train, y_test = train_test_split(X, y, test_size=0.2, random_state=0)\n",
    "    print('Number of training: %d' % X_train.shape[0])\n",
    "    print('Number of testing: %d' % X_test.shape[0])\n",
    "    return X_train, X_test, y_train, y_test"
   ]
  },
  {
   "cell_type": "code",
   "execution_count": 117,
   "metadata": {
    "collapsed": true
   },
   "outputs": [],
   "source": [
    "def cross_val(model, number_cv):\n",
    "    scores_dt0 = cross_val_score(model, X_train, y_train, cv = number_cv, n_jobs = 4)  \n",
    "    scores_dt = np.sum(scores_dt0) / number_cv\n",
    "    \n",
    "    print(\"===cross_val===\")  \n",
    "    print(scores_dt)  "
   ]
  },
  {
   "cell_type": "code",
   "execution_count": 118,
   "metadata": {
    "collapsed": false,
    "scrolled": true
   },
   "outputs": [
    {
     "name": "stdout",
     "output_type": "stream",
     "text": [
      "Number of training: 1492850\n",
      "Number of testing: 373213\n"
     ]
    }
   ],
   "source": [
    "X_train, X_test, y_train, y_test = split(X, Y[\"number\"])"
   ]
  },
  {
   "cell_type": "markdown",
   "metadata": {},
   "source": [
    "## RandomForestRegressor"
   ]
  },
  {
   "cell_type": "code",
   "execution_count": 119,
   "metadata": {
    "collapsed": true
   },
   "outputs": [],
   "source": [
    "rfr = RandomForestRegressor(n_estimators = 100, \n",
    "                            max_features = 'log2', \n",
    "                            criterion = 'mse', \n",
    "                            max_depth = None, \n",
    "                            min_samples_split = 20, \n",
    "                            min_samples_leaf = 10, \n",
    "                            min_weight_fraction_leaf = 0.0, \n",
    "                            max_leaf_nodes = None, \n",
    "                            min_impurity_split = 1e-07, \n",
    "                            bootstrap = True, \n",
    "                            oob_score = True, \n",
    "                            n_jobs = 1, \n",
    "                            random_state = 0, \n",
    "                            verbose = 0, \n",
    "                            warm_start = False)"
   ]
  },
  {
   "cell_type": "code",
   "execution_count": 122,
   "metadata": {
    "collapsed": false
   },
   "outputs": [],
   "source": [
    "#cross_val(rfr, 5)"
   ]
  },
  {
   "cell_type": "code",
   "execution_count": null,
   "metadata": {
    "collapsed": true
   },
   "outputs": [],
   "source": [
    "rfr.fit(X_train, y_train)\n",
    "pred = rfr.predict(X_test).reshape(y_test.shape[0], 1)  \n",
    "print(rfr.oob_score_)\n",
    "\n",
    "score = np.dot((pred - y_test).T, (pred - y_test))  \n",
    "print(\"===Euclidean Distance===\")  \n",
    "print(score[0, 0])  \n",
    "\n",
    "a = pd.DataFrame(np.concatenate((np.array(y_test), pred), axis=1))  \n",
    "a.columns = [\"test\", \"pred\"]  \n",
    "\n",
    "a.plot.scatter(x = 'test', y = 'pred', s = 10, alpha = 0.2)  \n",
    "plt.show()  "
   ]
  },
  {
   "cell_type": "markdown",
   "metadata": {},
   "source": [
    "> order = 1  \n",
    "14368734.289, 0.557460340944    \n",
    "11113583.7032, new"
   ]
  },
  {
   "cell_type": "markdown",
   "metadata": {},
   "source": [
    "## DecisionTreeClassifier"
   ]
  },
  {
   "cell_type": "code",
   "execution_count": 120,
   "metadata": {
    "collapsed": true
   },
   "outputs": [],
   "source": [
    "def classification_processing(model):\n",
    "    model.fit(X_train, y_train)\n",
    "    print(\"training down\")\n",
    "    y_pred = model.predict(X_test).reshape(y_test.shape[0], 1)\n",
    "    print('Misclassified samples: %d' % (y_test != y_pred).sum())\n",
    "    print('Accuracy : %.2f' % ((y_test == y_pred).sum() / y_test.shape[0]))\n",
    "    print('Accuracy (sklearn): %.2f' % accuracy_score(y_test, y_pred))\n",
    "    print(\"==confusion matrix==\")\n",
    "    print(confusion_matrix(y_test, y_pred, labels = [0,1], sample_weight = None))"
   ]
  },
  {
   "cell_type": "code",
   "execution_count": 124,
   "metadata": {
    "collapsed": false
   },
   "outputs": [
    {
     "name": "stdout",
     "output_type": "stream",
     "text": [
      "Number of training: 1492850\n",
      "Number of testing: 373213\n"
     ]
    }
   ],
   "source": [
    "X_train, X_test, y_train, y_test = split(X, Y[\"class_label\"])"
   ]
  },
  {
   "cell_type": "code",
   "execution_count": 125,
   "metadata": {
    "collapsed": false
   },
   "outputs": [],
   "source": [
    "tree = DecisionTreeClassifier(criterion = 'entropy', \n",
    "                              max_depth = 3, \n",
    "                              random_state = 0,\n",
    "                              class_weight = {1: (len(click) + len(basket))/len(order), 0: 1.0})"
   ]
  },
  {
   "cell_type": "code",
   "execution_count": null,
   "metadata": {
    "collapsed": false
   },
   "outputs": [
    {
     "name": "stdout",
     "output_type": "stream",
     "text": [
      "===Decision Tree===\n",
      "training down\n"
     ]
    }
   ],
   "source": [
    "print(\"===Decision Tree===\")\n",
    "classification_processing(tree)"
   ]
  },
  {
   "cell_type": "markdown",
   "metadata": {},
   "source": [
    "## BaggingClassifier"
   ]
  },
  {
   "cell_type": "code",
   "execution_count": 67,
   "metadata": {
    "collapsed": true
   },
   "outputs": [],
   "source": [
    "from sklearn.ensemble import BaggingClassifier  \n",
    "bc = BaggingClassifier(base_estimator = tree,  \n",
    "                       n_estimators = 10,  \n",
    "                       max_samples = 1.0,  \n",
    "                       max_features = 1.0,  \n",
    "                       bootstrap = True,  \n",
    "                       bootstrap_features = False,  \n",
    "                       oob_score = False,  \n",
    "                       warm_start = False,  \n",
    "                       n_jobs = 1,  \n",
    "                       random_state = None,  \n",
    "                       verbose = 0)    "
   ]
  },
  {
   "cell_type": "code",
   "execution_count": 68,
   "metadata": {
    "collapsed": false
   },
   "outputs": [
    {
     "name": "stdout",
     "output_type": "stream",
     "text": [
      "===Bagging===\n"
     ]
    },
    {
     "name": "stderr",
     "output_type": "stream",
     "text": [
      "/anaconda/lib/python3.6/site-packages/sklearn/utils/validation.py:526: DataConversionWarning: A column-vector y was passed when a 1d array was expected. Please change the shape of y to (n_samples, ), for example using ravel().\n",
      "  y = column_or_1d(y, warn=True)\n"
     ]
    },
    {
     "name": "stdout",
     "output_type": "stream",
     "text": [
      "training down\n",
      "Misclassified samples: 1934\n",
      "Accuracy : 0.43\n",
      "Accuracy (sklearn): 0.43\n",
      "==confusion matrix==\n",
      "[[ 222 1922]\n",
      " [  12 1238]]\n"
     ]
    }
   ],
   "source": [
    "print(\"===Bagging===\")\n",
    "classification_processing(bc)"
   ]
  },
  {
   "cell_type": "markdown",
   "metadata": {},
   "source": [
    "## AdaBoostClassifier"
   ]
  },
  {
   "cell_type": "code",
   "execution_count": 69,
   "metadata": {
    "collapsed": false
   },
   "outputs": [],
   "source": [
    "from sklearn.ensemble import AdaBoostClassifier\n",
    "abc = AdaBoostClassifier(base_estimator = tree,\n",
    "                         n_estimators=50,\n",
    "                         learning_rate=1.0,\n",
    "                         algorithm='SAMME.R',\n",
    "                         random_state=None)"
   ]
  },
  {
   "cell_type": "code",
   "execution_count": 70,
   "metadata": {
    "collapsed": false
   },
   "outputs": [
    {
     "name": "stdout",
     "output_type": "stream",
     "text": [
      "===AdaBoost===\n"
     ]
    },
    {
     "name": "stderr",
     "output_type": "stream",
     "text": [
      "/anaconda/lib/python3.6/site-packages/sklearn/utils/validation.py:526: DataConversionWarning: A column-vector y was passed when a 1d array was expected. Please change the shape of y to (n_samples, ), for example using ravel().\n",
      "  y = column_or_1d(y, warn=True)\n"
     ]
    },
    {
     "name": "stdout",
     "output_type": "stream",
     "text": [
      "training down\n",
      "Misclassified samples: 1656\n",
      "Accuracy : 0.51\n",
      "Accuracy (sklearn): 0.51\n",
      "==confusion matrix==\n",
      "[[ 712 1432]\n",
      " [ 224 1026]]\n"
     ]
    }
   ],
   "source": [
    "print(\"===AdaBoost===\")\n",
    "classification_processing(abc)"
   ]
  },
  {
   "cell_type": "code",
   "execution_count": null,
   "metadata": {
    "collapsed": true
   },
   "outputs": [],
   "source": []
  }
 ],
 "metadata": {
  "kernelspec": {
   "display_name": "Python 3",
   "language": "python",
   "name": "python3"
  },
  "language_info": {
   "codemirror_mode": {
    "name": "ipython",
    "version": 3
   },
   "file_extension": ".py",
   "mimetype": "text/x-python",
   "name": "python",
   "nbconvert_exporter": "python",
   "pygments_lexer": "ipython3",
   "version": "3.6.0"
  }
 },
 "nbformat": 4,
 "nbformat_minor": 2
}
